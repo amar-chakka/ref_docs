{
 "cells": [
  {
   "cell_type": "markdown",
   "metadata": {
    "toc": true
   },
   "source": [
    "<h1>Table of Contents<span class=\"tocSkip\"></span></h1>\n",
    "<div class=\"toc\"><ul class=\"toc-item\"><li><span><a href=\"#Importing-Libraries\" data-toc-modified-id=\"Importing-Libraries-1\"><span class=\"toc-item-num\">1&nbsp;&nbsp;</span>Importing Libraries</a></span></li><li><span><a href=\"#Data-Prep\" data-toc-modified-id=\"Data-Prep-2\"><span class=\"toc-item-num\">2&nbsp;&nbsp;</span>Data Prep</a></span><ul class=\"toc-item\"><li><span><a href=\"#Feature-Engineering\" data-toc-modified-id=\"Feature-Engineering-2.1\"><span class=\"toc-item-num\">2.1&nbsp;&nbsp;</span>Feature Engineering</a></span><ul class=\"toc-item\"><li><span><a href=\"#Handling-non-num-features\" data-toc-modified-id=\"Handling-non-num-features-2.1.1\"><span class=\"toc-item-num\">2.1.1&nbsp;&nbsp;</span>Handling non-num features</a></span></li></ul></li><li><span><a href=\"#Encoding-Cat-Data\" data-toc-modified-id=\"Encoding-Cat-Data-2.2\"><span class=\"toc-item-num\">2.2&nbsp;&nbsp;</span>Encoding Cat Data</a></span></li><li><span><a href=\"#Train-Test-Validation-Split\" data-toc-modified-id=\"Train-Test-Validation-Split-2.3\"><span class=\"toc-item-num\">2.3&nbsp;&nbsp;</span>Train Test Validation Split</a></span></li><li><span><a href=\"#Outliers\" data-toc-modified-id=\"Outliers-2.4\"><span class=\"toc-item-num\">2.4&nbsp;&nbsp;</span>Outliers</a></span><ul class=\"toc-item\"><li><span><a href=\"#Multivariate-Outlier-Detection\" data-toc-modified-id=\"Multivariate-Outlier-Detection-2.4.1\"><span class=\"toc-item-num\">2.4.1&nbsp;&nbsp;</span>Multivariate Outlier Detection</a></span></li></ul></li><li><span><a href=\"#Data-Scaling\" data-toc-modified-id=\"Data-Scaling-2.5\"><span class=\"toc-item-num\">2.5&nbsp;&nbsp;</span>Data Scaling</a></span></li><li><span><a href=\"#Feature-Selection\" data-toc-modified-id=\"Feature-Selection-2.6\"><span class=\"toc-item-num\">2.6&nbsp;&nbsp;</span>Feature Selection</a></span><ul class=\"toc-item\"><li><span><a href=\"#std-==-0\" data-toc-modified-id=\"std-==-0-2.6.1\"><span class=\"toc-item-num\">2.6.1&nbsp;&nbsp;</span>std == 0</a></span></li><li><span><a href=\"#PCA\" data-toc-modified-id=\"PCA-2.6.2\"><span class=\"toc-item-num\">2.6.2&nbsp;&nbsp;</span>PCA</a></span></li></ul></li></ul></li><li><span><a href=\"#Machine-Learning\" data-toc-modified-id=\"Machine-Learning-3\"><span class=\"toc-item-num\">3&nbsp;&nbsp;</span>Machine Learning</a></span><ul class=\"toc-item\"><li><span><a href=\"#Building-Models\" data-toc-modified-id=\"Building-Models-3.1\"><span class=\"toc-item-num\">3.1&nbsp;&nbsp;</span>Building Models</a></span><ul class=\"toc-item\"><li><span><a href=\"#Common-Functions\" data-toc-modified-id=\"Common-Functions-3.1.1\"><span class=\"toc-item-num\">3.1.1&nbsp;&nbsp;</span>Common Functions</a></span></li><li><span><a href=\"#Linear-Regression\" data-toc-modified-id=\"Linear-Regression-3.1.2\"><span class=\"toc-item-num\">3.1.2&nbsp;&nbsp;</span>Linear Regression</a></span><ul class=\"toc-item\"><li><span><a href=\"#Baseline\" data-toc-modified-id=\"Baseline-3.1.2.1\"><span class=\"toc-item-num\">3.1.2.1&nbsp;&nbsp;</span>Baseline</a></span></li><li><span><a href=\"#Tuning-Regularisation-Parameter\" data-toc-modified-id=\"Tuning-Regularisation-Parameter-3.1.2.2\"><span class=\"toc-item-num\">3.1.2.2&nbsp;&nbsp;</span>Tuning Regularisation Parameter</a></span></li><li><span><a href=\"#Tuning-L1-ratio\" data-toc-modified-id=\"Tuning-L1-ratio-3.1.2.3\"><span class=\"toc-item-num\">3.1.2.3&nbsp;&nbsp;</span>Tuning L1 ratio</a></span></li><li><span><a href=\"#Tuning-penalty-(with-corresponding-solvers)\" data-toc-modified-id=\"Tuning-penalty-(with-corresponding-solvers)-3.1.2.4\"><span class=\"toc-item-num\">3.1.2.4&nbsp;&nbsp;</span>Tuning penalty (with corresponding solvers)</a></span></li><li><span><a href=\"#Applying-best-params-manually-basis-observations\" data-toc-modified-id=\"Applying-best-params-manually-basis-observations-3.1.2.5\"><span class=\"toc-item-num\">3.1.2.5&nbsp;&nbsp;</span>Applying best params manually basis observations</a></span></li><li><span><a href=\"#Tuning-using-Random-Search-CV\" data-toc-modified-id=\"Tuning-using-Random-Search-CV-3.1.2.6\"><span class=\"toc-item-num\">3.1.2.6&nbsp;&nbsp;</span>Tuning using Random Search CV</a></span></li><li><span><a href=\"#Tuning-Manually\" data-toc-modified-id=\"Tuning-Manually-3.1.2.7\"><span class=\"toc-item-num\">3.1.2.7&nbsp;&nbsp;</span>Tuning Manually</a></span></li><li><span><a href=\"#Final-Model\" data-toc-modified-id=\"Final-Model-3.1.2.8\"><span class=\"toc-item-num\">3.1.2.8&nbsp;&nbsp;</span>Final Model</a></span></li><li><span><a href=\"#Applying-Cross-Validation-to-the-Final-Model\" data-toc-modified-id=\"Applying-Cross-Validation-to-the-Final-Model-3.1.2.9\"><span class=\"toc-item-num\">3.1.2.9&nbsp;&nbsp;</span>Applying Cross Validation to the Final Model</a></span></li></ul></li><li><span><a href=\"#Decision-Tree-Regressor\" data-toc-modified-id=\"Decision-Tree-Regressor-3.1.3\"><span class=\"toc-item-num\">3.1.3&nbsp;&nbsp;</span>Decision Tree Regressor</a></span><ul class=\"toc-item\"><li><span><a href=\"#Baseline\" data-toc-modified-id=\"Baseline-3.1.3.1\"><span class=\"toc-item-num\">3.1.3.1&nbsp;&nbsp;</span>Baseline</a></span></li><li><span><a href=\"#Tuning-the-criterion-hyperparameter\" data-toc-modified-id=\"Tuning-the-criterion-hyperparameter-3.1.3.2\"><span class=\"toc-item-num\">3.1.3.2&nbsp;&nbsp;</span>Tuning the criterion hyperparameter</a></span></li><li><span><a href=\"#Tuning-the-max-features-hp\" data-toc-modified-id=\"Tuning-the-max-features-hp-3.1.3.3\"><span class=\"toc-item-num\">3.1.3.3&nbsp;&nbsp;</span>Tuning the max features hp</a></span></li><li><span><a href=\"#Tuning-the-min-samples-leaf-hp\" data-toc-modified-id=\"Tuning-the-min-samples-leaf-hp-3.1.3.4\"><span class=\"toc-item-num\">3.1.3.4&nbsp;&nbsp;</span>Tuning the min samples leaf hp</a></span></li><li><span><a href=\"#Tuning-the-max-depth-hp\" data-toc-modified-id=\"Tuning-the-max-depth-hp-3.1.3.5\"><span class=\"toc-item-num\">3.1.3.5&nbsp;&nbsp;</span>Tuning the max depth hp</a></span></li><li><span><a href=\"#Tuning-the-min-samples-split-hp\" data-toc-modified-id=\"Tuning-the-min-samples-split-hp-3.1.3.6\"><span class=\"toc-item-num\">3.1.3.6&nbsp;&nbsp;</span>Tuning the min samples split hp</a></span></li></ul></li><li><span><a href=\"#Random-Forest-Regressor\" data-toc-modified-id=\"Random-Forest-Regressor-3.1.4\"><span class=\"toc-item-num\">3.1.4&nbsp;&nbsp;</span>Random Forest Regressor</a></span><ul class=\"toc-item\"><li><span><a href=\"#Baseline\" data-toc-modified-id=\"Baseline-3.1.4.1\"><span class=\"toc-item-num\">3.1.4.1&nbsp;&nbsp;</span>Baseline</a></span></li><li><span><a href=\"#Tuning-n_estimators\" data-toc-modified-id=\"Tuning-n_estimators-3.1.4.2\"><span class=\"toc-item-num\">3.1.4.2&nbsp;&nbsp;</span>Tuning n_estimators</a></span></li><li><span><a href=\"#Tuning-Criterion\" data-toc-modified-id=\"Tuning-Criterion-3.1.4.3\"><span class=\"toc-item-num\">3.1.4.3&nbsp;&nbsp;</span>Tuning Criterion</a></span></li><li><span><a href=\"#Tuning-max-depth\" data-toc-modified-id=\"Tuning-max-depth-3.1.4.4\"><span class=\"toc-item-num\">3.1.4.4&nbsp;&nbsp;</span>Tuning max depth</a></span></li><li><span><a href=\"#Tuning-min-samples-split\" data-toc-modified-id=\"Tuning-min-samples-split-3.1.4.5\"><span class=\"toc-item-num\">3.1.4.5&nbsp;&nbsp;</span>Tuning min samples split</a></span></li><li><span><a href=\"#Tuning-warm-start\" data-toc-modified-id=\"Tuning-warm-start-3.1.4.6\"><span class=\"toc-item-num\">3.1.4.6&nbsp;&nbsp;</span>Tuning warm start</a></span></li></ul></li><li><span><a href=\"#KNN-Regressor\" data-toc-modified-id=\"KNN-Regressor-3.1.5\"><span class=\"toc-item-num\">3.1.5&nbsp;&nbsp;</span>KNN Regressor</a></span><ul class=\"toc-item\"><li><span><a href=\"#Baseline\" data-toc-modified-id=\"Baseline-3.1.5.1\"><span class=\"toc-item-num\">3.1.5.1&nbsp;&nbsp;</span>Baseline</a></span></li><li><span><a href=\"#Tuning-n_neighbours\" data-toc-modified-id=\"Tuning-n_neighbours-3.1.5.2\"><span class=\"toc-item-num\">3.1.5.2&nbsp;&nbsp;</span>Tuning n_neighbours</a></span></li><li><span><a href=\"#Tuning-weights\" data-toc-modified-id=\"Tuning-weights-3.1.5.3\"><span class=\"toc-item-num\">3.1.5.3&nbsp;&nbsp;</span>Tuning weights</a></span></li><li><span><a href=\"#Tuning-algo-of-dist-calculation\" data-toc-modified-id=\"Tuning-algo-of-dist-calculation-3.1.5.4\"><span class=\"toc-item-num\">3.1.5.4&nbsp;&nbsp;</span>Tuning algo of dist calculation</a></span></li><li><span><a href=\"#Tuning-power-p\" data-toc-modified-id=\"Tuning-power-p-3.1.5.5\"><span class=\"toc-item-num\">3.1.5.5&nbsp;&nbsp;</span>Tuning power p</a></span></li><li><span><a href=\"#Tuning-dist-metric\" data-toc-modified-id=\"Tuning-dist-metric-3.1.5.6\"><span class=\"toc-item-num\">3.1.5.6&nbsp;&nbsp;</span>Tuning dist metric</a></span></li></ul></li><li><span><a href=\"#Support-Vector-Regressor\" data-toc-modified-id=\"Support-Vector-Regressor-3.1.6\"><span class=\"toc-item-num\">3.1.6&nbsp;&nbsp;</span>Support Vector Regressor</a></span><ul class=\"toc-item\"><li><span><a href=\"#Baseline\" data-toc-modified-id=\"Baseline-3.1.6.1\"><span class=\"toc-item-num\">3.1.6.1&nbsp;&nbsp;</span>Baseline</a></span></li><li><span><a href=\"#Tuning-reg-hp-C\" data-toc-modified-id=\"Tuning-reg-hp-C-3.1.6.2\"><span class=\"toc-item-num\">3.1.6.2&nbsp;&nbsp;</span>Tuning reg hp C</a></span></li><li><span><a href=\"#Tuning-kernel\" data-toc-modified-id=\"Tuning-kernel-3.1.6.3\"><span class=\"toc-item-num\">3.1.6.3&nbsp;&nbsp;</span>Tuning kernel</a></span></li><li><span><a href=\"#Tuning-degree\" data-toc-modified-id=\"Tuning-degree-3.1.6.4\"><span class=\"toc-item-num\">3.1.6.4&nbsp;&nbsp;</span>Tuning degree</a></span></li><li><span><a href=\"#Tuning-gamma\" data-toc-modified-id=\"Tuning-gamma-3.1.6.5\"><span class=\"toc-item-num\">3.1.6.5&nbsp;&nbsp;</span>Tuning gamma</a></span></li></ul></li><li><span><a href=\"#Voting-Regressor\" data-toc-modified-id=\"Voting-Regressor-3.1.7\"><span class=\"toc-item-num\">3.1.7&nbsp;&nbsp;</span>Voting Regressor</a></span><ul class=\"toc-item\"><li><span><a href=\"#Baseline\" data-toc-modified-id=\"Baseline-3.1.7.1\"><span class=\"toc-item-num\">3.1.7.1&nbsp;&nbsp;</span>Baseline</a></span></li></ul></li><li><span><a href=\"#Bagging-Regressor\" data-toc-modified-id=\"Bagging-Regressor-3.1.8\"><span class=\"toc-item-num\">3.1.8&nbsp;&nbsp;</span>Bagging Regressor</a></span><ul class=\"toc-item\"><li><span><a href=\"#Bagging-with-Linear-Regression\" data-toc-modified-id=\"Bagging-with-Linear-Regression-3.1.8.1\"><span class=\"toc-item-num\">3.1.8.1&nbsp;&nbsp;</span>Bagging with Linear Regression</a></span></li><li><span><a href=\"#Bagging-with-Decision-Tree\" data-toc-modified-id=\"Bagging-with-Decision-Tree-3.1.8.2\"><span class=\"toc-item-num\">3.1.8.2&nbsp;&nbsp;</span>Bagging with Decision Tree</a></span></li><li><span><a href=\"#Bagging-with-Random-Forest-Regressor\" data-toc-modified-id=\"Bagging-with-Random-Forest-Regressor-3.1.8.3\"><span class=\"toc-item-num\">3.1.8.3&nbsp;&nbsp;</span>Bagging with Random Forest Regressor</a></span></li><li><span><a href=\"#Bagging-with-KNN-Regressor\" data-toc-modified-id=\"Bagging-with-KNN-Regressor-3.1.8.4\"><span class=\"toc-item-num\">3.1.8.4&nbsp;&nbsp;</span>Bagging with KNN Regressor</a></span></li><li><span><a href=\"#Bagging-with-SVC-Regressor\" data-toc-modified-id=\"Bagging-with-SVC-Regressor-3.1.8.5\"><span class=\"toc-item-num\">3.1.8.5&nbsp;&nbsp;</span>Bagging with SVC Regressor</a></span></li></ul></li><li><span><a href=\"#Adaboost-Regressor\" data-toc-modified-id=\"Adaboost-Regressor-3.1.9\"><span class=\"toc-item-num\">3.1.9&nbsp;&nbsp;</span>Adaboost Regressor</a></span><ul class=\"toc-item\"><li><span><a href=\"#Boosting-with-Linear-Regression\" data-toc-modified-id=\"Boosting-with-Linear-Regression-3.1.9.1\"><span class=\"toc-item-num\">3.1.9.1&nbsp;&nbsp;</span>Boosting with Linear Regression</a></span></li><li><span><a href=\"#Boosting-with-Decision-Tree-Regressor\" data-toc-modified-id=\"Boosting-with-Decision-Tree-Regressor-3.1.9.2\"><span class=\"toc-item-num\">3.1.9.2&nbsp;&nbsp;</span>Boosting with Decision Tree Regressor</a></span></li><li><span><a href=\"#Boosting-with-Random-Forest-Regressor\" data-toc-modified-id=\"Boosting-with-Random-Forest-Regressor-3.1.9.3\"><span class=\"toc-item-num\">3.1.9.3&nbsp;&nbsp;</span>Boosting with Random Forest Regressor</a></span></li><li><span><a href=\"#Boosting-with-KNN-Regressor\" data-toc-modified-id=\"Boosting-with-KNN-Regressor-3.1.9.4\"><span class=\"toc-item-num\">3.1.9.4&nbsp;&nbsp;</span>Boosting with KNN Regressor</a></span></li><li><span><a href=\"#Boosting-with-SVC-Regressor\" data-toc-modified-id=\"Boosting-with-SVC-Regressor-3.1.9.5\"><span class=\"toc-item-num\">3.1.9.5&nbsp;&nbsp;</span>Boosting with SVC Regressor</a></span></li></ul></li><li><span><a href=\"#Gradient-Boosting-Regressor\" data-toc-modified-id=\"Gradient-Boosting-Regressor-3.1.10\"><span class=\"toc-item-num\">3.1.10&nbsp;&nbsp;</span>Gradient Boosting Regressor</a></span><ul class=\"toc-item\"><li><span><a href=\"#Baseline\" data-toc-modified-id=\"Baseline-3.1.10.1\"><span class=\"toc-item-num\">3.1.10.1&nbsp;&nbsp;</span>Baseline</a></span></li><li><span><a href=\"#Tuning-learning-rate\" data-toc-modified-id=\"Tuning-learning-rate-3.1.10.2\"><span class=\"toc-item-num\">3.1.10.2&nbsp;&nbsp;</span>Tuning learning rate</a></span></li><li><span><a href=\"#Tuning-num-of-estimators\" data-toc-modified-id=\"Tuning-num-of-estimators-3.1.10.3\"><span class=\"toc-item-num\">3.1.10.3&nbsp;&nbsp;</span>Tuning num of estimators</a></span></li><li><span><a href=\"#Tuning-criterion\" data-toc-modified-id=\"Tuning-criterion-3.1.10.4\"><span class=\"toc-item-num\">3.1.10.4&nbsp;&nbsp;</span>Tuning criterion</a></span></li><li><span><a href=\"#Tuning-max-depth\" data-toc-modified-id=\"Tuning-max-depth-3.1.10.5\"><span class=\"toc-item-num\">3.1.10.5&nbsp;&nbsp;</span>Tuning max depth</a></span></li><li><span><a href=\"#Tuning-max-features\" data-toc-modified-id=\"Tuning-max-features-3.1.10.6\"><span class=\"toc-item-num\">3.1.10.6&nbsp;&nbsp;</span>Tuning max features</a></span></li></ul></li><li><span><a href=\"#SGD-Regressor\" data-toc-modified-id=\"SGD-Regressor-3.1.11\"><span class=\"toc-item-num\">3.1.11&nbsp;&nbsp;</span>SGD Regressor</a></span><ul class=\"toc-item\"><li><span><a href=\"#Baseline\" data-toc-modified-id=\"Baseline-3.1.11.1\"><span class=\"toc-item-num\">3.1.11.1&nbsp;&nbsp;</span>Baseline</a></span></li></ul></li><li><span><a href=\"#XGB-Regressor\" data-toc-modified-id=\"XGB-Regressor-3.1.12\"><span class=\"toc-item-num\">3.1.12&nbsp;&nbsp;</span>XGB Regressor</a></span><ul class=\"toc-item\"><li><span><a href=\"#Baseline-with-Tree-Model-Boosting\" data-toc-modified-id=\"Baseline-with-Tree-Model-Boosting-3.1.12.1\"><span class=\"toc-item-num\">3.1.12.1&nbsp;&nbsp;</span>Baseline with Tree Model Boosting</a></span></li><li><span><a href=\"#Baseline-with-Linear-Model-Boosting\" data-toc-modified-id=\"Baseline-with-Linear-Model-Boosting-3.1.12.2\"><span class=\"toc-item-num\">3.1.12.2&nbsp;&nbsp;</span>Baseline with Linear Model Boosting</a></span></li><li><span><a href=\"#Tuning-subsample\" data-toc-modified-id=\"Tuning-subsample-3.1.12.3\"><span class=\"toc-item-num\">3.1.12.3&nbsp;&nbsp;</span>Tuning subsample</a></span></li><li><span><a href=\"#Tuning-colsample-by-tree\" data-toc-modified-id=\"Tuning-colsample-by-tree-3.1.12.4\"><span class=\"toc-item-num\">3.1.12.4&nbsp;&nbsp;</span>Tuning colsample by tree</a></span></li><li><span><a href=\"#Tuning-colsample-by-level\" data-toc-modified-id=\"Tuning-colsample-by-level-3.1.12.5\"><span class=\"toc-item-num\">3.1.12.5&nbsp;&nbsp;</span>Tuning colsample by level</a></span></li></ul></li></ul></li><li><span><a href=\"#Final-Observations-on-Machine-Learning-Exercise\" data-toc-modified-id=\"Final-Observations-on-Machine-Learning-Exercise-3.2\"><span class=\"toc-item-num\">3.2&nbsp;&nbsp;</span>Final Observations on Machine Learning Exercise</a></span></li></ul></li><li><span><a href=\"#Applying-Deep-Learning\" data-toc-modified-id=\"Applying-Deep-Learning-4\"><span class=\"toc-item-num\">4&nbsp;&nbsp;</span>Applying Deep Learning</a></span><ul class=\"toc-item\"><li><span><a href=\"#Importing-Deep-Learning-Libraries\" data-toc-modified-id=\"Importing-Deep-Learning-Libraries-4.1\"><span class=\"toc-item-num\">4.1&nbsp;&nbsp;</span>Importing Deep Learning Libraries</a></span></li><li><span><a href=\"#Setting-Seed\" data-toc-modified-id=\"Setting-Seed-4.2\"><span class=\"toc-item-num\">4.2&nbsp;&nbsp;</span>Setting Seed</a></span></li><li><span><a href=\"#Baseline-Architecture---Simple-Model\" data-toc-modified-id=\"Baseline-Architecture---Simple-Model-4.3\"><span class=\"toc-item-num\">4.3&nbsp;&nbsp;</span>Baseline Architecture - Simple Model</a></span></li><li><span><a href=\"#Adding-One-Dropout-Layer\" data-toc-modified-id=\"Adding-One-Dropout-Layer-4.4\"><span class=\"toc-item-num\">4.4&nbsp;&nbsp;</span>Adding One Dropout Layer</a></span></li><li><span><a href=\"#Adding-Multiple-Dropout-Layers\" data-toc-modified-id=\"Adding-Multiple-Dropout-Layers-4.5\"><span class=\"toc-item-num\">4.5&nbsp;&nbsp;</span>Adding Multiple Dropout Layers</a></span></li><li><span><a href=\"#Adding-Regularization-Layer---L1\" data-toc-modified-id=\"Adding-Regularization-Layer---L1-4.6\"><span class=\"toc-item-num\">4.6&nbsp;&nbsp;</span>Adding Regularization Layer - L1</a></span><ul class=\"toc-item\"><li><span><a href=\"#Single-Layer-Model\" data-toc-modified-id=\"Single-Layer-Model-4.6.1\"><span class=\"toc-item-num\">4.6.1&nbsp;&nbsp;</span>Single Layer Model</a></span></li><li><span><a href=\"#Multi-Layer-Model\" data-toc-modified-id=\"Multi-Layer-Model-4.6.2\"><span class=\"toc-item-num\">4.6.2&nbsp;&nbsp;</span>Multi Layer Model</a></span></li></ul></li><li><span><a href=\"#Adding-Regularization-Layer---L2\" data-toc-modified-id=\"Adding-Regularization-Layer---L2-4.7\"><span class=\"toc-item-num\">4.7&nbsp;&nbsp;</span>Adding Regularization Layer - L2</a></span><ul class=\"toc-item\"><li><span><a href=\"#Single-Layer-Model\" data-toc-modified-id=\"Single-Layer-Model-4.7.1\"><span class=\"toc-item-num\">4.7.1&nbsp;&nbsp;</span>Single Layer Model</a></span></li><li><span><a href=\"#Multi-Layer-Model\" data-toc-modified-id=\"Multi-Layer-Model-4.7.2\"><span class=\"toc-item-num\">4.7.2&nbsp;&nbsp;</span>Multi Layer Model</a></span></li></ul></li><li><span><a href=\"#Adding-Callbacks\" data-toc-modified-id=\"Adding-Callbacks-4.8\"><span class=\"toc-item-num\">4.8&nbsp;&nbsp;</span>Adding Callbacks</a></span><ul class=\"toc-item\"><li><span><a href=\"#Single-Layer-ANN\" data-toc-modified-id=\"Single-Layer-ANN-4.8.1\"><span class=\"toc-item-num\">4.8.1&nbsp;&nbsp;</span>Single Layer ANN</a></span></li><li><span><a href=\"#Callback-with-Multiple-Dropout-Layers\" data-toc-modified-id=\"Callback-with-Multiple-Dropout-Layers-4.8.2\"><span class=\"toc-item-num\">4.8.2&nbsp;&nbsp;</span>Callback with Multiple Dropout Layers</a></span></li><li><span><a href=\"#Callback-with-Multiple-Dropout-Layers-and-Regularization-Layer-L1\" data-toc-modified-id=\"Callback-with-Multiple-Dropout-Layers-and-Regularization-Layer-L1-4.8.3\"><span class=\"toc-item-num\">4.8.3&nbsp;&nbsp;</span>Callback with Multiple Dropout Layers and Regularization Layer L1</a></span></li><li><span><a href=\"#Callback-with-Multiple-Dropout-Layers-and-Regularization-Layer-L2\" data-toc-modified-id=\"Callback-with-Multiple-Dropout-Layers-and-Regularization-Layer-L2-4.8.4\"><span class=\"toc-item-num\">4.8.4&nbsp;&nbsp;</span>Callback with Multiple Dropout Layers and Regularization Layer L2</a></span></li></ul></li><li><span><a href=\"#Adding-Optimiser-to-Multi-Layer-ANN-with-Multiple-Dropouts,-Callbacks-and-Regularization-Layer-L1\" data-toc-modified-id=\"Adding-Optimiser-to-Multi-Layer-ANN-with-Multiple-Dropouts,-Callbacks-and-Regularization-Layer-L1-4.9\"><span class=\"toc-item-num\">4.9&nbsp;&nbsp;</span>Adding Optimiser to Multi Layer ANN with Multiple Dropouts, Callbacks and Regularization Layer L1</a></span><ul class=\"toc-item\"><li><span><a href=\"#Adding-Optimiser-to-Multi-Layer-ANN-with-Multiple-Dropouts,-Callbacks-and-Regularization-Layer-L2\" data-toc-modified-id=\"Adding-Optimiser-to-Multi-Layer-ANN-with-Multiple-Dropouts,-Callbacks-and-Regularization-Layer-L2-4.9.1\"><span class=\"toc-item-num\">4.9.1&nbsp;&nbsp;</span>Adding Optimiser to Multi Layer ANN with Multiple Dropouts, Callbacks and Regularization Layer L2</a></span></li></ul></li><li><span><a href=\"#Adding-Batch-Normalization-with-Multi-Layered-ANN\" data-toc-modified-id=\"Adding-Batch-Normalization-with-Multi-Layered-ANN-4.10\"><span class=\"toc-item-num\">4.10&nbsp;&nbsp;</span>Adding Batch Normalization with Multi Layered ANN</a></span><ul class=\"toc-item\"><li><span><a href=\"#Callback-with-BN-on-Multi-Layer-ANN-without-Regularization,-Without-Dropout-and-Without-Optimiser\" data-toc-modified-id=\"Callback-with-BN-on-Multi-Layer-ANN-without-Regularization,-Without-Dropout-and-Without-Optimiser-4.10.1\"><span class=\"toc-item-num\">4.10.1&nbsp;&nbsp;</span>Callback with BN on Multi Layer ANN without Regularization, Without Dropout and Without Optimiser</a></span></li></ul></li><li><span><a href=\"#Hyperparameter-Tuning\" data-toc-modified-id=\"Hyperparameter-Tuning-4.11\"><span class=\"toc-item-num\">4.11&nbsp;&nbsp;</span>Hyperparameter Tuning</a></span><ul class=\"toc-item\"><li><span><a href=\"#Building-RandomSearch-Tuner\" data-toc-modified-id=\"Building-RandomSearch-Tuner-4.11.1\"><span class=\"toc-item-num\">4.11.1&nbsp;&nbsp;</span>Building RandomSearch Tuner</a></span></li><li><span><a href=\"#Building-Bayesian-Optimisation-Tuner\" data-toc-modified-id=\"Building-Bayesian-Optimisation-Tuner-4.11.2\"><span class=\"toc-item-num\">4.11.2&nbsp;&nbsp;</span>Building Bayesian Optimisation Tuner</a></span></li><li><span><a href=\"#Building-Hyperband-Tuner\" data-toc-modified-id=\"Building-Hyperband-Tuner-4.11.3\"><span class=\"toc-item-num\">4.11.3&nbsp;&nbsp;</span>Building Hyperband Tuner</a></span></li></ul></li><li><span><a href=\"#Model-Evaluation\" data-toc-modified-id=\"Model-Evaluation-4.12\"><span class=\"toc-item-num\">4.12&nbsp;&nbsp;</span>Model Evaluation</a></span><ul class=\"toc-item\"><li><span><a href=\"#Final-Observations\" data-toc-modified-id=\"Final-Observations-4.12.1\"><span class=\"toc-item-num\">4.12.1&nbsp;&nbsp;</span>Final Observations</a></span></li><li><span><a href=\"#Top-3-Models-in-RMSE-and-R-squared\" data-toc-modified-id=\"Top-3-Models-in-RMSE-and-R-squared-4.12.2\"><span class=\"toc-item-num\">4.12.2&nbsp;&nbsp;</span>Top 3 Models in RMSE and R-squared</a></span></li><li><span><a href=\"#Model-Selection\" data-toc-modified-id=\"Model-Selection-4.12.3\"><span class=\"toc-item-num\">4.12.3&nbsp;&nbsp;</span>Model Selection</a></span></li><li><span><a href=\"#Model-Pickling-for-Submission\" data-toc-modified-id=\"Model-Pickling-for-Submission-4.12.4\"><span class=\"toc-item-num\">4.12.4&nbsp;&nbsp;</span>Model Pickling for Submission</a></span></li></ul></li></ul></li><li><span><a href=\"#Sources-&amp;-References\" data-toc-modified-id=\"Sources-&amp;-References-5\"><span class=\"toc-item-num\">5&nbsp;&nbsp;</span>Sources &amp; References</a></span></li></ul></div>"
   ]
  },
  {
   "cell_type": "code",
   "execution_count": null,
   "metadata": {},
   "outputs": [],
   "source": []
  },
  {
   "cell_type": "markdown",
   "metadata": {},
   "source": [
    "## Importing Libraries"
   ]
  },
  {
   "cell_type": "code",
   "execution_count": 1,
   "metadata": {
    "ExecuteTime": {
     "end_time": "2021-11-27T10:34:28.726138Z",
     "start_time": "2021-11-27T10:34:27.238165Z"
    }
   },
   "outputs": [],
   "source": [
    "import pandas as pd\n",
    "import datetime\n",
    "import numpy as np"
   ]
  },
  {
   "cell_type": "code",
   "execution_count": 2,
   "metadata": {
    "ExecuteTime": {
     "end_time": "2021-11-27T10:34:37.113747Z",
     "start_time": "2021-11-27T10:34:29.664607Z"
    },
    "scrolled": true
   },
   "outputs": [],
   "source": [
    "from sklearn.decomposition import PCA\n",
    "from imblearn.over_sampling import SMOTE\n",
    "from sklearn.preprocessing import StandardScaler\n",
    "from sklearn.preprocessing import MinMaxScaler\n",
    "from sklearn.preprocessing import Normalizer\n",
    "from sklearn.preprocessing import RobustScaler\n",
    "from sklearn.preprocessing import MaxAbsScaler\n",
    "from sklearn.ensemble import IsolationForest\n",
    "from sklearn.neighbors import LocalOutlierFactor\n",
    "from sklearn.model_selection import train_test_split\n",
    "from sklearn.preprocessing import PolynomialFeatures, PowerTransformer\n",
    "from sklearn.metrics import r2_score, mean_squared_error\n",
    "from sklearn.linear_model import LinearRegression\n",
    "from sklearn.model_selection import GridSearchCV\n",
    "from sklearn.model_selection import RepeatedStratifiedKFold\n",
    "from sklearn import tree\n",
    "from sklearn.ensemble import RandomForestRegressor\n",
    "from sklearn.model_selection import RandomizedSearchCV\n",
    "from sklearn.neighbors import KNeighborsRegressor\n",
    "from sklearn.svm import SVR\n",
    "from sklearn.ensemble import VotingRegressor\n",
    "from sklearn.ensemble import BaggingRegressor\n",
    "from sklearn.ensemble import AdaBoostRegressor\n",
    "from sklearn.ensemble import GradientBoostingRegressor\n",
    "from sklearn.linear_model import SGDRegressor\n",
    "from xgboost import XGBRegressor\n",
    "#import scikitplot as skplt\n",
    "import matplotlib.pyplot as plt\n",
    "from sklearn.model_selection import StratifiedKFold\n",
    "from sklearn.model_selection import cross_val_score"
   ]
  },
  {
   "cell_type": "code",
   "execution_count": 3,
   "metadata": {},
   "outputs": [
    {
     "name": "stdout",
     "output_type": "stream",
     "text": [
      "Collecting imblearn\n",
      "  Downloading imblearn-0.0-py2.py3-none-any.whl (1.9 kB)\n",
      "Collecting imbalanced-learn\n",
      "  Downloading imbalanced_learn-0.8.1-py3-none-any.whl (189 kB)\n",
      "\u001b[K     |████████████████████████████████| 189 kB 2.3 MB/s eta 0:00:01\n",
      "\u001b[?25hRequirement already satisfied: joblib>=0.11 in /opt/conda/lib/python3.9/site-packages (from imbalanced-learn->imblearn) (1.0.1)\n",
      "Requirement already satisfied: scikit-learn>=0.24 in /opt/conda/lib/python3.9/site-packages (from imbalanced-learn->imblearn) (0.24.2)\n",
      "Requirement already satisfied: numpy>=1.13.3 in /opt/conda/lib/python3.9/site-packages (from imbalanced-learn->imblearn) (1.20.3)\n",
      "Requirement already satisfied: scipy>=0.19.1 in /opt/conda/lib/python3.9/site-packages (from imbalanced-learn->imblearn) (1.6.3)\n",
      "Requirement already satisfied: threadpoolctl>=2.0.0 in /opt/conda/lib/python3.9/site-packages (from scikit-learn>=0.24->imbalanced-learn->imblearn) (2.1.0)\n",
      "Installing collected packages: imbalanced-learn, imblearn\n",
      "Successfully installed imbalanced-learn-0.8.1 imblearn-0.0\n"
     ]
    }
   ],
   "source": [
    "!pip install imblearn"
   ]
  },
  {
   "cell_type": "code",
   "execution_count": 5,
   "metadata": {},
   "outputs": [
    {
     "name": "stdout",
     "output_type": "stream",
     "text": [
      "Collecting xgboost\n",
      "  Downloading xgboost-1.5.1-py3-none-manylinux2014_x86_64.whl (173.5 MB)\n",
      "\u001b[K     |████████████████████████████████| 173.5 MB 1.6 kB/s ta 0:00:0151   |██                              | 10.4 MB 7.3 MB/s eta 0:00:23     |█████████▋                      | 51.8 MB 1.7 MB/s eta 0:01:10     |███████████                     | 59.6 MB 14.2 MB/s eta 0:00:09     |█████████████▎                  | 72.1 MB 11.7 MB/s eta 0:00:09     |█████████████████████▉          | 118.4 MB 640 kB/s eta 0:01:27     |██████████████████████▊         | 123.2 MB 8.3 MB/s eta 0:00:07     |███████████████████████         | 124.8 MB 8.3 MB/s eta 0:00:06     |████████████████████████▍       | 132.2 MB 3.6 MB/s eta 0:00:12 |█████████████████████████████▍  | 159.6 MB 63 kB/s eta 0:03:40\n",
      "\u001b[?25hRequirement already satisfied: scipy in /opt/conda/lib/python3.9/site-packages (from xgboost) (1.6.3)\n",
      "Requirement already satisfied: numpy in /opt/conda/lib/python3.9/site-packages (from xgboost) (1.20.3)\n",
      "Installing collected packages: xgboost\n",
      "Successfully installed xgboost-1.5.1\n"
     ]
    }
   ],
   "source": [
    "!pip install xgboost"
   ]
  },
  {
   "cell_type": "code",
   "execution_count": 7,
   "metadata": {},
   "outputs": [
    {
     "name": "stdout",
     "output_type": "stream",
     "text": [
      "\u001b[31mERROR: Could not find a version that satisfies the requirement scikitplot (from versions: none)\u001b[0m\r\n",
      "\u001b[31mERROR: No matching distribution found for scikitplot\u001b[0m\r\n"
     ]
    }
   ],
   "source": [
    "!pip install scikitplot"
   ]
  },
  {
   "cell_type": "code",
   "execution_count": 3,
   "metadata": {
    "ExecuteTime": {
     "end_time": "2021-11-27T10:34:39.277563Z",
     "start_time": "2021-11-27T10:34:39.259344Z"
    }
   },
   "outputs": [],
   "source": [
    "cols = ['product_id', 'store_id', 'date', 'sales', 'revenue', 'stock', 'price', 'promo_type_1', 'promo_type_2', 'promo_discount_2', 'weekday', 'storetype_id', 'store_size', 'city_id']"
   ]
  },
  {
   "cell_type": "code",
   "execution_count": null,
   "metadata": {},
   "outputs": [],
   "source": []
  },
  {
   "cell_type": "code",
   "execution_count": 3,
   "metadata": {
    "ExecuteTime": {
     "end_time": "2021-11-27T10:34:40.325317Z",
     "start_time": "2021-11-27T10:34:40.276802Z"
    }
   },
   "outputs": [
    {
     "name": "stdout",
     "output_type": "stream",
     "text": [
      "<class 'pandas.core.frame.DataFrame'>\n",
      "Int64Index: 19454838 entries, 0 to 19454837\n",
      "Data columns (total 25 columns):\n",
      " #   Column                 Non-Null Count     Dtype         \n",
      "---  ------                 --------------     -----         \n",
      " 0   product_id             19454838 non-null  object        \n",
      " 1   store_id               19454838 non-null  object        \n",
      " 2   date                   19454838 non-null  datetime64[ns]\n",
      " 3   sales                  19454838 non-null  float64       \n",
      " 4   revenue                19454838 non-null  float64       \n",
      " 5   stock                  19454838 non-null  float64       \n",
      " 6   price                  19454838 non-null  float64       \n",
      " 7   promo_type_1           19454838 non-null  object        \n",
      " 8   promo_bin_1            19454838 non-null  object        \n",
      " 9   promo_type_2           19454838 non-null  object        \n",
      " 10  promo_bin_2            19454838 non-null  object        \n",
      " 11  promo_discount_2       19454838 non-null  float64       \n",
      " 12  promo_discount_type_2  19454838 non-null  object        \n",
      " 13  weekday                19454838 non-null  int64         \n",
      " 14  month                  19454838 non-null  int64         \n",
      " 15  week_number_c          19454838 non-null  int64         \n",
      " 16  cluster_id             19454838 non-null  object        \n",
      " 17  hierarchy1_id          19454838 non-null  object        \n",
      " 18  hierarchy2_id          19454838 non-null  object        \n",
      " 19  hierarchy3_id          19454838 non-null  object        \n",
      " 20  hierarchy4_id          19454838 non-null  object        \n",
      " 21  hierarchy5_id          19454838 non-null  object        \n",
      " 22  storetype_id           19454838 non-null  object        \n",
      " 23  store_size             19454838 non-null  int64         \n",
      " 24  city_id                19454838 non-null  object        \n",
      "dtypes: datetime64[ns](1), float64(5), int64(4), object(15)\n",
      "memory usage: 3.8+ GB\n"
     ]
    }
   ],
   "source": [
    "#df = pd.read_csv('../IIDS/data/merged/master_sales_product_city.csv', nrows=1000, usecols=cols)\n",
    "df = pd.read_pickle(\"master_sales_product_city_pickle_v3.pkl\")\n",
    "df.info(verbose= True, show_counts= True)\n"
   ]
  },
  {
   "cell_type": "code",
   "execution_count": 4,
   "metadata": {},
   "outputs": [
    {
     "data": {
      "text/plain": [
       "Index(['product_id', 'store_id', 'date', 'sales', 'revenue', 'stock', 'price',\n",
       "       'promo_type_1', 'promo_bin_1', 'promo_type_2', 'promo_bin_2',\n",
       "       'promo_discount_2', 'promo_discount_type_2', 'weekday', 'month',\n",
       "       'week_number_c', 'cluster_id', 'hierarchy1_id', 'hierarchy2_id',\n",
       "       'hierarchy3_id', 'hierarchy4_id', 'hierarchy5_id', 'storetype_id',\n",
       "       'store_size', 'city_id'],\n",
       "      dtype='object')"
      ]
     },
     "execution_count": 4,
     "metadata": {},
     "output_type": "execute_result"
    }
   ],
   "source": [
    "df.columns"
   ]
  },
  {
   "cell_type": "code",
   "execution_count": 5,
   "metadata": {},
   "outputs": [],
   "source": [
    "#cols = ['product_id', 'store_id', 'date', 'sales', 'revenue', 'stock', 'price',\n",
    "#       'weekday', 'month', 'cluster_id', 'hierarchy1_id', 'city_id']"
   ]
  },
  {
   "cell_type": "code",
   "execution_count": 6,
   "metadata": {},
   "outputs": [
    {
     "data": {
      "text/plain": [
       "Timestamp('2017-01-02 00:00:00')"
      ]
     },
     "execution_count": 6,
     "metadata": {},
     "output_type": "execute_result"
    }
   ],
   "source": [
    "df.date.min()"
   ]
  },
  {
   "cell_type": "code",
   "execution_count": 7,
   "metadata": {},
   "outputs": [
    {
     "data": {
      "text/plain": [
       "Timestamp('2019-12-29 00:00:00')"
      ]
     },
     "execution_count": 7,
     "metadata": {},
     "output_type": "execute_result"
    }
   ],
   "source": [
    "df.date.max()"
   ]
  },
  {
   "cell_type": "code",
   "execution_count": null,
   "metadata": {},
   "outputs": [],
   "source": []
  },
  {
   "cell_type": "code",
   "execution_count": 13,
   "metadata": {},
   "outputs": [
    {
     "data": {
      "text/html": [
       "<div>\n",
       "<style scoped>\n",
       "    .dataframe tbody tr th:only-of-type {\n",
       "        vertical-align: middle;\n",
       "    }\n",
       "\n",
       "    .dataframe tbody tr th {\n",
       "        vertical-align: top;\n",
       "    }\n",
       "\n",
       "    .dataframe thead th {\n",
       "        text-align: right;\n",
       "    }\n",
       "</style>\n",
       "<table border=\"1\" class=\"dataframe\">\n",
       "  <thead>\n",
       "    <tr style=\"text-align: right;\">\n",
       "      <th></th>\n",
       "      <th>product_name</th>\n",
       "    </tr>\n",
       "  </thead>\n",
       "  <tbody>\n",
       "    <tr>\n",
       "      <th>0</th>\n",
       "      <td>P0001</td>\n",
       "    </tr>\n",
       "    <tr>\n",
       "      <th>1</th>\n",
       "      <td>P0002</td>\n",
       "    </tr>\n",
       "    <tr>\n",
       "      <th>2</th>\n",
       "      <td>P0004</td>\n",
       "    </tr>\n",
       "    <tr>\n",
       "      <th>3</th>\n",
       "      <td>P0005</td>\n",
       "    </tr>\n",
       "    <tr>\n",
       "      <th>4</th>\n",
       "      <td>P0006</td>\n",
       "    </tr>\n",
       "    <tr>\n",
       "      <th>...</th>\n",
       "      <td>...</td>\n",
       "    </tr>\n",
       "    <tr>\n",
       "      <th>644</th>\n",
       "      <td>P0742</td>\n",
       "    </tr>\n",
       "    <tr>\n",
       "      <th>645</th>\n",
       "      <td>P0745</td>\n",
       "    </tr>\n",
       "    <tr>\n",
       "      <th>646</th>\n",
       "      <td>P0746</td>\n",
       "    </tr>\n",
       "    <tr>\n",
       "      <th>647</th>\n",
       "      <td>P0747</td>\n",
       "    </tr>\n",
       "    <tr>\n",
       "      <th>648</th>\n",
       "      <td>P0748</td>\n",
       "    </tr>\n",
       "  </tbody>\n",
       "</table>\n",
       "<p>649 rows × 1 columns</p>\n",
       "</div>"
      ],
      "text/plain": [
       "    product_name\n",
       "0          P0001\n",
       "1          P0002\n",
       "2          P0004\n",
       "3          P0005\n",
       "4          P0006\n",
       "..           ...\n",
       "644        P0742\n",
       "645        P0745\n",
       "646        P0746\n",
       "647        P0747\n",
       "648        P0748\n",
       "\n",
       "[649 rows x 1 columns]"
      ]
     },
     "execution_count": 13,
     "metadata": {},
     "output_type": "execute_result"
    }
   ],
   "source": [
    "#product_list = pd.DataFrame(np.sort(df.product_id.unique()))\n",
    "#product_list.columns = ['product_name']\n",
    "\n",
    "#product_list"
   ]
  },
  {
   "cell_type": "code",
   "execution_count": 14,
   "metadata": {},
   "outputs": [],
   "source": [
    "#from sklearn.preprocessing import LabelEncoder\n"
   ]
  },
  {
   "cell_type": "code",
   "execution_count": 15,
   "metadata": {},
   "outputs": [],
   "source": [
    "#lb_make = LabelEncoder()"
   ]
  },
  {
   "cell_type": "code",
   "execution_count": 16,
   "metadata": {},
   "outputs": [
    {
     "data": {
      "text/html": [
       "<div>\n",
       "<style scoped>\n",
       "    .dataframe tbody tr th:only-of-type {\n",
       "        vertical-align: middle;\n",
       "    }\n",
       "\n",
       "    .dataframe tbody tr th {\n",
       "        vertical-align: top;\n",
       "    }\n",
       "\n",
       "    .dataframe thead th {\n",
       "        text-align: right;\n",
       "    }\n",
       "</style>\n",
       "<table border=\"1\" class=\"dataframe\">\n",
       "  <thead>\n",
       "    <tr style=\"text-align: right;\">\n",
       "      <th></th>\n",
       "      <th>product_name</th>\n",
       "      <th>product_code</th>\n",
       "    </tr>\n",
       "  </thead>\n",
       "  <tbody>\n",
       "    <tr>\n",
       "      <th>0</th>\n",
       "      <td>P0001</td>\n",
       "      <td>0</td>\n",
       "    </tr>\n",
       "    <tr>\n",
       "      <th>1</th>\n",
       "      <td>P0002</td>\n",
       "      <td>1</td>\n",
       "    </tr>\n",
       "    <tr>\n",
       "      <th>2</th>\n",
       "      <td>P0004</td>\n",
       "      <td>2</td>\n",
       "    </tr>\n",
       "    <tr>\n",
       "      <th>3</th>\n",
       "      <td>P0005</td>\n",
       "      <td>3</td>\n",
       "    </tr>\n",
       "    <tr>\n",
       "      <th>4</th>\n",
       "      <td>P0006</td>\n",
       "      <td>4</td>\n",
       "    </tr>\n",
       "  </tbody>\n",
       "</table>\n",
       "</div>"
      ],
      "text/plain": [
       "  product_name  product_code\n",
       "0        P0001             0\n",
       "1        P0002             1\n",
       "2        P0004             2\n",
       "3        P0005             3\n",
       "4        P0006             4"
      ]
     },
     "execution_count": 16,
     "metadata": {},
     "output_type": "execute_result"
    }
   ],
   "source": [
    "#product_list[\"product_code\"] = lb_make.fit_transform(product_list[\"product_name\"])\n",
    "#product_list.head()"
   ]
  },
  {
   "cell_type": "code",
   "execution_count": null,
   "metadata": {},
   "outputs": [],
   "source": []
  },
  {
   "cell_type": "code",
   "execution_count": 5,
   "metadata": {
    "ExecuteTime": {
     "end_time": "2021-11-27T10:34:41.311997Z",
     "start_time": "2021-11-27T10:34:41.279856Z"
    }
   },
   "outputs": [
    {
     "data": {
      "text/html": [
       "<div>\n",
       "<style scoped>\n",
       "    .dataframe tbody tr th:only-of-type {\n",
       "        vertical-align: middle;\n",
       "    }\n",
       "\n",
       "    .dataframe tbody tr th {\n",
       "        vertical-align: top;\n",
       "    }\n",
       "\n",
       "    .dataframe thead th {\n",
       "        text-align: right;\n",
       "    }\n",
       "</style>\n",
       "<table border=\"1\" class=\"dataframe\">\n",
       "  <thead>\n",
       "    <tr style=\"text-align: right;\">\n",
       "      <th></th>\n",
       "      <th>product_id</th>\n",
       "      <th>store_id</th>\n",
       "      <th>date</th>\n",
       "      <th>sales</th>\n",
       "      <th>revenue</th>\n",
       "      <th>stock</th>\n",
       "      <th>price</th>\n",
       "      <th>promo_type_1</th>\n",
       "      <th>promo_type_2</th>\n",
       "      <th>promo_discount_2</th>\n",
       "      <th>weekday</th>\n",
       "      <th>storetype_id</th>\n",
       "      <th>store_size</th>\n",
       "      <th>city_id</th>\n",
       "    </tr>\n",
       "  </thead>\n",
       "  <tbody>\n",
       "    <tr>\n",
       "      <th>0</th>\n",
       "      <td>P0001</td>\n",
       "      <td>S0002</td>\n",
       "      <td>2017-01-02</td>\n",
       "      <td>0.0</td>\n",
       "      <td>0.00</td>\n",
       "      <td>8.0</td>\n",
       "      <td>6.25</td>\n",
       "      <td>PR14</td>\n",
       "      <td>PR03</td>\n",
       "      <td>0.00</td>\n",
       "      <td>0</td>\n",
       "      <td>ST04</td>\n",
       "      <td>39</td>\n",
       "      <td>C007</td>\n",
       "    </tr>\n",
       "    <tr>\n",
       "      <th>1</th>\n",
       "      <td>P0001</td>\n",
       "      <td>S0012</td>\n",
       "      <td>2017-01-02</td>\n",
       "      <td>1.0</td>\n",
       "      <td>5.30</td>\n",
       "      <td>0.0</td>\n",
       "      <td>6.25</td>\n",
       "      <td>PR14</td>\n",
       "      <td>PR03</td>\n",
       "      <td>15.20</td>\n",
       "      <td>0</td>\n",
       "      <td>ST04</td>\n",
       "      <td>28</td>\n",
       "      <td>C005</td>\n",
       "    </tr>\n",
       "    <tr>\n",
       "      <th>2</th>\n",
       "      <td>P0001</td>\n",
       "      <td>S0013</td>\n",
       "      <td>2017-01-02</td>\n",
       "      <td>2.0</td>\n",
       "      <td>10.59</td>\n",
       "      <td>0.0</td>\n",
       "      <td>6.25</td>\n",
       "      <td>PR14</td>\n",
       "      <td>PR03</td>\n",
       "      <td>15.28</td>\n",
       "      <td>0</td>\n",
       "      <td>ST04</td>\n",
       "      <td>33</td>\n",
       "      <td>C026</td>\n",
       "    </tr>\n",
       "    <tr>\n",
       "      <th>3</th>\n",
       "      <td>P0001</td>\n",
       "      <td>S0023</td>\n",
       "      <td>2017-01-02</td>\n",
       "      <td>0.0</td>\n",
       "      <td>0.00</td>\n",
       "      <td>6.0</td>\n",
       "      <td>6.25</td>\n",
       "      <td>PR14</td>\n",
       "      <td>PR03</td>\n",
       "      <td>0.00</td>\n",
       "      <td>0</td>\n",
       "      <td>ST04</td>\n",
       "      <td>31</td>\n",
       "      <td>C008</td>\n",
       "    </tr>\n",
       "    <tr>\n",
       "      <th>4</th>\n",
       "      <td>P0001</td>\n",
       "      <td>S0025</td>\n",
       "      <td>2017-01-02</td>\n",
       "      <td>0.0</td>\n",
       "      <td>0.00</td>\n",
       "      <td>1.0</td>\n",
       "      <td>6.25</td>\n",
       "      <td>PR14</td>\n",
       "      <td>PR03</td>\n",
       "      <td>0.00</td>\n",
       "      <td>0</td>\n",
       "      <td>ST04</td>\n",
       "      <td>25</td>\n",
       "      <td>C024</td>\n",
       "    </tr>\n",
       "  </tbody>\n",
       "</table>\n",
       "</div>"
      ],
      "text/plain": [
       "  product_id store_id        date  sales  revenue  stock  price promo_type_1  \\\n",
       "0      P0001    S0002  2017-01-02    0.0     0.00    8.0   6.25         PR14   \n",
       "1      P0001    S0012  2017-01-02    1.0     5.30    0.0   6.25         PR14   \n",
       "2      P0001    S0013  2017-01-02    2.0    10.59    0.0   6.25         PR14   \n",
       "3      P0001    S0023  2017-01-02    0.0     0.00    6.0   6.25         PR14   \n",
       "4      P0001    S0025  2017-01-02    0.0     0.00    1.0   6.25         PR14   \n",
       "\n",
       "  promo_type_2  promo_discount_2  weekday storetype_id  store_size city_id  \n",
       "0         PR03              0.00        0         ST04          39    C007  \n",
       "1         PR03             15.20        0         ST04          28    C005  \n",
       "2         PR03             15.28        0         ST04          33    C026  \n",
       "3         PR03              0.00        0         ST04          31    C008  \n",
       "4         PR03              0.00        0         ST04          25    C024  "
      ]
     },
     "execution_count": 5,
     "metadata": {},
     "output_type": "execute_result"
    }
   ],
   "source": [
    "#df.head()"
   ]
  },
  {
   "cell_type": "markdown",
   "metadata": {},
   "source": [
    "## Data Prep"
   ]
  },
  {
   "cell_type": "markdown",
   "metadata": {},
   "source": [
    "### Feature Engineering"
   ]
  },
  {
   "cell_type": "markdown",
   "metadata": {},
   "source": [
    "#### Handling non-num features"
   ]
  },
  {
   "cell_type": "code",
   "execution_count": 6,
   "metadata": {
    "ExecuteTime": {
     "end_time": "2021-11-27T10:34:47.241105Z",
     "start_time": "2021-11-27T10:34:47.220996Z"
    }
   },
   "outputs": [],
   "source": [
    "#df['date'] = pd.to_datetime(df['date'], infer_datetime_format=True)"
   ]
  },
  {
   "cell_type": "code",
   "execution_count": 43,
   "metadata": {
    "ExecuteTime": {
     "end_time": "2021-11-27T10:34:48.103187Z",
     "start_time": "2021-11-27T10:34:48.073205Z"
    }
   },
   "outputs": [],
   "source": [
    "#df.info()"
   ]
  },
  {
   "cell_type": "code",
   "execution_count": null,
   "metadata": {
    "ExecuteTime": {
     "end_time": "2021-11-26T18:42:08.565499Z",
     "start_time": "2021-11-26T18:42:08.546546Z"
    }
   },
   "outputs": [],
   "source": [
    "# df.drop(['product_id', 'store_id', 'storetype_id', 'city_id'], inplace=True, axis=1)"
   ]
  },
  {
   "cell_type": "code",
   "execution_count": 5,
   "metadata": {
    "ExecuteTime": {
     "end_time": "2021-11-27T10:34:56.961710Z",
     "start_time": "2021-11-27T10:34:56.916112Z"
    }
   },
   "outputs": [
    {
     "name": "stderr",
     "output_type": "stream",
     "text": [
      "<ipython-input-5-7a77c5c852a4>:10: FutureWarning: Series.dt.weekofyear and Series.dt.week have been deprecated.  Please use Series.dt.isocalendar().week instead.\n",
      "  df['weekofyear'] = df['date'].dt.weekofyear\n"
     ]
    }
   ],
   "source": [
    "#df['month'] = df['date'].dt.month\n",
    "#df['day'] = df['date'].dt.day\n",
    "#df['year'] = df['date'].dt.year\n",
    "#df['quarter'] = df['date'].dt.quarter\n",
    "#df['semester'] = np.where(df.quarter.isin([1,2]),1,2)\n",
    "#df['dayofweek'] = df['date'].dt.dayofweek\n",
    "#df['weekday_name'] = df['date'].dt.day_name()\n",
    "#df['weekend'] = np.where(df['weekday_name'].isin(['Sunday','Saturday']),1,0)\n",
    "#df['dayofyear'] = df['date'].dt.dayofyear\n",
    "#df['weekofyear'] = df['date'].dt.weekofyear"
   ]
  },
  {
   "cell_type": "code",
   "execution_count": null,
   "metadata": {},
   "outputs": [],
   "source": []
  },
  {
   "cell_type": "code",
   "execution_count": 44,
   "metadata": {
    "ExecuteTime": {
     "end_time": "2021-11-27T10:34:58.001939Z",
     "start_time": "2021-11-27T10:34:57.942721Z"
    }
   },
   "outputs": [],
   "source": [
    "#df.head()"
   ]
  },
  {
   "cell_type": "code",
   "execution_count": 45,
   "metadata": {},
   "outputs": [],
   "source": [
    "#df.columns"
   ]
  },
  {
   "cell_type": "code",
   "execution_count": 46,
   "metadata": {},
   "outputs": [],
   "source": [
    "#df_2017 = df[df.year == 2017]\n",
    "#df_2017 = df_2017[['product_id','store_id','date', 'sales', 'revenue', 'stock', 'price',\n",
    "#       'weekday', 'month','year', 'weekend', 'weekofyear']]\n",
    "#df_2017.info(show_counts=True)"
   ]
  },
  {
   "cell_type": "code",
   "execution_count": 47,
   "metadata": {
    "scrolled": true
   },
   "outputs": [],
   "source": [
    "#3df_2017.describe(include='all')"
   ]
  },
  {
   "cell_type": "code",
   "execution_count": 48,
   "metadata": {},
   "outputs": [],
   "source": [
    "#df.head()"
   ]
  },
  {
   "cell_type": "code",
   "execution_count": 49,
   "metadata": {},
   "outputs": [],
   "source": [
    "#df.value_counts(['date','weekofyear'])[:10]"
   ]
  },
  {
   "cell_type": "code",
   "execution_count": 50,
   "metadata": {},
   "outputs": [],
   "source": [
    "#df.columns"
   ]
  },
  {
   "cell_type": "code",
   "execution_count": 51,
   "metadata": {},
   "outputs": [],
   "source": [
    "#per = df.date.dt.to_period(\"W\")\n",
    "#g = df.groupby(per)\n",
    "#g.sum()"
   ]
  },
  {
   "cell_type": "code",
   "execution_count": 52,
   "metadata": {},
   "outputs": [],
   "source": [
    "#df.columns"
   ]
  },
  {
   "cell_type": "code",
   "execution_count": null,
   "metadata": {},
   "outputs": [],
   "source": []
  },
  {
   "cell_type": "code",
   "execution_count": null,
   "metadata": {},
   "outputs": [],
   "source": []
  },
  {
   "cell_type": "code",
   "execution_count": null,
   "metadata": {},
   "outputs": [],
   "source": []
  },
  {
   "cell_type": "code",
   "execution_count": null,
   "metadata": {},
   "outputs": [],
   "source": []
  },
  {
   "cell_type": "code",
   "execution_count": null,
   "metadata": {},
   "outputs": [],
   "source": []
  },
  {
   "cell_type": "code",
   "execution_count": null,
   "metadata": {},
   "outputs": [],
   "source": []
  },
  {
   "cell_type": "code",
   "execution_count": null,
   "metadata": {},
   "outputs": [],
   "source": []
  },
  {
   "cell_type": "code",
   "execution_count": 4,
   "metadata": {},
   "outputs": [],
   "source": [
    "# Group the data frame by month and item and extract a number of stats from each group\n",
    "grouped_data = df.groupby(\n",
    "   ['city_id', 'store_id','product_id','week_number_c']\n",
    ").agg(\n",
    "    {\n",
    "        #'date': 'first',  # get the first date per group\n",
    "        #'weekofyear':'first',\n",
    "        'sales':sum,    # Sum of sales\n",
    "        'revenue': sum,  # Sum of revenue\n",
    "        'stock': sum,\n",
    "        'price': 'mean',\n",
    "         \n",
    "    }\n",
    ")"
   ]
  },
  {
   "cell_type": "code",
   "execution_count": 5,
   "metadata": {},
   "outputs": [
    {
     "data": {
      "text/html": [
       "<div>\n",
       "<style scoped>\n",
       "    .dataframe tbody tr th:only-of-type {\n",
       "        vertical-align: middle;\n",
       "    }\n",
       "\n",
       "    .dataframe tbody tr th {\n",
       "        vertical-align: top;\n",
       "    }\n",
       "\n",
       "    .dataframe thead th {\n",
       "        text-align: right;\n",
       "    }\n",
       "</style>\n",
       "<table border=\"1\" class=\"dataframe\">\n",
       "  <thead>\n",
       "    <tr style=\"text-align: right;\">\n",
       "      <th></th>\n",
       "      <th></th>\n",
       "      <th></th>\n",
       "      <th></th>\n",
       "      <th>sales</th>\n",
       "      <th>revenue</th>\n",
       "      <th>stock</th>\n",
       "      <th>price</th>\n",
       "    </tr>\n",
       "    <tr>\n",
       "      <th>city_id</th>\n",
       "      <th>store_id</th>\n",
       "      <th>product_id</th>\n",
       "      <th>week_number_c</th>\n",
       "      <th></th>\n",
       "      <th></th>\n",
       "      <th></th>\n",
       "      <th></th>\n",
       "    </tr>\n",
       "  </thead>\n",
       "  <tbody>\n",
       "    <tr>\n",
       "      <th rowspan=\"5\" valign=\"top\">C001</th>\n",
       "      <th rowspan=\"5\" valign=\"top\">S0005</th>\n",
       "      <th rowspan=\"5\" valign=\"top\">P0012</th>\n",
       "      <th>139</th>\n",
       "      <td>1.0</td>\n",
       "      <td>111.02</td>\n",
       "      <td>15.0</td>\n",
       "      <td>119.9</td>\n",
       "    </tr>\n",
       "    <tr>\n",
       "      <th>140</th>\n",
       "      <td>2.0</td>\n",
       "      <td>222.04</td>\n",
       "      <td>17.0</td>\n",
       "      <td>119.9</td>\n",
       "    </tr>\n",
       "    <tr>\n",
       "      <th>141</th>\n",
       "      <td>0.0</td>\n",
       "      <td>0.00</td>\n",
       "      <td>35.0</td>\n",
       "      <td>119.9</td>\n",
       "    </tr>\n",
       "    <tr>\n",
       "      <th>142</th>\n",
       "      <td>2.0</td>\n",
       "      <td>222.04</td>\n",
       "      <td>25.0</td>\n",
       "      <td>119.9</td>\n",
       "    </tr>\n",
       "    <tr>\n",
       "      <th>143</th>\n",
       "      <td>1.0</td>\n",
       "      <td>111.02</td>\n",
       "      <td>18.0</td>\n",
       "      <td>119.9</td>\n",
       "    </tr>\n",
       "  </tbody>\n",
       "</table>\n",
       "</div>"
      ],
      "text/plain": [
       "                                           sales  revenue  stock  price\n",
       "city_id store_id product_id week_number_c                              \n",
       "C001    S0005    P0012      139              1.0   111.02   15.0  119.9\n",
       "                            140              2.0   222.04   17.0  119.9\n",
       "                            141              0.0     0.00   35.0  119.9\n",
       "                            142              2.0   222.04   25.0  119.9\n",
       "                            143              1.0   111.02   18.0  119.9"
      ]
     },
     "execution_count": 5,
     "metadata": {},
     "output_type": "execute_result"
    }
   ],
   "source": [
    "#grouped_data.reset_index(inplace=True)\n",
    "#grouped_data.sort_values(by='weekofyear', inplace=True)\n",
    "grouped_data.head()"
   ]
  },
  {
   "cell_type": "code",
   "execution_count": 6,
   "metadata": {},
   "outputs": [],
   "source": [
    "grouped_data.reset_index(inplace=True)\n",
    "#grouped_data.sort_values(by='date', inplace=True)\n"
   ]
  },
  {
   "cell_type": "code",
   "execution_count": 7,
   "metadata": {},
   "outputs": [
    {
     "data": {
      "text/plain": [
       "(2864495, 8)"
      ]
     },
     "execution_count": 7,
     "metadata": {},
     "output_type": "execute_result"
    }
   ],
   "source": [
    "grouped_data.shape"
   ]
  },
  {
   "cell_type": "code",
   "execution_count": 8,
   "metadata": {},
   "outputs": [
    {
     "data": {
      "text/plain": [
       "Index(['city_id', 'store_id', 'product_id', 'week_number_c', 'sales',\n",
       "       'revenue', 'stock', 'price'],\n",
       "      dtype='object')"
      ]
     },
     "execution_count": 8,
     "metadata": {},
     "output_type": "execute_result"
    }
   ],
   "source": [
    "grouped_data.columns"
   ]
  },
  {
   "cell_type": "code",
   "execution_count": 9,
   "metadata": {},
   "outputs": [
    {
     "data": {
      "text/plain": [
       "array([  0,   1,   2,   3,   4,   5,   6,   7,   8,   9,  10,  11,  12,\n",
       "        13,  14,  15,  16,  17,  18,  19,  20,  21,  22,  23,  24,  25,\n",
       "        26,  27,  28,  29,  30,  31,  32,  33,  34,  35,  36,  37,  38,\n",
       "        39,  40,  41,  42,  43,  44,  45,  46,  47,  48,  49,  50,  51,\n",
       "        52,  53,  54,  55,  56,  57,  58,  59,  60,  61,  62,  63,  64,\n",
       "        65,  66,  67,  68,  69,  70,  71,  72,  73,  74,  75,  76,  77,\n",
       "        78,  79,  80,  81,  82,  83,  84,  85,  86,  87,  88,  89,  90,\n",
       "        91,  92,  93,  94,  95,  96,  97,  98,  99, 100, 101, 102, 103,\n",
       "       104, 105, 106, 107, 108, 109, 110, 111, 112, 113, 114, 115, 116,\n",
       "       117, 118, 119, 120, 121, 122, 123, 124, 125, 126, 127, 128, 129,\n",
       "       130, 131, 132, 133, 134, 135, 136, 137, 138, 139, 140, 141, 142,\n",
       "       143, 144, 145, 146, 147, 148, 149, 150, 151, 152, 153, 154, 155])"
      ]
     },
     "execution_count": 9,
     "metadata": {},
     "output_type": "execute_result"
    }
   ],
   "source": [
    "np.sort(grouped_data.week_number_c.unique())"
   ]
  },
  {
   "cell_type": "code",
   "execution_count": 76,
   "metadata": {},
   "outputs": [],
   "source": [
    "grouped_data['mth_yr'] = pd.to_datetime(df['date'],format='%mm-%YYYY')"
   ]
  },
  {
   "cell_type": "code",
   "execution_count": 56,
   "metadata": {},
   "outputs": [
    {
     "data": {
      "text/html": [
       "<div>\n",
       "<style scoped>\n",
       "    .dataframe tbody tr th:only-of-type {\n",
       "        vertical-align: middle;\n",
       "    }\n",
       "\n",
       "    .dataframe tbody tr th {\n",
       "        vertical-align: top;\n",
       "    }\n",
       "\n",
       "    .dataframe thead th {\n",
       "        text-align: right;\n",
       "    }\n",
       "</style>\n",
       "<table border=\"1\" class=\"dataframe\">\n",
       "  <thead>\n",
       "    <tr style=\"text-align: right;\">\n",
       "      <th></th>\n",
       "      <th>date</th>\n",
       "      <th>city_id</th>\n",
       "      <th>store_id</th>\n",
       "      <th>product_id</th>\n",
       "      <th>sales</th>\n",
       "      <th>revenue</th>\n",
       "      <th>stock</th>\n",
       "      <th>price</th>\n",
       "      <th>mth_yr</th>\n",
       "    </tr>\n",
       "  </thead>\n",
       "  <tbody>\n",
       "    <tr>\n",
       "      <th>0</th>\n",
       "      <td>2017-01-02</td>\n",
       "      <td>C002</td>\n",
       "      <td>S0104</td>\n",
       "      <td>P0001</td>\n",
       "      <td>0.0</td>\n",
       "      <td>0.00</td>\n",
       "      <td>22.0</td>\n",
       "      <td>6.25</td>\n",
       "      <td>2017-01-02</td>\n",
       "    </tr>\n",
       "    <tr>\n",
       "      <th>8755</th>\n",
       "      <td>2017-01-02</td>\n",
       "      <td>C024</td>\n",
       "      <td>S0008</td>\n",
       "      <td>P0017</td>\n",
       "      <td>1.0</td>\n",
       "      <td>1.38</td>\n",
       "      <td>17.0</td>\n",
       "      <td>1.49</td>\n",
       "      <td>2017-01-02</td>\n",
       "    </tr>\n",
       "    <tr>\n",
       "      <th>8756</th>\n",
       "      <td>2017-01-02</td>\n",
       "      <td>C024</td>\n",
       "      <td>S0008</td>\n",
       "      <td>P0018</td>\n",
       "      <td>0.0</td>\n",
       "      <td>0.00</td>\n",
       "      <td>15.0</td>\n",
       "      <td>1.95</td>\n",
       "      <td>2017-01-02</td>\n",
       "    </tr>\n",
       "    <tr>\n",
       "      <th>8757</th>\n",
       "      <td>2017-01-02</td>\n",
       "      <td>C024</td>\n",
       "      <td>S0008</td>\n",
       "      <td>P0035</td>\n",
       "      <td>0.0</td>\n",
       "      <td>0.00</td>\n",
       "      <td>5.0</td>\n",
       "      <td>2.45</td>\n",
       "      <td>2017-01-02</td>\n",
       "    </tr>\n",
       "    <tr>\n",
       "      <th>8758</th>\n",
       "      <td>2017-01-02</td>\n",
       "      <td>C024</td>\n",
       "      <td>S0008</td>\n",
       "      <td>P0046</td>\n",
       "      <td>0.0</td>\n",
       "      <td>0.00</td>\n",
       "      <td>10.0</td>\n",
       "      <td>34.50</td>\n",
       "      <td>2017-01-02</td>\n",
       "    </tr>\n",
       "  </tbody>\n",
       "</table>\n",
       "</div>"
      ],
      "text/plain": [
       "           date city_id store_id product_id  sales  revenue  stock  price  \\\n",
       "0    2017-01-02    C002    S0104      P0001    0.0     0.00   22.0   6.25   \n",
       "8755 2017-01-02    C024    S0008      P0017    1.0     1.38   17.0   1.49   \n",
       "8756 2017-01-02    C024    S0008      P0018    0.0     0.00   15.0   1.95   \n",
       "8757 2017-01-02    C024    S0008      P0035    0.0     0.00    5.0   2.45   \n",
       "8758 2017-01-02    C024    S0008      P0046    0.0     0.00   10.0  34.50   \n",
       "\n",
       "         mth_yr  \n",
       "0    2017-01-02  \n",
       "8755 2017-01-02  \n",
       "8756 2017-01-02  \n",
       "8757 2017-01-02  \n",
       "8758 2017-01-02  "
      ]
     },
     "execution_count": 56,
     "metadata": {},
     "output_type": "execute_result"
    }
   ],
   "source": [
    "grouped_data.head()"
   ]
  },
  {
   "cell_type": "code",
   "execution_count": null,
   "metadata": {},
   "outputs": [],
   "source": [
    "datetime.datetime.now() + datetime.timedelta(days=7)"
   ]
  },
  {
   "cell_type": "code",
   "execution_count": 62,
   "metadata": {},
   "outputs": [
    {
     "data": {
      "text/plain": [
       "Timestamp('2017-01-02 00:00:00')"
      ]
     },
     "execution_count": 62,
     "metadata": {},
     "output_type": "execute_result"
    }
   ],
   "source": [
    "pd.Timestamp(grouped_data.date.min()) "
   ]
  },
  {
   "cell_type": "code",
   "execution_count": 70,
   "metadata": {},
   "outputs": [
    {
     "name": "stderr",
     "output_type": "stream",
     "text": [
      "<ipython-input-70-b05a083d2901>:3: FutureWarning: Series.dt.weekofyear and Series.dt.week have been deprecated.  Please use Series.dt.isocalendar().week instead.\n",
      "  grouped_data.date.dt.week, \\\n"
     ]
    }
   ],
   "source": [
    "epoch= pd.Timestamp(grouped_data.date.min())  \n",
    "grouped_data[\"Week_Number_C\"]=np.where(grouped_data.date.astype(\"datetime64\").le(epoch), \\\n",
    "                               grouped_data.date.dt.week, \\\n",
    "                               grouped_data.date.sub(epoch).dt.days//7) #+52)"
   ]
  },
  {
   "cell_type": "code",
   "execution_count": 71,
   "metadata": {},
   "outputs": [
    {
     "data": {
      "text/html": [
       "<div>\n",
       "<style scoped>\n",
       "    .dataframe tbody tr th:only-of-type {\n",
       "        vertical-align: middle;\n",
       "    }\n",
       "\n",
       "    .dataframe tbody tr th {\n",
       "        vertical-align: top;\n",
       "    }\n",
       "\n",
       "    .dataframe thead th {\n",
       "        text-align: right;\n",
       "    }\n",
       "</style>\n",
       "<table border=\"1\" class=\"dataframe\">\n",
       "  <thead>\n",
       "    <tr style=\"text-align: right;\">\n",
       "      <th></th>\n",
       "      <th>date</th>\n",
       "      <th>city_id</th>\n",
       "      <th>sales</th>\n",
       "      <th>revenue</th>\n",
       "      <th>stock</th>\n",
       "      <th>price</th>\n",
       "      <th>mth_yr</th>\n",
       "      <th>Week_Number_C</th>\n",
       "      <th>week_num</th>\n",
       "    </tr>\n",
       "    <tr>\n",
       "      <th>ID</th>\n",
       "      <th></th>\n",
       "      <th></th>\n",
       "      <th></th>\n",
       "      <th></th>\n",
       "      <th></th>\n",
       "      <th></th>\n",
       "      <th></th>\n",
       "      <th></th>\n",
       "      <th></th>\n",
       "    </tr>\n",
       "  </thead>\n",
       "  <tbody>\n",
       "    <tr>\n",
       "      <th>P0001S0104</th>\n",
       "      <td>2017-01-02</td>\n",
       "      <td>C002</td>\n",
       "      <td>0.0</td>\n",
       "      <td>0.00</td>\n",
       "      <td>22.0</td>\n",
       "      <td>6.25</td>\n",
       "      <td>2017-01-02</td>\n",
       "      <td>1</td>\n",
       "      <td>1</td>\n",
       "    </tr>\n",
       "    <tr>\n",
       "      <th>P0017S0008</th>\n",
       "      <td>2017-01-02</td>\n",
       "      <td>C024</td>\n",
       "      <td>1.0</td>\n",
       "      <td>1.38</td>\n",
       "      <td>17.0</td>\n",
       "      <td>1.49</td>\n",
       "      <td>2017-01-02</td>\n",
       "      <td>1</td>\n",
       "      <td>1</td>\n",
       "    </tr>\n",
       "    <tr>\n",
       "      <th>P0018S0008</th>\n",
       "      <td>2017-01-02</td>\n",
       "      <td>C024</td>\n",
       "      <td>0.0</td>\n",
       "      <td>0.00</td>\n",
       "      <td>15.0</td>\n",
       "      <td>1.95</td>\n",
       "      <td>2017-01-02</td>\n",
       "      <td>1</td>\n",
       "      <td>1</td>\n",
       "    </tr>\n",
       "    <tr>\n",
       "      <th>P0035S0008</th>\n",
       "      <td>2017-01-02</td>\n",
       "      <td>C024</td>\n",
       "      <td>0.0</td>\n",
       "      <td>0.00</td>\n",
       "      <td>5.0</td>\n",
       "      <td>2.45</td>\n",
       "      <td>2017-01-02</td>\n",
       "      <td>1</td>\n",
       "      <td>1</td>\n",
       "    </tr>\n",
       "    <tr>\n",
       "      <th>P0046S0008</th>\n",
       "      <td>2017-01-02</td>\n",
       "      <td>C024</td>\n",
       "      <td>0.0</td>\n",
       "      <td>0.00</td>\n",
       "      <td>10.0</td>\n",
       "      <td>34.50</td>\n",
       "      <td>2017-01-02</td>\n",
       "      <td>1</td>\n",
       "      <td>1</td>\n",
       "    </tr>\n",
       "  </tbody>\n",
       "</table>\n",
       "</div>"
      ],
      "text/plain": [
       "                 date city_id  sales  revenue  stock  price     mth_yr  \\\n",
       "ID                                                                       \n",
       "P0001S0104 2017-01-02    C002    0.0     0.00   22.0   6.25 2017-01-02   \n",
       "P0017S0008 2017-01-02    C024    1.0     1.38   17.0   1.49 2017-01-02   \n",
       "P0018S0008 2017-01-02    C024    0.0     0.00   15.0   1.95 2017-01-02   \n",
       "P0035S0008 2017-01-02    C024    0.0     0.00    5.0   2.45 2017-01-02   \n",
       "P0046S0008 2017-01-02    C024    0.0     0.00   10.0  34.50 2017-01-02   \n",
       "\n",
       "            Week_Number_C  week_num  \n",
       "ID                                   \n",
       "P0001S0104              1         1  \n",
       "P0017S0008              1         1  \n",
       "P0018S0008              1         1  \n",
       "P0035S0008              1         1  \n",
       "P0046S0008              1         1  "
      ]
     },
     "execution_count": 71,
     "metadata": {},
     "output_type": "execute_result"
    }
   ],
   "source": [
    "grouped_data.head()"
   ]
  },
  {
   "cell_type": "code",
   "execution_count": 72,
   "metadata": {},
   "outputs": [
    {
     "data": {
      "text/plain": [
       "array([  0,   1,   2,   3,   4,   5,   6,   7,   8,   9,  10,  11,  12,\n",
       "        13,  14,  15,  16,  17,  18,  19,  20,  21,  22,  23,  24,  25,\n",
       "        26,  27,  28,  29,  30,  31,  32,  33,  34,  35,  36,  37,  38,\n",
       "        39,  40,  41,  42,  43,  44,  45,  46,  47,  48,  49,  50,  51,\n",
       "        52,  53,  54,  55,  56,  57,  58,  59,  60,  61,  62,  63,  64,\n",
       "        65,  66,  67,  68,  69,  70,  71,  72,  73,  74,  75,  76,  77,\n",
       "        78,  79,  80,  81,  82,  83,  84,  85,  86,  87,  88,  89,  90,\n",
       "        91,  92,  93,  94,  95,  96,  97,  98,  99, 100, 101, 102, 103,\n",
       "       104, 105, 106, 107, 108, 109, 110, 111, 112, 113, 114, 115, 116,\n",
       "       117, 118, 119, 120, 121, 122, 123, 124, 125, 126, 127, 128, 129,\n",
       "       130, 131, 132, 133, 134, 135, 136, 137, 138, 139, 140, 141, 142,\n",
       "       143, 144, 145, 146, 147, 148, 149, 150, 151, 152, 153, 154, 155])"
      ]
     },
     "execution_count": 72,
     "metadata": {},
     "output_type": "execute_result"
    }
   ],
   "source": [
    "np.sort(grouped_data.Week_Number_C.unique())"
   ]
  },
  {
   "cell_type": "code",
   "execution_count": 73,
   "metadata": {},
   "outputs": [],
   "source": [
    "grouped_data['week_num'] = grouped_data['date'].dt.isocalendar().week"
   ]
  },
  {
   "cell_type": "code",
   "execution_count": null,
   "metadata": {},
   "outputs": [],
   "source": []
  },
  {
   "cell_type": "code",
   "execution_count": null,
   "metadata": {},
   "outputs": [],
   "source": []
  },
  {
   "cell_type": "code",
   "execution_count": 5,
   "metadata": {},
   "outputs": [],
   "source": [
    "grouped_data = df.groupby(\n",
    "   ['week_number_c','city_id', 'store_id','product_id']).agg(\n",
    "    {\n",
    "        #'date': 'first',  # get the first date per group\n",
    "        #'weekofyear':'first',\n",
    "        'sales':sum,    # Sum of sales\n",
    "        'revenue': sum,  # Sum of revenue\n",
    "        'stock': sum,\n",
    "        'price': 'mean',\n",
    "         \n",
    "    }\n",
    ")"
   ]
  },
  {
   "cell_type": "code",
   "execution_count": 7,
   "metadata": {},
   "outputs": [
    {
     "data": {
      "text/plain": [
       "Index(['sales', 'revenue', 'stock', 'price'], dtype='object')"
      ]
     },
     "execution_count": 7,
     "metadata": {},
     "output_type": "execute_result"
    }
   ],
   "source": [
    "grouped_data.columns"
   ]
  },
  {
   "cell_type": "code",
   "execution_count": null,
   "metadata": {},
   "outputs": [],
   "source": []
  },
  {
   "cell_type": "code",
   "execution_count": null,
   "metadata": {},
   "outputs": [],
   "source": []
  },
  {
   "cell_type": "code",
   "execution_count": 10,
   "metadata": {},
   "outputs": [
    {
     "data": {
      "text/html": [
       "<div>\n",
       "<style scoped>\n",
       "    .dataframe tbody tr th:only-of-type {\n",
       "        vertical-align: middle;\n",
       "    }\n",
       "\n",
       "    .dataframe tbody tr th {\n",
       "        vertical-align: top;\n",
       "    }\n",
       "\n",
       "    .dataframe thead th {\n",
       "        text-align: right;\n",
       "    }\n",
       "</style>\n",
       "<table border=\"1\" class=\"dataframe\">\n",
       "  <thead>\n",
       "    <tr style=\"text-align: right;\">\n",
       "      <th></th>\n",
       "      <th>city_id</th>\n",
       "      <th>week_number_c</th>\n",
       "      <th>sales</th>\n",
       "      <th>revenue</th>\n",
       "      <th>stock</th>\n",
       "      <th>price</th>\n",
       "    </tr>\n",
       "    <tr>\n",
       "      <th>ID</th>\n",
       "      <th></th>\n",
       "      <th></th>\n",
       "      <th></th>\n",
       "      <th></th>\n",
       "      <th></th>\n",
       "      <th></th>\n",
       "    </tr>\n",
       "  </thead>\n",
       "  <tbody>\n",
       "    <tr>\n",
       "      <th>P0012S0005</th>\n",
       "      <td>C001</td>\n",
       "      <td>139</td>\n",
       "      <td>1.0</td>\n",
       "      <td>111.02</td>\n",
       "      <td>15.0</td>\n",
       "      <td>119.9</td>\n",
       "    </tr>\n",
       "    <tr>\n",
       "      <th>P0012S0005</th>\n",
       "      <td>C001</td>\n",
       "      <td>140</td>\n",
       "      <td>2.0</td>\n",
       "      <td>222.04</td>\n",
       "      <td>17.0</td>\n",
       "      <td>119.9</td>\n",
       "    </tr>\n",
       "    <tr>\n",
       "      <th>P0012S0005</th>\n",
       "      <td>C001</td>\n",
       "      <td>141</td>\n",
       "      <td>0.0</td>\n",
       "      <td>0.00</td>\n",
       "      <td>35.0</td>\n",
       "      <td>119.9</td>\n",
       "    </tr>\n",
       "    <tr>\n",
       "      <th>P0012S0005</th>\n",
       "      <td>C001</td>\n",
       "      <td>142</td>\n",
       "      <td>2.0</td>\n",
       "      <td>222.04</td>\n",
       "      <td>25.0</td>\n",
       "      <td>119.9</td>\n",
       "    </tr>\n",
       "    <tr>\n",
       "      <th>P0012S0005</th>\n",
       "      <td>C001</td>\n",
       "      <td>143</td>\n",
       "      <td>1.0</td>\n",
       "      <td>111.02</td>\n",
       "      <td>18.0</td>\n",
       "      <td>119.9</td>\n",
       "    </tr>\n",
       "  </tbody>\n",
       "</table>\n",
       "</div>"
      ],
      "text/plain": [
       "           city_id  week_number_c  sales  revenue  stock  price\n",
       "ID                                                             \n",
       "P0012S0005    C001            139    1.0   111.02   15.0  119.9\n",
       "P0012S0005    C001            140    2.0   222.04   17.0  119.9\n",
       "P0012S0005    C001            141    0.0     0.00   35.0  119.9\n",
       "P0012S0005    C001            142    2.0   222.04   25.0  119.9\n",
       "P0012S0005    C001            143    1.0   111.02   18.0  119.9"
      ]
     },
     "execution_count": 10,
     "metadata": {},
     "output_type": "execute_result"
    }
   ],
   "source": [
    "grouped_data['ID'] = grouped_data['product_id'] + grouped_data['store_id']\n",
    "grouped_data.drop(['product_id', 'store_id'], axis=1, inplace=True)\n",
    "grouped_data.set_index(['ID'], inplace=True)\n",
    "grouped_data.head()"
   ]
  },
  {
   "cell_type": "code",
   "execution_count": 11,
   "metadata": {},
   "outputs": [
    {
     "data": {
      "text/plain": [
       "array([  0,   1,   2,   3,   4,   5,   6,   7,   8,   9,  10,  11,  12,\n",
       "        13,  14,  15,  16,  17,  18,  19,  20,  21,  22,  23,  24,  25,\n",
       "        26,  27,  28,  29,  30,  31,  32,  33,  34,  35,  36,  37,  38,\n",
       "        39,  40,  41,  42,  43,  44,  45,  46,  47,  48,  49,  50,  51,\n",
       "        52,  53,  54,  55,  56,  57,  58,  59,  60,  61,  62,  63,  64,\n",
       "        65,  66,  67,  68,  69,  70,  71,  72,  73,  74,  75,  76,  77,\n",
       "        78,  79,  80,  81,  82,  83,  84,  85,  86,  87,  88,  89,  90,\n",
       "        91,  92,  93,  94,  95,  96,  97,  98,  99, 100, 101, 102, 103,\n",
       "       104, 105, 106, 107, 108, 109, 110, 111, 112, 113, 114, 115, 116,\n",
       "       117, 118, 119, 120, 121, 122, 123, 124, 125, 126, 127, 128, 129,\n",
       "       130, 131, 132, 133, 134, 135, 136, 137, 138, 139, 140, 141, 142,\n",
       "       143, 144, 145, 146, 147, 148, 149, 150, 151, 152, 153, 154, 155])"
      ]
     },
     "execution_count": 11,
     "metadata": {},
     "output_type": "execute_result"
    }
   ],
   "source": [
    "np.sort(grouped_data.week_number_c.unique())"
   ]
  },
  {
   "cell_type": "code",
   "execution_count": 12,
   "metadata": {},
   "outputs": [
    {
     "data": {
      "text/plain": [
       "(2864495, 6)"
      ]
     },
     "execution_count": 12,
     "metadata": {},
     "output_type": "execute_result"
    }
   ],
   "source": [
    "grouped_data.shape"
   ]
  },
  {
   "cell_type": "code",
   "execution_count": null,
   "metadata": {},
   "outputs": [],
   "source": []
  },
  {
   "cell_type": "code",
   "execution_count": null,
   "metadata": {},
   "outputs": [],
   "source": []
  },
  {
   "cell_type": "code",
   "execution_count": null,
   "metadata": {},
   "outputs": [],
   "source": []
  },
  {
   "cell_type": "code",
   "execution_count": null,
   "metadata": {},
   "outputs": [],
   "source": []
  },
  {
   "cell_type": "code",
   "execution_count": 52,
   "metadata": {},
   "outputs": [],
   "source": [
    "pd.set_option('display.max_colwidth', None)"
   ]
  },
  {
   "cell_type": "code",
   "execution_count": null,
   "metadata": {},
   "outputs": [],
   "source": [
    "grouped_data_week = df.groupby(\n",
    "   ['weekofyear','city_id', 'store_id','product_id']\n",
    ").agg(\n",
    "    {\n",
    "        #'date': 'first',  # get the first date per group\n",
    "        #'weekofyear':'first',\n",
    "        'sales':sum,    # Sum of sales\n",
    "        'revenue': sum,  # Sum of revenue\n",
    "        'stock': sum,\n",
    "        'price': 'mean',\n",
    "         \n",
    "    }\n",
    ")"
   ]
  },
  {
   "cell_type": "code",
   "execution_count": null,
   "metadata": {},
   "outputs": [],
   "source": []
  },
  {
   "cell_type": "code",
   "execution_count": null,
   "metadata": {},
   "outputs": [],
   "source": []
  },
  {
   "cell_type": "code",
   "execution_count": null,
   "metadata": {},
   "outputs": [],
   "source": []
  },
  {
   "cell_type": "code",
   "execution_count": null,
   "metadata": {},
   "outputs": [],
   "source": []
  },
  {
   "cell_type": "code",
   "execution_count": null,
   "metadata": {},
   "outputs": [],
   "source": []
  },
  {
   "cell_type": "code",
   "execution_count": null,
   "metadata": {},
   "outputs": [],
   "source": []
  },
  {
   "cell_type": "code",
   "execution_count": 59,
   "metadata": {},
   "outputs": [
    {
     "data": {
      "text/plain": [
       "store_id  product_id\n",
       "S0060     P0635         1092\n",
       "S0070     P0223         1092\n",
       "          P0453         1092\n",
       "S0013     P0608         1092\n",
       "S0070     P0420         1092\n",
       "          P0412         1092\n",
       "          P0364         1092\n",
       "S0117     P0125         1092\n",
       "S0070     P0336         1092\n",
       "          P0297         1092\n",
       "dtype: int64"
      ]
     },
     "execution_count": 59,
     "metadata": {},
     "output_type": "execute_result"
    }
   ],
   "source": [
    "df.value_counts(['store_id','product_id'])[:10]"
   ]
  },
  {
   "cell_type": "code",
   "execution_count": 26,
   "metadata": {},
   "outputs": [
    {
     "data": {
      "text/plain": [
       "product_id  store_id\n",
       "P0536       S0030       364\n",
       "P0144       S0082       364\n",
       "P0260       S0126       364\n",
       "P0473       S0115       364\n",
       "P0477       S0085       364\n",
       "P0481       S0012       364\n",
       "            S0019       364\n",
       "            S0023       364\n",
       "P0260       S0130       364\n",
       "P0144       S0083       364\n",
       "dtype: int64"
      ]
     },
     "execution_count": 26,
     "metadata": {},
     "output_type": "execute_result"
    }
   ],
   "source": [
    "df_2017.value_counts(['product_id','store_id'])[:10]"
   ]
  },
  {
   "cell_type": "code",
   "execution_count": null,
   "metadata": {},
   "outputs": [],
   "source": []
  },
  {
   "cell_type": "code",
   "execution_count": null,
   "metadata": {},
   "outputs": [],
   "source": []
  },
  {
   "cell_type": "code",
   "execution_count": null,
   "metadata": {},
   "outputs": [],
   "source": []
  },
  {
   "cell_type": "code",
   "execution_count": null,
   "metadata": {},
   "outputs": [],
   "source": []
  },
  {
   "cell_type": "code",
   "execution_count": 16,
   "metadata": {},
   "outputs": [],
   "source": [
    "#df_2017.describe(include='all')"
   ]
  },
  {
   "cell_type": "code",
   "execution_count": 37,
   "metadata": {},
   "outputs": [
    {
     "name": "stdout",
     "output_type": "stream",
     "text": [
      "<class 'pandas.core.frame.DataFrame'>\n",
      "Int64Index: 138856 entries, 9418 to 19449533\n",
      "Data columns (total 9 columns):\n",
      " #   Column      Non-Null Count   Dtype  \n",
      "---  ------      --------------   -----  \n",
      " 0   sales       138856 non-null  float64\n",
      " 1   revenue     138856 non-null  float64\n",
      " 2   stock       138856 non-null  float64\n",
      " 3   price       138856 non-null  float64\n",
      " 4   weekday     138856 non-null  int64  \n",
      " 5   month       138856 non-null  int64  \n",
      " 6   year        138856 non-null  int64  \n",
      " 7   weekend     138856 non-null  int64  \n",
      " 8   weekofyear  138856 non-null  int64  \n",
      "dtypes: float64(4), int64(5)\n",
      "memory usage: 10.6 MB\n"
     ]
    }
   ],
   "source": [
    "#product_id - P0364\n",
    "#store_id - S0038\n",
    "\n",
    "df_2017_P0536 = df[df.product_id.isin(['P0536'])]\n",
    "df_2017_P0536 = df_2017_P0536[['sales', 'revenue', 'stock', 'price',\n",
    "        'weekday', 'month','year', 'weekend', 'weekofyear']]\n",
    "df_2017_P0536.info(show_counts=True)"
   ]
  },
  {
   "cell_type": "code",
   "execution_count": null,
   "metadata": {},
   "outputs": [],
   "source": []
  },
  {
   "cell_type": "code",
   "execution_count": null,
   "metadata": {},
   "outputs": [],
   "source": []
  },
  {
   "cell_type": "code",
   "execution_count": null,
   "metadata": {},
   "outputs": [],
   "source": []
  },
  {
   "cell_type": "code",
   "execution_count": null,
   "metadata": {},
   "outputs": [],
   "source": []
  },
  {
   "cell_type": "code",
   "execution_count": 6,
   "metadata": {},
   "outputs": [
    {
     "name": "stdout",
     "output_type": "stream",
     "text": [
      "<class 'pandas.core.frame.DataFrame'>\n",
      "Int64Index: 7290894 entries, 12163944 to 19454837\n",
      "Data columns (total 11 columns):\n",
      " #   Column      Non-Null Count    Dtype         \n",
      "---  ------      --------------    -----         \n",
      " 0   product_id  7290894 non-null  object        \n",
      " 1   date        7290894 non-null  datetime64[ns]\n",
      " 2   sales       7290894 non-null  float64       \n",
      " 3   revenue     7290894 non-null  float64       \n",
      " 4   stock       7290894 non-null  float64       \n",
      " 5   price       7290894 non-null  float64       \n",
      " 6   weekday     7290894 non-null  int64         \n",
      " 7   month       7290894 non-null  int64         \n",
      " 8   year        7290894 non-null  int64         \n",
      " 9   weekend     7290894 non-null  int64         \n",
      " 10  weekofyear  7290894 non-null  int64         \n",
      "dtypes: datetime64[ns](1), float64(4), int64(5), object(1)\n",
      "memory usage: 667.5+ MB\n"
     ]
    }
   ],
   "source": [
    "df_2019 = df[df.year == 2019]\n",
    "df_2019 = df_2019[['product_id','date', 'sales', 'revenue', 'stock', 'price',\n",
    "        'weekday', 'month','year', 'weekend', 'weekofyear']]\n",
    "df_2019.info(show_counts=True)"
   ]
  },
  {
   "cell_type": "code",
   "execution_count": null,
   "metadata": {},
   "outputs": [],
   "source": []
  },
  {
   "cell_type": "markdown",
   "metadata": {},
   "source": [
    "### Encoding Cat Data"
   ]
  },
  {
   "cell_type": "code",
   "execution_count": 19,
   "metadata": {
    "ExecuteTime": {
     "end_time": "2021-11-27T10:35:00.739983Z",
     "start_time": "2021-11-27T10:35:00.679537Z"
    }
   },
   "outputs": [],
   "source": [
    "#df_with_dummies = pd.get_dummies(df_2017_P0536.drop(['date'], axis=1),columns=df_2017_P0536.select_dtypes(include=['object']).columns, drop_first=True, sparse=True)\n",
    "#df_with_dummies.head()"
   ]
  },
  {
   "cell_type": "code",
   "execution_count": null,
   "metadata": {},
   "outputs": [],
   "source": [
    "#df_with_dummies_prod = pd.concat([df, pd.get_dummies(df_2017['product_id'],prefix = 'product_id_').astype(np.int8)], axis=1).info()\n",
    "#df_with_dummies_prod.shape"
   ]
  },
  {
   "cell_type": "code",
   "execution_count": null,
   "metadata": {},
   "outputs": [],
   "source": []
  },
  {
   "cell_type": "code",
   "execution_count": null,
   "metadata": {},
   "outputs": [],
   "source": []
  },
  {
   "cell_type": "code",
   "execution_count": 13,
   "metadata": {},
   "outputs": [],
   "source": [
    "df_with_dummies = pd.get_dummies(grouped_data,columns=grouped_data.select_dtypes(include=['object']).columns, drop_first=True)#, sparse=True)\n"
   ]
  },
  {
   "cell_type": "code",
   "execution_count": 14,
   "metadata": {},
   "outputs": [
    {
     "data": {
      "text/plain": [
       "(2864495, 41)"
      ]
     },
     "execution_count": 14,
     "metadata": {},
     "output_type": "execute_result"
    }
   ],
   "source": [
    "df_with_dummies.shape"
   ]
  },
  {
   "cell_type": "code",
   "execution_count": null,
   "metadata": {},
   "outputs": [],
   "source": []
  },
  {
   "cell_type": "code",
   "execution_count": null,
   "metadata": {},
   "outputs": [],
   "source": []
  },
  {
   "cell_type": "code",
   "execution_count": 11,
   "metadata": {},
   "outputs": [
    {
     "name": "stdout",
     "output_type": "stream",
     "text": [
      "<class 'pandas.core.frame.DataFrame'>\n",
      "Int64Index: 37676 entries, 14481 to 10964\n",
      "Columns: 833 entries, index to product_id_P0748\n",
      "dtypes: float64(4), int64(2), uint8(827)\n",
      "memory usage: 31.7 MB\n"
     ]
    }
   ],
   "source": [
    "df_with_dummies.info(show_counts=True) #verbose=True"
   ]
  },
  {
   "cell_type": "code",
   "execution_count": 12,
   "metadata": {},
   "outputs": [
    {
     "name": "stdout",
     "output_type": "stream",
     "text": [
      "<class 'pandas.core.frame.DataFrame'>\n",
      "Int64Index: 37676 entries, 14481 to 10964\n",
      "Data columns (total 833 columns):\n",
      " #    Column            Non-Null Count  Dtype  \n",
      "---   ------            --------------  -----  \n",
      " 0    index             37676 non-null  int64  \n",
      " 1    weekofyear        37676 non-null  int64  \n",
      " 2    sales             37676 non-null  float64\n",
      " 3    revenue           37676 non-null  float64\n",
      " 4    stock             37676 non-null  float64\n",
      " 5    price             37676 non-null  float64\n",
      " 6    city_id_C002      37676 non-null  uint8  \n",
      " 7    city_id_C003      37676 non-null  uint8  \n",
      " 8    city_id_C004      37676 non-null  uint8  \n",
      " 9    city_id_C005      37676 non-null  uint8  \n",
      " 10   city_id_C006      37676 non-null  uint8  \n",
      " 11   city_id_C007      37676 non-null  uint8  \n",
      " 12   city_id_C008      37676 non-null  uint8  \n",
      " 13   city_id_C009      37676 non-null  uint8  \n",
      " 14   city_id_C010      37676 non-null  uint8  \n",
      " 15   city_id_C011      37676 non-null  uint8  \n",
      " 16   city_id_C012      37676 non-null  uint8  \n",
      " 17   city_id_C013      37676 non-null  uint8  \n",
      " 18   city_id_C014      37676 non-null  uint8  \n",
      " 19   city_id_C015      37676 non-null  uint8  \n",
      " 20   city_id_C016      37676 non-null  uint8  \n",
      " 21   city_id_C017      37676 non-null  uint8  \n",
      " 22   city_id_C018      37676 non-null  uint8  \n",
      " 23   city_id_C019      37676 non-null  uint8  \n",
      " 24   city_id_C020      37676 non-null  uint8  \n",
      " 25   city_id_C021      37676 non-null  uint8  \n",
      " 26   city_id_C022      37676 non-null  uint8  \n",
      " 27   city_id_C023      37676 non-null  uint8  \n",
      " 28   city_id_C024      37676 non-null  uint8  \n",
      " 29   city_id_C025      37676 non-null  uint8  \n",
      " 30   city_id_C026      37676 non-null  uint8  \n",
      " 31   city_id_C027      37676 non-null  uint8  \n",
      " 32   city_id_C028      37676 non-null  uint8  \n",
      " 33   city_id_C029      37676 non-null  uint8  \n",
      " 34   city_id_C030      37676 non-null  uint8  \n",
      " 35   city_id_C031      37676 non-null  uint8  \n",
      " 36   city_id_C032      37676 non-null  uint8  \n",
      " 37   city_id_C033      37676 non-null  uint8  \n",
      " 38   city_id_C034      37676 non-null  uint8  \n",
      " 39   city_id_C035      37676 non-null  uint8  \n",
      " 40   city_id_C036      37676 non-null  uint8  \n",
      " 41   city_id_C037      37676 non-null  uint8  \n",
      " 42   store_id_S0002    37676 non-null  uint8  \n",
      " 43   store_id_S0003    37676 non-null  uint8  \n",
      " 44   store_id_S0004    37676 non-null  uint8  \n",
      " 45   store_id_S0005    37676 non-null  uint8  \n",
      " 46   store_id_S0006    37676 non-null  uint8  \n",
      " 47   store_id_S0007    37676 non-null  uint8  \n",
      " 48   store_id_S0008    37676 non-null  uint8  \n",
      " 49   store_id_S0009    37676 non-null  uint8  \n",
      " 50   store_id_S0010    37676 non-null  uint8  \n",
      " 51   store_id_S0011    37676 non-null  uint8  \n",
      " 52   store_id_S0012    37676 non-null  uint8  \n",
      " 53   store_id_S0013    37676 non-null  uint8  \n",
      " 54   store_id_S0014    37676 non-null  uint8  \n",
      " 55   store_id_S0015    37676 non-null  uint8  \n",
      " 56   store_id_S0016    37676 non-null  uint8  \n",
      " 57   store_id_S0017    37676 non-null  uint8  \n",
      " 58   store_id_S0018    37676 non-null  uint8  \n",
      " 59   store_id_S0019    37676 non-null  uint8  \n",
      " 60   store_id_S0020    37676 non-null  uint8  \n",
      " 61   store_id_S0021    37676 non-null  uint8  \n",
      " 62   store_id_S0022    37676 non-null  uint8  \n",
      " 63   store_id_S0023    37676 non-null  uint8  \n",
      " 64   store_id_S0024    37676 non-null  uint8  \n",
      " 65   store_id_S0025    37676 non-null  uint8  \n",
      " 66   store_id_S0026    37676 non-null  uint8  \n",
      " 67   store_id_S0027    37676 non-null  uint8  \n",
      " 68   store_id_S0028    37676 non-null  uint8  \n",
      " 69   store_id_S0029    37676 non-null  uint8  \n",
      " 70   store_id_S0030    37676 non-null  uint8  \n",
      " 71   store_id_S0031    37676 non-null  uint8  \n",
      " 72   store_id_S0032    37676 non-null  uint8  \n",
      " 73   store_id_S0033    37676 non-null  uint8  \n",
      " 74   store_id_S0034    37676 non-null  uint8  \n",
      " 75   store_id_S0035    37676 non-null  uint8  \n",
      " 76   store_id_S0036    37676 non-null  uint8  \n",
      " 77   store_id_S0037    37676 non-null  uint8  \n",
      " 78   store_id_S0038    37676 non-null  uint8  \n",
      " 79   store_id_S0039    37676 non-null  uint8  \n",
      " 80   store_id_S0040    37676 non-null  uint8  \n",
      " 81   store_id_S0041    37676 non-null  uint8  \n",
      " 82   store_id_S0042    37676 non-null  uint8  \n",
      " 83   store_id_S0043    37676 non-null  uint8  \n",
      " 84   store_id_S0044    37676 non-null  uint8  \n",
      " 85   store_id_S0045    37676 non-null  uint8  \n",
      " 86   store_id_S0046    37676 non-null  uint8  \n",
      " 87   store_id_S0047    37676 non-null  uint8  \n",
      " 88   store_id_S0048    37676 non-null  uint8  \n",
      " 89   store_id_S0049    37676 non-null  uint8  \n",
      " 90   store_id_S0050    37676 non-null  uint8  \n",
      " 91   store_id_S0051    37676 non-null  uint8  \n",
      " 92   store_id_S0052    37676 non-null  uint8  \n",
      " 93   store_id_S0053    37676 non-null  uint8  \n",
      " 94   store_id_S0054    37676 non-null  uint8  \n",
      " 95   store_id_S0055    37676 non-null  uint8  \n",
      " 96   store_id_S0056    37676 non-null  uint8  \n",
      " 97   store_id_S0057    37676 non-null  uint8  \n",
      " 98   store_id_S0058    37676 non-null  uint8  \n",
      " 99   store_id_S0059    37676 non-null  uint8  \n",
      " 100  store_id_S0060    37676 non-null  uint8  \n",
      " 101  store_id_S0061    37676 non-null  uint8  \n",
      " 102  store_id_S0062    37676 non-null  uint8  \n",
      " 103  store_id_S0063    37676 non-null  uint8  \n",
      " 104  store_id_S0064    37676 non-null  uint8  \n",
      " 105  store_id_S0065    37676 non-null  uint8  \n",
      " 106  store_id_S0066    37676 non-null  uint8  \n",
      " 107  store_id_S0067    37676 non-null  uint8  \n",
      " 108  store_id_S0068    37676 non-null  uint8  \n",
      " 109  store_id_S0069    37676 non-null  uint8  \n",
      " 110  store_id_S0070    37676 non-null  uint8  \n",
      " 111  store_id_S0071    37676 non-null  uint8  \n",
      " 112  store_id_S0072    37676 non-null  uint8  \n",
      " 113  store_id_S0073    37676 non-null  uint8  \n",
      " 114  store_id_S0074    37676 non-null  uint8  \n",
      " 115  store_id_S0075    37676 non-null  uint8  \n",
      " 116  store_id_S0076    37676 non-null  uint8  \n",
      " 117  store_id_S0077    37676 non-null  uint8  \n",
      " 118  store_id_S0078    37676 non-null  uint8  \n",
      " 119  store_id_S0079    37676 non-null  uint8  \n",
      " 120  store_id_S0080    37676 non-null  uint8  \n",
      " 121  store_id_S0081    37676 non-null  uint8  \n",
      " 122  store_id_S0082    37676 non-null  uint8  \n",
      " 123  store_id_S0083    37676 non-null  uint8  \n",
      " 124  store_id_S0084    37676 non-null  uint8  \n",
      " 125  store_id_S0085    37676 non-null  uint8  \n",
      " 126  store_id_S0086    37676 non-null  uint8  \n",
      " 127  store_id_S0087    37676 non-null  uint8  \n",
      " 128  store_id_S0088    37676 non-null  uint8  \n",
      " 129  store_id_S0089    37676 non-null  uint8  \n",
      " 130  store_id_S0090    37676 non-null  uint8  \n",
      " 131  store_id_S0091    37676 non-null  uint8  \n",
      " 132  store_id_S0092    37676 non-null  uint8  \n",
      " 133  store_id_S0093    37676 non-null  uint8  \n",
      " 134  store_id_S0094    37676 non-null  uint8  \n",
      " 135  store_id_S0095    37676 non-null  uint8  \n",
      " 136  store_id_S0096    37676 non-null  uint8  \n",
      " 137  store_id_S0097    37676 non-null  uint8  \n",
      " 138  store_id_S0098    37676 non-null  uint8  \n",
      " 139  store_id_S0099    37676 non-null  uint8  \n",
      " 140  store_id_S0100    37676 non-null  uint8  \n",
      " 141  store_id_S0101    37676 non-null  uint8  \n",
      " 142  store_id_S0102    37676 non-null  uint8  \n",
      " 143  store_id_S0103    37676 non-null  uint8  \n",
      " 144  store_id_S0104    37676 non-null  uint8  \n",
      " 145  store_id_S0105    37676 non-null  uint8  \n",
      " 146  store_id_S0106    37676 non-null  uint8  \n",
      " 147  store_id_S0107    37676 non-null  uint8  \n",
      " 148  store_id_S0108    37676 non-null  uint8  \n",
      " 149  store_id_S0109    37676 non-null  uint8  \n",
      " 150  store_id_S0110    37676 non-null  uint8  \n",
      " 151  store_id_S0111    37676 non-null  uint8  \n",
      " 152  store_id_S0112    37676 non-null  uint8  \n",
      " 153  store_id_S0113    37676 non-null  uint8  \n",
      " 154  store_id_S0114    37676 non-null  uint8  \n",
      " 155  store_id_S0115    37676 non-null  uint8  \n",
      " 156  store_id_S0116    37676 non-null  uint8  \n",
      " 157  store_id_S0117    37676 non-null  uint8  \n",
      " 158  store_id_S0118    37676 non-null  uint8  \n",
      " 159  store_id_S0119    37676 non-null  uint8  \n",
      " 160  store_id_S0120    37676 non-null  uint8  \n",
      " 161  store_id_S0121    37676 non-null  uint8  \n",
      " 162  store_id_S0122    37676 non-null  uint8  \n",
      " 163  store_id_S0123    37676 non-null  uint8  \n",
      " 164  store_id_S0124    37676 non-null  uint8  \n",
      " 165  store_id_S0125    37676 non-null  uint8  \n",
      " 166  store_id_S0126    37676 non-null  uint8  \n",
      " 167  store_id_S0127    37676 non-null  uint8  \n",
      " 168  store_id_S0128    37676 non-null  uint8  \n",
      " 169  store_id_S0129    37676 non-null  uint8  \n",
      " 170  store_id_S0130    37676 non-null  uint8  \n",
      " 171  store_id_S0131    37676 non-null  uint8  \n",
      " 172  store_id_S0132    37676 non-null  uint8  \n",
      " 173  store_id_S0133    37676 non-null  uint8  \n",
      " 174  store_id_S0134    37676 non-null  uint8  \n",
      " 175  store_id_S0135    37676 non-null  uint8  \n",
      " 176  store_id_S0136    37676 non-null  uint8  \n",
      " 177  store_id_S0137    37676 non-null  uint8  \n",
      " 178  store_id_S0138    37676 non-null  uint8  \n",
      " 179  store_id_S0139    37676 non-null  uint8  \n",
      " 180  store_id_S0140    37676 non-null  uint8  \n",
      " 181  store_id_S0141    37676 non-null  uint8  \n",
      " 182  store_id_S0142    37676 non-null  uint8  \n",
      " 183  store_id_S0143    37676 non-null  uint8  \n",
      " 184  store_id_S0144    37676 non-null  uint8  \n",
      " 185  product_id_P0002  37676 non-null  uint8  \n",
      " 186  product_id_P0004  37676 non-null  uint8  \n",
      " 187  product_id_P0005  37676 non-null  uint8  \n",
      " 188  product_id_P0006  37676 non-null  uint8  \n",
      " 189  product_id_P0007  37676 non-null  uint8  \n",
      " 190  product_id_P0008  37676 non-null  uint8  \n",
      " 191  product_id_P0009  37676 non-null  uint8  \n",
      " 192  product_id_P0010  37676 non-null  uint8  \n",
      " 193  product_id_P0011  37676 non-null  uint8  \n",
      " 194  product_id_P0012  37676 non-null  uint8  \n",
      " 195  product_id_P0014  37676 non-null  uint8  \n",
      " 196  product_id_P0015  37676 non-null  uint8  \n",
      " 197  product_id_P0016  37676 non-null  uint8  \n",
      " 198  product_id_P0017  37676 non-null  uint8  \n",
      " 199  product_id_P0018  37676 non-null  uint8  \n",
      " 200  product_id_P0019  37676 non-null  uint8  \n",
      " 201  product_id_P0020  37676 non-null  uint8  \n",
      " 202  product_id_P0021  37676 non-null  uint8  \n",
      " 203  product_id_P0022  37676 non-null  uint8  \n",
      " 204  product_id_P0024  37676 non-null  uint8  \n",
      " 205  product_id_P0025  37676 non-null  uint8  \n",
      " 206  product_id_P0026  37676 non-null  uint8  \n",
      " 207  product_id_P0027  37676 non-null  uint8  \n",
      " 208  product_id_P0028  37676 non-null  uint8  \n",
      " 209  product_id_P0029  37676 non-null  uint8  \n",
      " 210  product_id_P0030  37676 non-null  uint8  \n",
      " 211  product_id_P0031  37676 non-null  uint8  \n",
      " 212  product_id_P0032  37676 non-null  uint8  \n",
      " 213  product_id_P0033  37676 non-null  uint8  \n",
      " 214  product_id_P0035  37676 non-null  uint8  \n",
      " 215  product_id_P0036  37676 non-null  uint8  \n",
      " 216  product_id_P0037  37676 non-null  uint8  \n",
      " 217  product_id_P0038  37676 non-null  uint8  \n",
      " 218  product_id_P0039  37676 non-null  uint8  \n",
      " 219  product_id_P0041  37676 non-null  uint8  \n",
      " 220  product_id_P0042  37676 non-null  uint8  \n",
      " 221  product_id_P0043  37676 non-null  uint8  \n",
      " 222  product_id_P0044  37676 non-null  uint8  \n",
      " 223  product_id_P0045  37676 non-null  uint8  \n",
      " 224  product_id_P0046  37676 non-null  uint8  \n",
      " 225  product_id_P0047  37676 non-null  uint8  \n",
      " 226  product_id_P0048  37676 non-null  uint8  \n",
      " 227  product_id_P0049  37676 non-null  uint8  \n",
      " 228  product_id_P0050  37676 non-null  uint8  \n",
      " 229  product_id_P0051  37676 non-null  uint8  \n",
      " 230  product_id_P0053  37676 non-null  uint8  \n",
      " 231  product_id_P0054  37676 non-null  uint8  \n",
      " 232  product_id_P0055  37676 non-null  uint8  \n",
      " 233  product_id_P0057  37676 non-null  uint8  \n",
      " 234  product_id_P0058  37676 non-null  uint8  \n",
      " 235  product_id_P0059  37676 non-null  uint8  \n",
      " 236  product_id_P0060  37676 non-null  uint8  \n",
      " 237  product_id_P0061  37676 non-null  uint8  \n",
      " 238  product_id_P0062  37676 non-null  uint8  \n",
      " 239  product_id_P0063  37676 non-null  uint8  \n",
      " 240  product_id_P0064  37676 non-null  uint8  \n",
      " 241  product_id_P0065  37676 non-null  uint8  \n",
      " 242  product_id_P0066  37676 non-null  uint8  \n",
      " 243  product_id_P0067  37676 non-null  uint8  \n",
      " 244  product_id_P0068  37676 non-null  uint8  \n",
      " 245  product_id_P0069  37676 non-null  uint8  \n",
      " 246  product_id_P0070  37676 non-null  uint8  \n",
      " 247  product_id_P0071  37676 non-null  uint8  \n",
      " 248  product_id_P0072  37676 non-null  uint8  \n",
      " 249  product_id_P0073  37676 non-null  uint8  \n",
      " 250  product_id_P0075  37676 non-null  uint8  \n",
      " 251  product_id_P0076  37676 non-null  uint8  \n",
      " 252  product_id_P0077  37676 non-null  uint8  \n",
      " 253  product_id_P0078  37676 non-null  uint8  \n",
      " 254  product_id_P0079  37676 non-null  uint8  \n",
      " 255  product_id_P0080  37676 non-null  uint8  \n",
      " 256  product_id_P0082  37676 non-null  uint8  \n",
      " 257  product_id_P0083  37676 non-null  uint8  \n",
      " 258  product_id_P0084  37676 non-null  uint8  \n",
      " 259  product_id_P0085  37676 non-null  uint8  \n",
      " 260  product_id_P0087  37676 non-null  uint8  \n",
      " 261  product_id_P0088  37676 non-null  uint8  \n",
      " 262  product_id_P0089  37676 non-null  uint8  \n",
      " 263  product_id_P0090  37676 non-null  uint8  \n",
      " 264  product_id_P0091  37676 non-null  uint8  \n",
      " 265  product_id_P0092  37676 non-null  uint8  \n",
      " 266  product_id_P0093  37676 non-null  uint8  \n",
      " 267  product_id_P0094  37676 non-null  uint8  \n",
      " 268  product_id_P0095  37676 non-null  uint8  \n",
      " 269  product_id_P0096  37676 non-null  uint8  \n",
      " 270  product_id_P0097  37676 non-null  uint8  \n",
      " 271  product_id_P0098  37676 non-null  uint8  \n",
      " 272  product_id_P0099  37676 non-null  uint8  \n",
      " 273  product_id_P0100  37676 non-null  uint8  \n",
      " 274  product_id_P0101  37676 non-null  uint8  \n",
      " 275  product_id_P0102  37676 non-null  uint8  \n",
      " 276  product_id_P0103  37676 non-null  uint8  \n",
      " 277  product_id_P0104  37676 non-null  uint8  \n",
      " 278  product_id_P0105  37676 non-null  uint8  \n",
      " 279  product_id_P0108  37676 non-null  uint8  \n",
      " 280  product_id_P0109  37676 non-null  uint8  \n",
      " 281  product_id_P0110  37676 non-null  uint8  \n",
      " 282  product_id_P0111  37676 non-null  uint8  \n",
      " 283  product_id_P0112  37676 non-null  uint8  \n",
      " 284  product_id_P0113  37676 non-null  uint8  \n",
      " 285  product_id_P0114  37676 non-null  uint8  \n",
      " 286  product_id_P0115  37676 non-null  uint8  \n",
      " 287  product_id_P0116  37676 non-null  uint8  \n",
      " 288  product_id_P0117  37676 non-null  uint8  \n",
      " 289  product_id_P0119  37676 non-null  uint8  \n",
      " 290  product_id_P0122  37676 non-null  uint8  \n",
      " 291  product_id_P0124  37676 non-null  uint8  \n",
      " 292  product_id_P0125  37676 non-null  uint8  \n",
      " 293  product_id_P0126  37676 non-null  uint8  \n",
      " 294  product_id_P0127  37676 non-null  uint8  \n",
      " 295  product_id_P0128  37676 non-null  uint8  \n",
      " 296  product_id_P0129  37676 non-null  uint8  \n",
      " 297  product_id_P0130  37676 non-null  uint8  \n",
      " 298  product_id_P0131  37676 non-null  uint8  \n",
      " 299  product_id_P0132  37676 non-null  uint8  \n",
      " 300  product_id_P0134  37676 non-null  uint8  \n",
      " 301  product_id_P0135  37676 non-null  uint8  \n",
      " 302  product_id_P0136  37676 non-null  uint8  \n",
      " 303  product_id_P0137  37676 non-null  uint8  \n",
      " 304  product_id_P0138  37676 non-null  uint8  \n",
      " 305  product_id_P0140  37676 non-null  uint8  \n",
      " 306  product_id_P0141  37676 non-null  uint8  \n",
      " 307  product_id_P0142  37676 non-null  uint8  \n",
      " 308  product_id_P0143  37676 non-null  uint8  \n",
      " 309  product_id_P0144  37676 non-null  uint8  \n",
      " 310  product_id_P0145  37676 non-null  uint8  \n",
      " 311  product_id_P0146  37676 non-null  uint8  \n",
      " 312  product_id_P0147  37676 non-null  uint8  \n",
      " 313  product_id_P0148  37676 non-null  uint8  \n",
      " 314  product_id_P0149  37676 non-null  uint8  \n",
      " 315  product_id_P0150  37676 non-null  uint8  \n",
      " 316  product_id_P0151  37676 non-null  uint8  \n",
      " 317  product_id_P0152  37676 non-null  uint8  \n",
      " 318  product_id_P0154  37676 non-null  uint8  \n",
      " 319  product_id_P0155  37676 non-null  uint8  \n",
      " 320  product_id_P0156  37676 non-null  uint8  \n",
      " 321  product_id_P0157  37676 non-null  uint8  \n",
      " 322  product_id_P0158  37676 non-null  uint8  \n",
      " 323  product_id_P0159  37676 non-null  uint8  \n",
      " 324  product_id_P0160  37676 non-null  uint8  \n",
      " 325  product_id_P0161  37676 non-null  uint8  \n",
      " 326  product_id_P0162  37676 non-null  uint8  \n",
      " 327  product_id_P0163  37676 non-null  uint8  \n",
      " 328  product_id_P0164  37676 non-null  uint8  \n",
      " 329  product_id_P0165  37676 non-null  uint8  \n",
      " 330  product_id_P0166  37676 non-null  uint8  \n",
      " 331  product_id_P0167  37676 non-null  uint8  \n",
      " 332  product_id_P0169  37676 non-null  uint8  \n",
      " 333  product_id_P0170  37676 non-null  uint8  \n",
      " 334  product_id_P0171  37676 non-null  uint8  \n",
      " 335  product_id_P0172  37676 non-null  uint8  \n",
      " 336  product_id_P0173  37676 non-null  uint8  \n",
      " 337  product_id_P0174  37676 non-null  uint8  \n",
      " 338  product_id_P0175  37676 non-null  uint8  \n",
      " 339  product_id_P0176  37676 non-null  uint8  \n",
      " 340  product_id_P0177  37676 non-null  uint8  \n",
      " 341  product_id_P0178  37676 non-null  uint8  \n",
      " 342  product_id_P0179  37676 non-null  uint8  \n",
      " 343  product_id_P0180  37676 non-null  uint8  \n",
      " 344  product_id_P0181  37676 non-null  uint8  \n",
      " 345  product_id_P0182  37676 non-null  uint8  \n",
      " 346  product_id_P0183  37676 non-null  uint8  \n",
      " 347  product_id_P0184  37676 non-null  uint8  \n",
      " 348  product_id_P0185  37676 non-null  uint8  \n",
      " 349  product_id_P0186  37676 non-null  uint8  \n",
      " 350  product_id_P0187  37676 non-null  uint8  \n",
      " 351  product_id_P0188  37676 non-null  uint8  \n",
      " 352  product_id_P0189  37676 non-null  uint8  \n",
      " 353  product_id_P0190  37676 non-null  uint8  \n",
      " 354  product_id_P0192  37676 non-null  uint8  \n",
      " 355  product_id_P0193  37676 non-null  uint8  \n",
      " 356  product_id_P0194  37676 non-null  uint8  \n",
      " 357  product_id_P0195  37676 non-null  uint8  \n",
      " 358  product_id_P0196  37676 non-null  uint8  \n",
      " 359  product_id_P0197  37676 non-null  uint8  \n",
      " 360  product_id_P0198  37676 non-null  uint8  \n",
      " 361  product_id_P0201  37676 non-null  uint8  \n",
      " 362  product_id_P0202  37676 non-null  uint8  \n",
      " 363  product_id_P0203  37676 non-null  uint8  \n",
      " 364  product_id_P0204  37676 non-null  uint8  \n",
      " 365  product_id_P0205  37676 non-null  uint8  \n",
      " 366  product_id_P0206  37676 non-null  uint8  \n",
      " 367  product_id_P0208  37676 non-null  uint8  \n",
      " 368  product_id_P0209  37676 non-null  uint8  \n",
      " 369  product_id_P0210  37676 non-null  uint8  \n",
      " 370  product_id_P0211  37676 non-null  uint8  \n",
      " 371  product_id_P0212  37676 non-null  uint8  \n",
      " 372  product_id_P0213  37676 non-null  uint8  \n",
      " 373  product_id_P0214  37676 non-null  uint8  \n",
      " 374  product_id_P0215  37676 non-null  uint8  \n",
      " 375  product_id_P0216  37676 non-null  uint8  \n",
      " 376  product_id_P0217  37676 non-null  uint8  \n",
      " 377  product_id_P0218  37676 non-null  uint8  \n",
      " 378  product_id_P0219  37676 non-null  uint8  \n",
      " 379  product_id_P0220  37676 non-null  uint8  \n",
      " 380  product_id_P0221  37676 non-null  uint8  \n",
      " 381  product_id_P0222  37676 non-null  uint8  \n",
      " 382  product_id_P0223  37676 non-null  uint8  \n",
      " 383  product_id_P0224  37676 non-null  uint8  \n",
      " 384  product_id_P0225  37676 non-null  uint8  \n",
      " 385  product_id_P0226  37676 non-null  uint8  \n",
      " 386  product_id_P0227  37676 non-null  uint8  \n",
      " 387  product_id_P0228  37676 non-null  uint8  \n",
      " 388  product_id_P0229  37676 non-null  uint8  \n",
      " 389  product_id_P0231  37676 non-null  uint8  \n",
      " 390  product_id_P0232  37676 non-null  uint8  \n",
      " 391  product_id_P0233  37676 non-null  uint8  \n",
      " 392  product_id_P0234  37676 non-null  uint8  \n",
      " 393  product_id_P0237  37676 non-null  uint8  \n",
      " 394  product_id_P0238  37676 non-null  uint8  \n",
      " 395  product_id_P0239  37676 non-null  uint8  \n",
      " 396  product_id_P0240  37676 non-null  uint8  \n",
      " 397  product_id_P0241  37676 non-null  uint8  \n",
      " 398  product_id_P0242  37676 non-null  uint8  \n",
      " 399  product_id_P0243  37676 non-null  uint8  \n",
      " 400  product_id_P0245  37676 non-null  uint8  \n",
      " 401  product_id_P0246  37676 non-null  uint8  \n",
      " 402  product_id_P0247  37676 non-null  uint8  \n",
      " 403  product_id_P0249  37676 non-null  uint8  \n",
      " 404  product_id_P0251  37676 non-null  uint8  \n",
      " 405  product_id_P0252  37676 non-null  uint8  \n",
      " 406  product_id_P0254  37676 non-null  uint8  \n",
      " 407  product_id_P0255  37676 non-null  uint8  \n",
      " 408  product_id_P0256  37676 non-null  uint8  \n",
      " 409  product_id_P0257  37676 non-null  uint8  \n",
      " 410  product_id_P0258  37676 non-null  uint8  \n",
      " 411  product_id_P0259  37676 non-null  uint8  \n",
      " 412  product_id_P0260  37676 non-null  uint8  \n",
      " 413  product_id_P0261  37676 non-null  uint8  \n",
      " 414  product_id_P0263  37676 non-null  uint8  \n",
      " 415  product_id_P0264  37676 non-null  uint8  \n",
      " 416  product_id_P0265  37676 non-null  uint8  \n",
      " 417  product_id_P0266  37676 non-null  uint8  \n",
      " 418  product_id_P0267  37676 non-null  uint8  \n",
      " 419  product_id_P0268  37676 non-null  uint8  \n",
      " 420  product_id_P0269  37676 non-null  uint8  \n",
      " 421  product_id_P0270  37676 non-null  uint8  \n",
      " 422  product_id_P0271  37676 non-null  uint8  \n",
      " 423  product_id_P0272  37676 non-null  uint8  \n",
      " 424  product_id_P0274  37676 non-null  uint8  \n",
      " 425  product_id_P0275  37676 non-null  uint8  \n",
      " 426  product_id_P0276  37676 non-null  uint8  \n",
      " 427  product_id_P0277  37676 non-null  uint8  \n",
      " 428  product_id_P0278  37676 non-null  uint8  \n",
      " 429  product_id_P0279  37676 non-null  uint8  \n",
      " 430  product_id_P0280  37676 non-null  uint8  \n",
      " 431  product_id_P0281  37676 non-null  uint8  \n",
      " 432  product_id_P0282  37676 non-null  uint8  \n",
      " 433  product_id_P0283  37676 non-null  uint8  \n",
      " 434  product_id_P0284  37676 non-null  uint8  \n",
      " 435  product_id_P0285  37676 non-null  uint8  \n",
      " 436  product_id_P0286  37676 non-null  uint8  \n",
      " 437  product_id_P0287  37676 non-null  uint8  \n",
      " 438  product_id_P0289  37676 non-null  uint8  \n",
      " 439  product_id_P0290  37676 non-null  uint8  \n",
      " 440  product_id_P0291  37676 non-null  uint8  \n",
      " 441  product_id_P0293  37676 non-null  uint8  \n",
      " 442  product_id_P0294  37676 non-null  uint8  \n",
      " 443  product_id_P0295  37676 non-null  uint8  \n",
      " 444  product_id_P0296  37676 non-null  uint8  \n",
      " 445  product_id_P0297  37676 non-null  uint8  \n",
      " 446  product_id_P0298  37676 non-null  uint8  \n",
      " 447  product_id_P0299  37676 non-null  uint8  \n",
      " 448  product_id_P0300  37676 non-null  uint8  \n",
      " 449  product_id_P0301  37676 non-null  uint8  \n",
      " 450  product_id_P0302  37676 non-null  uint8  \n",
      " 451  product_id_P0304  37676 non-null  uint8  \n",
      " 452  product_id_P0305  37676 non-null  uint8  \n",
      " 453  product_id_P0309  37676 non-null  uint8  \n",
      " 454  product_id_P0310  37676 non-null  uint8  \n",
      " 455  product_id_P0311  37676 non-null  uint8  \n",
      " 456  product_id_P0312  37676 non-null  uint8  \n",
      " 457  product_id_P0313  37676 non-null  uint8  \n",
      " 458  product_id_P0314  37676 non-null  uint8  \n",
      " 459  product_id_P0316  37676 non-null  uint8  \n",
      " 460  product_id_P0317  37676 non-null  uint8  \n",
      " 461  product_id_P0318  37676 non-null  uint8  \n",
      " 462  product_id_P0321  37676 non-null  uint8  \n",
      " 463  product_id_P0322  37676 non-null  uint8  \n",
      " 464  product_id_P0324  37676 non-null  uint8  \n",
      " 465  product_id_P0325  37676 non-null  uint8  \n",
      " 466  product_id_P0326  37676 non-null  uint8  \n",
      " 467  product_id_P0327  37676 non-null  uint8  \n",
      " 468  product_id_P0328  37676 non-null  uint8  \n",
      " 469  product_id_P0329  37676 non-null  uint8  \n",
      " 470  product_id_P0330  37676 non-null  uint8  \n",
      " 471  product_id_P0331  37676 non-null  uint8  \n",
      " 472  product_id_P0332  37676 non-null  uint8  \n",
      " 473  product_id_P0333  37676 non-null  uint8  \n",
      " 474  product_id_P0335  37676 non-null  uint8  \n",
      " 475  product_id_P0336  37676 non-null  uint8  \n",
      " 476  product_id_P0337  37676 non-null  uint8  \n",
      " 477  product_id_P0339  37676 non-null  uint8  \n",
      " 478  product_id_P0340  37676 non-null  uint8  \n",
      " 479  product_id_P0341  37676 non-null  uint8  \n",
      " 480  product_id_P0342  37676 non-null  uint8  \n",
      " 481  product_id_P0343  37676 non-null  uint8  \n",
      " 482  product_id_P0344  37676 non-null  uint8  \n",
      " 483  product_id_P0345  37676 non-null  uint8  \n",
      " 484  product_id_P0346  37676 non-null  uint8  \n",
      " 485  product_id_P0347  37676 non-null  uint8  \n",
      " 486  product_id_P0348  37676 non-null  uint8  \n",
      " 487  product_id_P0350  37676 non-null  uint8  \n",
      " 488  product_id_P0351  37676 non-null  uint8  \n",
      " 489  product_id_P0352  37676 non-null  uint8  \n",
      " 490  product_id_P0353  37676 non-null  uint8  \n",
      " 491  product_id_P0354  37676 non-null  uint8  \n",
      " 492  product_id_P0355  37676 non-null  uint8  \n",
      " 493  product_id_P0356  37676 non-null  uint8  \n",
      " 494  product_id_P0358  37676 non-null  uint8  \n",
      " 495  product_id_P0360  37676 non-null  uint8  \n",
      " 496  product_id_P0361  37676 non-null  uint8  \n",
      " 497  product_id_P0362  37676 non-null  uint8  \n",
      " 498  product_id_P0363  37676 non-null  uint8  \n",
      " 499  product_id_P0364  37676 non-null  uint8  \n",
      " 500  product_id_P0366  37676 non-null  uint8  \n",
      " 501  product_id_P0369  37676 non-null  uint8  \n",
      " 502  product_id_P0370  37676 non-null  uint8  \n",
      " 503  product_id_P0371  37676 non-null  uint8  \n",
      " 504  product_id_P0372  37676 non-null  uint8  \n",
      " 505  product_id_P0373  37676 non-null  uint8  \n",
      " 506  product_id_P0374  37676 non-null  uint8  \n",
      " 507  product_id_P0375  37676 non-null  uint8  \n",
      " 508  product_id_P0376  37676 non-null  uint8  \n",
      " 509  product_id_P0377  37676 non-null  uint8  \n",
      " 510  product_id_P0379  37676 non-null  uint8  \n",
      " 511  product_id_P0381  37676 non-null  uint8  \n",
      " 512  product_id_P0382  37676 non-null  uint8  \n",
      " 513  product_id_P0383  37676 non-null  uint8  \n",
      " 514  product_id_P0384  37676 non-null  uint8  \n",
      " 515  product_id_P0386  37676 non-null  uint8  \n",
      " 516  product_id_P0388  37676 non-null  uint8  \n",
      " 517  product_id_P0389  37676 non-null  uint8  \n",
      " 518  product_id_P0390  37676 non-null  uint8  \n",
      " 519  product_id_P0391  37676 non-null  uint8  \n",
      " 520  product_id_P0392  37676 non-null  uint8  \n",
      " 521  product_id_P0393  37676 non-null  uint8  \n",
      " 522  product_id_P0394  37676 non-null  uint8  \n",
      " 523  product_id_P0395  37676 non-null  uint8  \n",
      " 524  product_id_P0396  37676 non-null  uint8  \n",
      " 525  product_id_P0397  37676 non-null  uint8  \n",
      " 526  product_id_P0398  37676 non-null  uint8  \n",
      " 527  product_id_P0399  37676 non-null  uint8  \n",
      " 528  product_id_P0400  37676 non-null  uint8  \n",
      " 529  product_id_P0402  37676 non-null  uint8  \n",
      " 530  product_id_P0403  37676 non-null  uint8  \n",
      " 531  product_id_P0405  37676 non-null  uint8  \n",
      " 532  product_id_P0406  37676 non-null  uint8  \n",
      " 533  product_id_P0408  37676 non-null  uint8  \n",
      " 534  product_id_P0411  37676 non-null  uint8  \n",
      " 535  product_id_P0412  37676 non-null  uint8  \n",
      " 536  product_id_P0413  37676 non-null  uint8  \n",
      " 537  product_id_P0414  37676 non-null  uint8  \n",
      " 538  product_id_P0415  37676 non-null  uint8  \n",
      " 539  product_id_P0416  37676 non-null  uint8  \n",
      " 540  product_id_P0417  37676 non-null  uint8  \n",
      " 541  product_id_P0418  37676 non-null  uint8  \n",
      " 542  product_id_P0419  37676 non-null  uint8  \n",
      " 543  product_id_P0420  37676 non-null  uint8  \n",
      " 544  product_id_P0421  37676 non-null  uint8  \n",
      " 545  product_id_P0422  37676 non-null  uint8  \n",
      " 546  product_id_P0423  37676 non-null  uint8  \n",
      " 547  product_id_P0424  37676 non-null  uint8  \n",
      " 548  product_id_P0425  37676 non-null  uint8  \n",
      " 549  product_id_P0426  37676 non-null  uint8  \n",
      " 550  product_id_P0427  37676 non-null  uint8  \n",
      " 551  product_id_P0428  37676 non-null  uint8  \n",
      " 552  product_id_P0429  37676 non-null  uint8  \n",
      " 553  product_id_P0431  37676 non-null  uint8  \n",
      " 554  product_id_P0432  37676 non-null  uint8  \n",
      " 555  product_id_P0433  37676 non-null  uint8  \n",
      " 556  product_id_P0435  37676 non-null  uint8  \n",
      " 557  product_id_P0436  37676 non-null  uint8  \n",
      " 558  product_id_P0437  37676 non-null  uint8  \n",
      " 559  product_id_P0438  37676 non-null  uint8  \n",
      " 560  product_id_P0439  37676 non-null  uint8  \n",
      " 561  product_id_P0440  37676 non-null  uint8  \n",
      " 562  product_id_P0441  37676 non-null  uint8  \n",
      " 563  product_id_P0442  37676 non-null  uint8  \n",
      " 564  product_id_P0444  37676 non-null  uint8  \n",
      " 565  product_id_P0445  37676 non-null  uint8  \n",
      " 566  product_id_P0446  37676 non-null  uint8  \n",
      " 567  product_id_P0448  37676 non-null  uint8  \n",
      " 568  product_id_P0450  37676 non-null  uint8  \n",
      " 569  product_id_P0451  37676 non-null  uint8  \n",
      " 570  product_id_P0452  37676 non-null  uint8  \n",
      " 571  product_id_P0453  37676 non-null  uint8  \n",
      " 572  product_id_P0454  37676 non-null  uint8  \n",
      " 573  product_id_P0455  37676 non-null  uint8  \n",
      " 574  product_id_P0456  37676 non-null  uint8  \n",
      " 575  product_id_P0457  37676 non-null  uint8  \n",
      " 576  product_id_P0458  37676 non-null  uint8  \n",
      " 577  product_id_P0459  37676 non-null  uint8  \n",
      " 578  product_id_P0460  37676 non-null  uint8  \n",
      " 579  product_id_P0461  37676 non-null  uint8  \n",
      " 580  product_id_P0462  37676 non-null  uint8  \n",
      " 581  product_id_P0463  37676 non-null  uint8  \n",
      " 582  product_id_P0464  37676 non-null  uint8  \n",
      " 583  product_id_P0465  37676 non-null  uint8  \n",
      " 584  product_id_P0466  37676 non-null  uint8  \n",
      " 585  product_id_P0467  37676 non-null  uint8  \n",
      " 586  product_id_P0468  37676 non-null  uint8  \n",
      " 587  product_id_P0469  37676 non-null  uint8  \n",
      " 588  product_id_P0470  37676 non-null  uint8  \n",
      " 589  product_id_P0471  37676 non-null  uint8  \n",
      " 590  product_id_P0473  37676 non-null  uint8  \n",
      " 591  product_id_P0474  37676 non-null  uint8  \n",
      " 592  product_id_P0475  37676 non-null  uint8  \n",
      " 593  product_id_P0476  37676 non-null  uint8  \n",
      " 594  product_id_P0477  37676 non-null  uint8  \n",
      " 595  product_id_P0480  37676 non-null  uint8  \n",
      " 596  product_id_P0481  37676 non-null  uint8  \n",
      " 597  product_id_P0482  37676 non-null  uint8  \n",
      " 598  product_id_P0483  37676 non-null  uint8  \n",
      " 599  product_id_P0484  37676 non-null  uint8  \n",
      " 600  product_id_P0485  37676 non-null  uint8  \n",
      " 601  product_id_P0487  37676 non-null  uint8  \n",
      " 602  product_id_P0489  37676 non-null  uint8  \n",
      " 603  product_id_P0490  37676 non-null  uint8  \n",
      " 604  product_id_P0491  37676 non-null  uint8  \n",
      " 605  product_id_P0492  37676 non-null  uint8  \n",
      " 606  product_id_P0493  37676 non-null  uint8  \n",
      " 607  product_id_P0494  37676 non-null  uint8  \n",
      " 608  product_id_P0495  37676 non-null  uint8  \n",
      " 609  product_id_P0496  37676 non-null  uint8  \n",
      " 610  product_id_P0497  37676 non-null  uint8  \n",
      " 611  product_id_P0498  37676 non-null  uint8  \n",
      " 612  product_id_P0499  37676 non-null  uint8  \n",
      " 613  product_id_P0500  37676 non-null  uint8  \n",
      " 614  product_id_P0501  37676 non-null  uint8  \n",
      " 615  product_id_P0502  37676 non-null  uint8  \n",
      " 616  product_id_P0503  37676 non-null  uint8  \n",
      " 617  product_id_P0504  37676 non-null  uint8  \n",
      " 618  product_id_P0505  37676 non-null  uint8  \n",
      " 619  product_id_P0506  37676 non-null  uint8  \n",
      " 620  product_id_P0507  37676 non-null  uint8  \n",
      " 621  product_id_P0508  37676 non-null  uint8  \n",
      " 622  product_id_P0509  37676 non-null  uint8  \n",
      " 623  product_id_P0510  37676 non-null  uint8  \n",
      " 624  product_id_P0511  37676 non-null  uint8  \n",
      " 625  product_id_P0512  37676 non-null  uint8  \n",
      " 626  product_id_P0513  37676 non-null  uint8  \n",
      " 627  product_id_P0514  37676 non-null  uint8  \n",
      " 628  product_id_P0515  37676 non-null  uint8  \n",
      " 629  product_id_P0516  37676 non-null  uint8  \n",
      " 630  product_id_P0517  37676 non-null  uint8  \n",
      " 631  product_id_P0518  37676 non-null  uint8  \n",
      " 632  product_id_P0520  37676 non-null  uint8  \n",
      " 633  product_id_P0521  37676 non-null  uint8  \n",
      " 634  product_id_P0522  37676 non-null  uint8  \n",
      " 635  product_id_P0523  37676 non-null  uint8  \n",
      " 636  product_id_P0524  37676 non-null  uint8  \n",
      " 637  product_id_P0525  37676 non-null  uint8  \n",
      " 638  product_id_P0526  37676 non-null  uint8  \n",
      " 639  product_id_P0527  37676 non-null  uint8  \n",
      " 640  product_id_P0528  37676 non-null  uint8  \n",
      " 641  product_id_P0529  37676 non-null  uint8  \n",
      " 642  product_id_P0531  37676 non-null  uint8  \n",
      " 643  product_id_P0532  37676 non-null  uint8  \n",
      " 644  product_id_P0533  37676 non-null  uint8  \n",
      " 645  product_id_P0534  37676 non-null  uint8  \n",
      " 646  product_id_P0535  37676 non-null  uint8  \n",
      " 647  product_id_P0536  37676 non-null  uint8  \n",
      " 648  product_id_P0537  37676 non-null  uint8  \n",
      " 649  product_id_P0538  37676 non-null  uint8  \n",
      " 650  product_id_P0539  37676 non-null  uint8  \n",
      " 651  product_id_P0540  37676 non-null  uint8  \n",
      " 652  product_id_P0541  37676 non-null  uint8  \n",
      " 653  product_id_P0543  37676 non-null  uint8  \n",
      " 654  product_id_P0544  37676 non-null  uint8  \n",
      " 655  product_id_P0545  37676 non-null  uint8  \n",
      " 656  product_id_P0546  37676 non-null  uint8  \n",
      " 657  product_id_P0547  37676 non-null  uint8  \n",
      " 658  product_id_P0548  37676 non-null  uint8  \n",
      " 659  product_id_P0549  37676 non-null  uint8  \n",
      " 660  product_id_P0550  37676 non-null  uint8  \n",
      " 661  product_id_P0551  37676 non-null  uint8  \n",
      " 662  product_id_P0552  37676 non-null  uint8  \n",
      " 663  product_id_P0553  37676 non-null  uint8  \n",
      " 664  product_id_P0554  37676 non-null  uint8  \n",
      " 665  product_id_P0555  37676 non-null  uint8  \n",
      " 666  product_id_P0556  37676 non-null  uint8  \n",
      " 667  product_id_P0557  37676 non-null  uint8  \n",
      " 668  product_id_P0559  37676 non-null  uint8  \n",
      " 669  product_id_P0560  37676 non-null  uint8  \n",
      " 670  product_id_P0561  37676 non-null  uint8  \n",
      " 671  product_id_P0563  37676 non-null  uint8  \n",
      " 672  product_id_P0565  37676 non-null  uint8  \n",
      " 673  product_id_P0566  37676 non-null  uint8  \n",
      " 674  product_id_P0567  37676 non-null  uint8  \n",
      " 675  product_id_P0569  37676 non-null  uint8  \n",
      " 676  product_id_P0570  37676 non-null  uint8  \n",
      " 677  product_id_P0571  37676 non-null  uint8  \n",
      " 678  product_id_P0572  37676 non-null  uint8  \n",
      " 679  product_id_P0574  37676 non-null  uint8  \n",
      " 680  product_id_P0575  37676 non-null  uint8  \n",
      " 681  product_id_P0576  37676 non-null  uint8  \n",
      " 682  product_id_P0577  37676 non-null  uint8  \n",
      " 683  product_id_P0578  37676 non-null  uint8  \n",
      " 684  product_id_P0579  37676 non-null  uint8  \n",
      " 685  product_id_P0581  37676 non-null  uint8  \n",
      " 686  product_id_P0582  37676 non-null  uint8  \n",
      " 687  product_id_P0583  37676 non-null  uint8  \n",
      " 688  product_id_P0584  37676 non-null  uint8  \n",
      " 689  product_id_P0585  37676 non-null  uint8  \n",
      " 690  product_id_P0587  37676 non-null  uint8  \n",
      " 691  product_id_P0588  37676 non-null  uint8  \n",
      " 692  product_id_P0589  37676 non-null  uint8  \n",
      " 693  product_id_P0590  37676 non-null  uint8  \n",
      " 694  product_id_P0591  37676 non-null  uint8  \n",
      " 695  product_id_P0592  37676 non-null  uint8  \n",
      " 696  product_id_P0593  37676 non-null  uint8  \n",
      " 697  product_id_P0594  37676 non-null  uint8  \n",
      " 698  product_id_P0595  37676 non-null  uint8  \n",
      " 699  product_id_P0597  37676 non-null  uint8  \n",
      " 700  product_id_P0598  37676 non-null  uint8  \n",
      " 701  product_id_P0599  37676 non-null  uint8  \n",
      " 702  product_id_P0600  37676 non-null  uint8  \n",
      " 703  product_id_P0601  37676 non-null  uint8  \n",
      " 704  product_id_P0602  37676 non-null  uint8  \n",
      " 705  product_id_P0603  37676 non-null  uint8  \n",
      " 706  product_id_P0605  37676 non-null  uint8  \n",
      " 707  product_id_P0606  37676 non-null  uint8  \n",
      " 708  product_id_P0608  37676 non-null  uint8  \n",
      " 709  product_id_P0609  37676 non-null  uint8  \n",
      " 710  product_id_P0610  37676 non-null  uint8  \n",
      " 711  product_id_P0611  37676 non-null  uint8  \n",
      " 712  product_id_P0613  37676 non-null  uint8  \n",
      " 713  product_id_P0614  37676 non-null  uint8  \n",
      " 714  product_id_P0615  37676 non-null  uint8  \n",
      " 715  product_id_P0616  37676 non-null  uint8  \n",
      " 716  product_id_P0617  37676 non-null  uint8  \n",
      " 717  product_id_P0618  37676 non-null  uint8  \n",
      " 718  product_id_P0619  37676 non-null  uint8  \n",
      " 719  product_id_P0620  37676 non-null  uint8  \n",
      " 720  product_id_P0621  37676 non-null  uint8  \n",
      " 721  product_id_P0622  37676 non-null  uint8  \n",
      " 722  product_id_P0623  37676 non-null  uint8  \n",
      " 723  product_id_P0625  37676 non-null  uint8  \n",
      " 724  product_id_P0626  37676 non-null  uint8  \n",
      " 725  product_id_P0627  37676 non-null  uint8  \n",
      " 726  product_id_P0628  37676 non-null  uint8  \n",
      " 727  product_id_P0629  37676 non-null  uint8  \n",
      " 728  product_id_P0630  37676 non-null  uint8  \n",
      " 729  product_id_P0631  37676 non-null  uint8  \n",
      " 730  product_id_P0632  37676 non-null  uint8  \n",
      " 731  product_id_P0633  37676 non-null  uint8  \n",
      " 732  product_id_P0634  37676 non-null  uint8  \n",
      " 733  product_id_P0635  37676 non-null  uint8  \n",
      " 734  product_id_P0637  37676 non-null  uint8  \n",
      " 735  product_id_P0638  37676 non-null  uint8  \n",
      " 736  product_id_P0639  37676 non-null  uint8  \n",
      " 737  product_id_P0640  37676 non-null  uint8  \n",
      " 738  product_id_P0641  37676 non-null  uint8  \n",
      " 739  product_id_P0642  37676 non-null  uint8  \n",
      " 740  product_id_P0643  37676 non-null  uint8  \n",
      " 741  product_id_P0644  37676 non-null  uint8  \n",
      " 742  product_id_P0645  37676 non-null  uint8  \n",
      " 743  product_id_P0646  37676 non-null  uint8  \n",
      " 744  product_id_P0647  37676 non-null  uint8  \n",
      " 745  product_id_P0649  37676 non-null  uint8  \n",
      " 746  product_id_P0651  37676 non-null  uint8  \n",
      " 747  product_id_P0652  37676 non-null  uint8  \n",
      " 748  product_id_P0654  37676 non-null  uint8  \n",
      " 749  product_id_P0655  37676 non-null  uint8  \n",
      " 750  product_id_P0656  37676 non-null  uint8  \n",
      " 751  product_id_P0657  37676 non-null  uint8  \n",
      " 752  product_id_P0658  37676 non-null  uint8  \n",
      " 753  product_id_P0659  37676 non-null  uint8  \n",
      " 754  product_id_P0660  37676 non-null  uint8  \n",
      " 755  product_id_P0661  37676 non-null  uint8  \n",
      " 756  product_id_P0662  37676 non-null  uint8  \n",
      " 757  product_id_P0663  37676 non-null  uint8  \n",
      " 758  product_id_P0664  37676 non-null  uint8  \n",
      " 759  product_id_P0665  37676 non-null  uint8  \n",
      " 760  product_id_P0666  37676 non-null  uint8  \n",
      " 761  product_id_P0667  37676 non-null  uint8  \n",
      " 762  product_id_P0668  37676 non-null  uint8  \n",
      " 763  product_id_P0669  37676 non-null  uint8  \n",
      " 764  product_id_P0670  37676 non-null  uint8  \n",
      " 765  product_id_P0671  37676 non-null  uint8  \n",
      " 766  product_id_P0672  37676 non-null  uint8  \n",
      " 767  product_id_P0673  37676 non-null  uint8  \n",
      " 768  product_id_P0674  37676 non-null  uint8  \n",
      " 769  product_id_P0675  37676 non-null  uint8  \n",
      " 770  product_id_P0676  37676 non-null  uint8  \n",
      " 771  product_id_P0678  37676 non-null  uint8  \n",
      " 772  product_id_P0679  37676 non-null  uint8  \n",
      " 773  product_id_P0680  37676 non-null  uint8  \n",
      " 774  product_id_P0681  37676 non-null  uint8  \n",
      " 775  product_id_P0682  37676 non-null  uint8  \n",
      " 776  product_id_P0683  37676 non-null  uint8  \n",
      " 777  product_id_P0684  37676 non-null  uint8  \n",
      " 778  product_id_P0685  37676 non-null  uint8  \n",
      " 779  product_id_P0687  37676 non-null  uint8  \n",
      " 780  product_id_P0688  37676 non-null  uint8  \n",
      " 781  product_id_P0689  37676 non-null  uint8  \n",
      " 782  product_id_P0690  37676 non-null  uint8  \n",
      " 783  product_id_P0691  37676 non-null  uint8  \n",
      " 784  product_id_P0692  37676 non-null  uint8  \n",
      " 785  product_id_P0693  37676 non-null  uint8  \n",
      " 786  product_id_P0694  37676 non-null  uint8  \n",
      " 787  product_id_P0695  37676 non-null  uint8  \n",
      " 788  product_id_P0696  37676 non-null  uint8  \n",
      " 789  product_id_P0697  37676 non-null  uint8  \n",
      " 790  product_id_P0698  37676 non-null  uint8  \n",
      " 791  product_id_P0699  37676 non-null  uint8  \n",
      " 792  product_id_P0700  37676 non-null  uint8  \n",
      " 793  product_id_P0701  37676 non-null  uint8  \n",
      " 794  product_id_P0702  37676 non-null  uint8  \n",
      " 795  product_id_P0703  37676 non-null  uint8  \n",
      " 796  product_id_P0704  37676 non-null  uint8  \n",
      " 797  product_id_P0705  37676 non-null  uint8  \n",
      " 798  product_id_P0706  37676 non-null  uint8  \n",
      " 799  product_id_P0707  37676 non-null  uint8  \n",
      " 800  product_id_P0708  37676 non-null  uint8  \n",
      " 801  product_id_P0709  37676 non-null  uint8  \n",
      " 802  product_id_P0710  37676 non-null  uint8  \n",
      " 803  product_id_P0711  37676 non-null  uint8  \n",
      " 804  product_id_P0712  37676 non-null  uint8  \n",
      " 805  product_id_P0713  37676 non-null  uint8  \n",
      " 806  product_id_P0714  37676 non-null  uint8  \n",
      " 807  product_id_P0715  37676 non-null  uint8  \n",
      " 808  product_id_P0716  37676 non-null  uint8  \n",
      " 809  product_id_P0718  37676 non-null  uint8  \n",
      " 810  product_id_P0720  37676 non-null  uint8  \n",
      " 811  product_id_P0721  37676 non-null  uint8  \n",
      " 812  product_id_P0724  37676 non-null  uint8  \n",
      " 813  product_id_P0725  37676 non-null  uint8  \n",
      " 814  product_id_P0726  37676 non-null  uint8  \n",
      " 815  product_id_P0728  37676 non-null  uint8  \n",
      " 816  product_id_P0729  37676 non-null  uint8  \n",
      " 817  product_id_P0730  37676 non-null  uint8  \n",
      " 818  product_id_P0731  37676 non-null  uint8  \n",
      " 819  product_id_P0732  37676 non-null  uint8  \n",
      " 820  product_id_P0733  37676 non-null  uint8  \n",
      " 821  product_id_P0735  37676 non-null  uint8  \n",
      " 822  product_id_P0736  37676 non-null  uint8  \n",
      " 823  product_id_P0737  37676 non-null  uint8  \n",
      " 824  product_id_P0738  37676 non-null  uint8  \n",
      " 825  product_id_P0739  37676 non-null  uint8  \n",
      " 826  product_id_P0740  37676 non-null  uint8  \n",
      " 827  product_id_P0741  37676 non-null  uint8  \n",
      " 828  product_id_P0742  37676 non-null  uint8  \n",
      " 829  product_id_P0745  37676 non-null  uint8  \n",
      " 830  product_id_P0746  37676 non-null  uint8  \n",
      " 831  product_id_P0747  37676 non-null  uint8  \n",
      " 832  product_id_P0748  37676 non-null  uint8  \n",
      "dtypes: float64(4), int64(2), uint8(827)\n",
      "memory usage: 31.7 MB\n"
     ]
    }
   ],
   "source": [
    "df_with_dummies.info(show_counts=True,verbose=True)"
   ]
  },
  {
   "cell_type": "code",
   "execution_count": 15,
   "metadata": {},
   "outputs": [],
   "source": [
    "# convert to SparseDataFrame\n",
    "#df_with_dummies_sparse = df_with_dummies.to_sparse().values\n",
    "  \n",
    "# Print the result\n",
    "#display(df_with_dummies_sparse.head())\n",
    "  \n",
    "# Verify the result by checking the \n",
    "# type of the object.\n",
    "#print(type(result))"
   ]
  },
  {
   "cell_type": "code",
   "execution_count": 16,
   "metadata": {},
   "outputs": [],
   "source": [
    "#from scipy import sparse"
   ]
  },
  {
   "cell_type": "code",
   "execution_count": 17,
   "metadata": {},
   "outputs": [],
   "source": [
    "# convert to SparseDataFrame\n",
    "#df_with_dummies_sparse = df_with_dummies.sparse().values"
   ]
  },
  {
   "cell_type": "markdown",
   "metadata": {},
   "source": [
    "### Train Test Validation Split"
   ]
  },
  {
   "cell_type": "code",
   "execution_count": 18,
   "metadata": {
    "ExecuteTime": {
     "end_time": "2021-11-27T10:35:20.554889Z",
     "start_time": "2021-11-27T10:35:20.540381Z"
    }
   },
   "outputs": [],
   "source": [
    "label = 'sales'"
   ]
  },
  {
   "cell_type": "code",
   "execution_count": 19,
   "metadata": {
    "ExecuteTime": {
     "end_time": "2021-11-27T10:35:25.039560Z",
     "start_time": "2021-11-27T10:35:25.016732Z"
    }
   },
   "outputs": [],
   "source": [
    "X_train, X_test, y_train, y_test = train_test_split(df_with_dummies.values, df_with_dummies[label].values, test_size=0.3,\n",
    "                                                    shuffle=True, random_state=3)"
   ]
  },
  {
   "cell_type": "code",
   "execution_count": 20,
   "metadata": {
    "ExecuteTime": {
     "end_time": "2021-11-27T10:35:26.815600Z",
     "start_time": "2021-11-27T10:35:26.801373Z"
    }
   },
   "outputs": [
    {
     "name": "stdout",
     "output_type": "stream",
     "text": [
      "X train Shape:  (2005146, 41)\n",
      "X test Shape:  (859349, 41)\n",
      "y train Shape:  (2005146,)\n",
      "y test Shape:  (859349,)\n"
     ]
    }
   ],
   "source": [
    "print(\"X train Shape: \", X_train.shape)\n",
    "print(\"X test Shape: \", X_test.shape)\n",
    "print(\"y train Shape: \", y_train.shape)\n",
    "print(\"y test Shape: \", y_test.shape)"
   ]
  },
  {
   "cell_type": "code",
   "execution_count": 21,
   "metadata": {
    "ExecuteTime": {
     "end_time": "2021-11-27T10:35:30.754053Z",
     "start_time": "2021-11-27T10:35:30.732845Z"
    }
   },
   "outputs": [],
   "source": [
    "X_pseudo_test, X_test, y_pseudo_test, y_test = train_test_split(X_test, y_test, test_size=0.5, random_state=3, shuffle=True)"
   ]
  },
  {
   "cell_type": "code",
   "execution_count": 22,
   "metadata": {
    "ExecuteTime": {
     "end_time": "2021-11-27T10:35:31.709744Z",
     "start_time": "2021-11-27T10:35:31.693107Z"
    }
   },
   "outputs": [
    {
     "name": "stdout",
     "output_type": "stream",
     "text": [
      "X pseudo_test Shape:  (429674, 41)\n",
      "X test Shape:  (429675, 41)\n",
      "y pseudo_test Shape:  (429674,)\n",
      "y test Shape:  (429675,)\n"
     ]
    }
   ],
   "source": [
    "print(\"X pseudo_test Shape: \", X_pseudo_test.shape)\n",
    "print(\"X test Shape: \", X_test.shape)\n",
    "print(\"y pseudo_test Shape: \", y_pseudo_test.shape)\n",
    "print(\"y test Shape: \", y_test.shape)"
   ]
  },
  {
   "cell_type": "code",
   "execution_count": 23,
   "metadata": {},
   "outputs": [
    {
     "data": {
      "text/plain": [
       "array([[ 90.     ,   2.     ,  21.86   ,  24.     ,  12.9    ,   0.     ,\n",
       "          0.     ,   0.     ,   0.     ,   0.     ,   0.     ,   0.     ,\n",
       "          0.     ,   0.     ,   0.     ,   0.     ,   0.     ,   0.     ,\n",
       "          0.     ,   0.     ,   0.     ,   0.     ,   0.     ,   0.     ,\n",
       "          0.     ,   0.     ,   0.     ,   0.     ,   0.     ,   0.     ,\n",
       "          0.     ,   0.     ,   0.     ,   0.     ,   0.     ,   0.     ,\n",
       "          0.     ,   0.     ,   0.     ,   1.     ,   0.     ],\n",
       "       [ 39.     ,   0.     ,   0.     ,  56.     ,   7.9    ,   0.     ,\n",
       "          0.     ,   0.     ,   0.     ,   0.     ,   0.     ,   0.     ,\n",
       "          0.     ,   0.     ,   0.     ,   0.     ,   0.     ,   0.     ,\n",
       "          0.     ,   0.     ,   0.     ,   0.     ,   0.     ,   0.     ,\n",
       "          0.     ,   1.     ,   0.     ,   0.     ,   0.     ,   0.     ,\n",
       "          0.     ,   0.     ,   0.     ,   0.     ,   0.     ,   0.     ,\n",
       "          0.     ,   0.     ,   0.     ,   0.     ,   0.     ],\n",
       "       [  0.     ,   0.     ,   0.     ,  72.     ,  13.     ,   0.     ,\n",
       "          1.     ,   0.     ,   0.     ,   0.     ,   0.     ,   0.     ,\n",
       "          0.     ,   0.     ,   0.     ,   0.     ,   0.     ,   0.     ,\n",
       "          0.     ,   0.     ,   0.     ,   0.     ,   0.     ,   0.     ,\n",
       "          0.     ,   0.     ,   0.     ,   0.     ,   0.     ,   0.     ,\n",
       "          0.     ,   0.     ,   0.     ,   0.     ,   0.     ,   0.     ,\n",
       "          0.     ,   0.     ,   0.     ,   0.     ,   0.     ],\n",
       "       [126.     ,   0.     ,   0.     ,  42.     ,  21.9    ,   0.     ,\n",
       "          0.     ,   0.     ,   0.     ,   0.     ,   0.     ,   0.     ,\n",
       "          0.     ,   0.     ,   0.     ,   0.     ,   0.     ,   1.     ,\n",
       "          0.     ,   0.     ,   0.     ,   0.     ,   0.     ,   0.     ,\n",
       "          0.     ,   0.     ,   0.     ,   0.     ,   0.     ,   0.     ,\n",
       "          0.     ,   0.     ,   0.     ,   0.     ,   0.     ,   0.     ,\n",
       "          0.     ,   0.     ,   0.     ,   0.     ,   0.     ],\n",
       "       [139.     ,   3.     ,  27.09   ,  15.     ,   9.75   ,   0.     ,\n",
       "          0.     ,   0.     ,   0.     ,   0.     ,   0.     ,   1.     ,\n",
       "          0.     ,   0.     ,   0.     ,   0.     ,   0.     ,   0.     ,\n",
       "          0.     ,   0.     ,   0.     ,   0.     ,   0.     ,   0.     ,\n",
       "          0.     ,   0.     ,   0.     ,   0.     ,   0.     ,   0.     ,\n",
       "          0.     ,   0.     ,   0.     ,   0.     ,   0.     ,   0.     ,\n",
       "          0.     ,   0.     ,   0.     ,   0.     ,   0.     ],\n",
       "       [145.     ,   0.     ,   0.     , 154.     ,  35.5    ,   0.     ,\n",
       "          0.     ,   0.     ,   0.     ,   0.     ,   0.     ,   0.     ,\n",
       "          0.     ,   0.     ,   0.     ,   0.     ,   0.     ,   0.     ,\n",
       "          0.     ,   0.     ,   0.     ,   0.     ,   0.     ,   0.     ,\n",
       "          0.     ,   0.     ,   1.     ,   0.     ,   0.     ,   0.     ,\n",
       "          0.     ,   0.     ,   0.     ,   0.     ,   0.     ,   0.     ,\n",
       "          0.     ,   0.     ,   0.     ,   0.     ,   0.     ],\n",
       "       [ 84.     ,  35.     , 111.8    , 869.     ,   3.45   ,   0.     ,\n",
       "          0.     ,   0.     ,   0.     ,   0.     ,   0.     ,   0.     ,\n",
       "          0.     ,   0.     ,   0.     ,   0.     ,   0.     ,   0.     ,\n",
       "          0.     ,   0.     ,   0.     ,   0.     ,   0.     ,   0.     ,\n",
       "          0.     ,   1.     ,   0.     ,   0.     ,   0.     ,   0.     ,\n",
       "          0.     ,   0.     ,   0.     ,   0.     ,   0.     ,   0.     ,\n",
       "          0.     ,   0.     ,   0.     ,   0.     ,   0.     ],\n",
       "       [ 74.     ,   6.     ,  60.71   , 100.     ,  19.9    ,   0.     ,\n",
       "          0.     ,   0.     ,   0.     ,   0.     ,   0.     ,   0.     ,\n",
       "          0.     ,   0.     ,   0.     ,   0.     ,   0.     ,   1.     ,\n",
       "          0.     ,   0.     ,   0.     ,   0.     ,   0.     ,   0.     ,\n",
       "          0.     ,   0.     ,   0.     ,   0.     ,   0.     ,   0.     ,\n",
       "          0.     ,   0.     ,   0.     ,   0.     ,   0.     ,   0.     ,\n",
       "          0.     ,   0.     ,   0.     ,   0.     ,   0.     ],\n",
       "       [141.     ,   0.     ,   0.     ,  98.     ,   5.95   ,   0.     ,\n",
       "          0.     ,   0.     ,   0.     ,   0.     ,   0.     ,   0.     ,\n",
       "          0.     ,   0.     ,   0.     ,   0.     ,   0.     ,   0.     ,\n",
       "          0.     ,   0.     ,   0.     ,   0.     ,   0.     ,   0.     ,\n",
       "          0.     ,   0.     ,   0.     ,   0.     ,   0.     ,   0.     ,\n",
       "          0.     ,   0.     ,   0.     ,   0.     ,   1.     ,   0.     ,\n",
       "          0.     ,   0.     ,   0.     ,   0.     ,   0.     ],\n",
       "       [  1.     ,   1.     ,  18.98   ,  58.     ,  20.40625,   0.     ,\n",
       "          0.     ,   0.     ,   0.     ,   0.     ,   0.     ,   0.     ,\n",
       "          0.     ,   0.     ,   0.     ,   0.     ,   0.     ,   1.     ,\n",
       "          0.     ,   0.     ,   0.     ,   0.     ,   0.     ,   0.     ,\n",
       "          0.     ,   0.     ,   0.     ,   0.     ,   0.     ,   0.     ,\n",
       "          0.     ,   0.     ,   0.     ,   0.     ,   0.     ,   0.     ,\n",
       "          0.     ,   0.     ,   0.     ,   0.     ,   0.     ]])"
      ]
     },
     "execution_count": 23,
     "metadata": {},
     "output_type": "execute_result"
    }
   ],
   "source": [
    "X_train[:10]"
   ]
  },
  {
   "cell_type": "code",
   "execution_count": null,
   "metadata": {},
   "outputs": [],
   "source": []
  },
  {
   "cell_type": "markdown",
   "metadata": {},
   "source": [
    "### Outliers"
   ]
  },
  {
   "cell_type": "markdown",
   "metadata": {},
   "source": [
    "#### Multivariate Outlier Detection"
   ]
  },
  {
   "cell_type": "code",
   "execution_count": 24,
   "metadata": {
    "ExecuteTime": {
     "end_time": "2021-11-27T10:35:36.808085Z",
     "start_time": "2021-11-27T10:35:36.099133Z"
    }
   },
   "outputs": [
    {
     "name": "stdout",
     "output_type": "stream",
     "text": [
      "Before Handling Outliers:  (2005146, 41) , 2005146\n",
      "After Handling Outliers:  (2004888, 41) , 2004888\n"
     ]
    }
   ],
   "source": [
    "model_outliers_isolation_forest = IsolationForest(random_state=3, contamination='auto')\n",
    "# model_outliers_isolation_forest = LocalOutlierFactor(n_neighbors=5, contamination='auto', novelty=True)\n",
    "model_outliers_isolation_forest.fit(X_train, y_train)\n",
    "outlier_preds_train = model_outliers_isolation_forest.predict(X_train)\n",
    "mask = outlier_preds_train != -1\n",
    "X_train_wo_outliers = X_train[mask, :]\n",
    "y_train_wo_outliers = y_train[mask]\n",
    "# X_train_wo_outliers = X_train\n",
    "# y_train_wo_outliers = y_train\n",
    "print(\"Before Handling Outliers: \",pd.DataFrame(X_train).shape,\",\", len(y_train))\n",
    "print(\"After Handling Outliers: \",pd.DataFrame(X_train_wo_outliers).shape, \",\", len(y_train_wo_outliers))"
   ]
  },
  {
   "cell_type": "code",
   "execution_count": 25,
   "metadata": {
    "ExecuteTime": {
     "end_time": "2021-11-27T10:35:41.339917Z",
     "start_time": "2021-11-27T10:35:41.217450Z"
    }
   },
   "outputs": [
    {
     "name": "stdout",
     "output_type": "stream",
     "text": [
      "Before Handling Outliers:  (429674, 41) , 429674\n",
      "After Handling Outliers:  (429626, 41) , 429626\n"
     ]
    }
   ],
   "source": [
    "outlier_preds_pseudo_test = model_outliers_isolation_forest.predict(X_pseudo_test)\n",
    "mask = outlier_preds_pseudo_test != -1\n",
    "X_pseudo_test_wo_outliers = X_pseudo_test[mask, :]\n",
    "y_pseudo_test_wo_outliers = y_pseudo_test[mask]\n",
    "# X_pseudo_test_wo_outliers = X_pseudo_test\n",
    "# y_pseudo_test_wo_outliers = y_pseudo_test\n",
    "print(\"Before Handling Outliers: \",pd.DataFrame(X_pseudo_test).shape,\",\", len(y_pseudo_test))\n",
    "print(\"After Handling Outliers: \",pd.DataFrame(X_pseudo_test_wo_outliers).shape, \",\", len(y_pseudo_test_wo_outliers))"
   ]
  },
  {
   "cell_type": "code",
   "execution_count": 26,
   "metadata": {
    "ExecuteTime": {
     "end_time": "2021-11-27T10:35:43.070172Z",
     "start_time": "2021-11-27T10:35:42.955819Z"
    }
   },
   "outputs": [
    {
     "name": "stdout",
     "output_type": "stream",
     "text": [
      "Before Handling Outliers:  (429675, 41) , 429675\n",
      "After Handling Outliers:  (429620, 41) , 429620\n"
     ]
    }
   ],
   "source": [
    "outlier_preds_test = model_outliers_isolation_forest.predict(X_test)\n",
    "mask = outlier_preds_test != -1\n",
    "X_test_wo_outliers = X_test[mask, :]\n",
    "y_test_wo_outliers = y_test[mask]\n",
    "# X_test_wo_outliers = X_test\n",
    "# y_test_wo_outliers = y_test\n",
    "print(\"Before Handling Outliers: \",pd.DataFrame(X_test).shape,\",\", len(y_test))\n",
    "print(\"After Handling Outliers: \",pd.DataFrame(X_test_wo_outliers).shape, \",\", len(y_test_wo_outliers))"
   ]
  },
  {
   "cell_type": "markdown",
   "metadata": {},
   "source": [
    "### Data Scaling"
   ]
  },
  {
   "cell_type": "code",
   "execution_count": 27,
   "metadata": {
    "ExecuteTime": {
     "end_time": "2021-11-27T10:35:46.074252Z",
     "start_time": "2021-11-27T10:35:46.060554Z"
    }
   },
   "outputs": [],
   "source": [
    "model_scaler = StandardScaler()\n",
    "X_train_wo_outliers_scaled = model_scaler.fit_transform(X_train_wo_outliers)\n",
    "X_pseudo_test_wo_outliers_scaled = model_scaler.transform(X_pseudo_test_wo_outliers)\n",
    "X_test_wo_outliers_scaled = model_scaler.transform(X_test_wo_outliers)\n",
    "\n",
    "# X_train_wo_outliers_scaled = X_train_wo_outliers\n",
    "# X_pseudo_test_wo_outliers_scaled = X_pseudo_test_wo_outliers\n",
    "# X_test_wo_outliers_scaled = X_test_wo_outliers"
   ]
  },
  {
   "cell_type": "code",
   "execution_count": 28,
   "metadata": {},
   "outputs": [],
   "source": [
    "model_scaler = StandardScaler()\n",
    "X_train_scaled = model_scaler.fit_transform(X_train)\n",
    "X_pseudo_test__scaled = model_scaler.transform(X_pseudo_test)\n",
    "X_test_scaled = model_scaler.transform(X_test)\n"
   ]
  },
  {
   "cell_type": "code",
   "execution_count": 29,
   "metadata": {},
   "outputs": [
    {
     "data": {
      "text/plain": [
       "array([[ 1.54080612e-01, -1.98807833e-02,  7.46013986e-02,\n",
       "        -3.10232527e-01, -6.87239922e-02, -1.21778973e-01,\n",
       "        -8.29666688e-02, -1.35777923e-01, -1.45291828e-01,\n",
       "        -1.75597137e-01, -1.13262500e-01, -1.72267627e-01,\n",
       "        -8.52963394e-02, -8.98444931e-02, -1.06873432e-01,\n",
       "        -9.55022488e-02, -1.00495022e-01, -5.50830265e-01,\n",
       "        -1.20262271e-01, -1.17356949e-01, -1.30681073e-01,\n",
       "        -1.01790818e-01, -1.08173857e-01, -1.74486449e-01,\n",
       "        -9.49476520e-02, -3.67308448e-01, -4.54637898e-02,\n",
       "        -2.15002949e-01, -1.80110907e-01, -1.46395674e-01,\n",
       "        -1.17470450e-01, -9.03984654e-02, -1.67491197e-01,\n",
       "        -1.37734482e-01, -3.18545695e-01, -8.09625303e-02,\n",
       "        -1.48414179e-01, -3.21233774e-02, -1.17932117e-01,\n",
       "         4.21509710e+00, -5.88819937e-02],\n",
       "       [-1.00559486e+00, -7.08212532e-02, -1.11825512e-01,\n",
       "        -1.81778234e-01, -2.25242286e-01, -1.21778973e-01,\n",
       "        -8.29666688e-02, -1.35777923e-01, -1.45291828e-01,\n",
       "        -1.75597137e-01, -1.13262500e-01, -1.72267627e-01,\n",
       "        -8.52963394e-02, -8.98444931e-02, -1.06873432e-01,\n",
       "        -9.55022488e-02, -1.00495022e-01, -5.50830265e-01,\n",
       "        -1.20262271e-01, -1.17356949e-01, -1.30681073e-01,\n",
       "        -1.01790818e-01, -1.08173857e-01, -1.74486449e-01,\n",
       "        -9.49476520e-02,  2.72250749e+00, -4.54637898e-02,\n",
       "        -2.15002949e-01, -1.80110907e-01, -1.46395674e-01,\n",
       "        -1.17470450e-01, -9.03984654e-02, -1.67491197e-01,\n",
       "        -1.37734482e-01, -3.18545695e-01, -8.09625303e-02,\n",
       "        -1.48414179e-01, -3.21233774e-02, -1.17932117e-01,\n",
       "        -2.37242459e-01, -5.88819937e-02],\n",
       "       [-1.89240552e+00, -7.08212532e-02, -1.11825512e-01,\n",
       "        -1.17551088e-01, -6.55936264e-02, -1.21778973e-01,\n",
       "         1.20530330e+01, -1.35777923e-01, -1.45291828e-01,\n",
       "        -1.75597137e-01, -1.13262500e-01, -1.72267627e-01,\n",
       "        -8.52963394e-02, -8.98444931e-02, -1.06873432e-01,\n",
       "        -9.55022488e-02, -1.00495022e-01, -5.50830265e-01,\n",
       "        -1.20262271e-01, -1.17356949e-01, -1.30681073e-01,\n",
       "        -1.01790818e-01, -1.08173857e-01, -1.74486449e-01,\n",
       "        -9.49476520e-02, -3.67308448e-01, -4.54637898e-02,\n",
       "        -2.15002949e-01, -1.80110907e-01, -1.46395674e-01,\n",
       "        -1.17470450e-01, -9.03984654e-02, -1.67491197e-01,\n",
       "        -1.37734482e-01, -3.18545695e-01, -8.09625303e-02,\n",
       "        -1.48414179e-01, -3.21233774e-02, -1.17932117e-01,\n",
       "        -2.37242459e-01, -5.88819937e-02],\n",
       "       [ 9.72675063e-01, -7.08212532e-02, -1.11825512e-01,\n",
       "        -2.37976987e-01,  2.13008936e-01, -1.21778973e-01,\n",
       "        -8.29666688e-02, -1.35777923e-01, -1.45291828e-01,\n",
       "        -1.75597137e-01, -1.13262500e-01, -1.72267627e-01,\n",
       "        -8.52963394e-02, -8.98444931e-02, -1.06873432e-01,\n",
       "        -9.55022488e-02, -1.00495022e-01,  1.81544128e+00,\n",
       "        -1.20262271e-01, -1.17356949e-01, -1.30681073e-01,\n",
       "        -1.01790818e-01, -1.08173857e-01, -1.74486449e-01,\n",
       "        -9.49476520e-02, -3.67308448e-01, -4.54637898e-02,\n",
       "        -2.15002949e-01, -1.80110907e-01, -1.46395674e-01,\n",
       "        -1.17470450e-01, -9.03984654e-02, -1.67491197e-01,\n",
       "        -1.37734482e-01, -3.18545695e-01, -8.09625303e-02,\n",
       "        -1.48414179e-01, -3.21233774e-02, -1.17932117e-01,\n",
       "        -2.37242459e-01, -5.88819937e-02],\n",
       "       [ 1.26827862e+00,  5.58945165e-03,  1.19203994e-01,\n",
       "        -3.46360297e-01, -1.67330517e-01, -1.21778973e-01,\n",
       "        -8.29666688e-02, -1.35777923e-01, -1.45291828e-01,\n",
       "        -1.75597137e-01, -1.13262500e-01,  5.80492121e+00,\n",
       "        -8.52963394e-02, -8.98444931e-02, -1.06873432e-01,\n",
       "        -9.55022488e-02, -1.00495022e-01, -5.50830265e-01,\n",
       "        -1.20262271e-01, -1.17356949e-01, -1.30681073e-01,\n",
       "        -1.01790818e-01, -1.08173857e-01, -1.74486449e-01,\n",
       "        -9.49476520e-02, -3.67308448e-01, -4.54637898e-02,\n",
       "        -2.15002949e-01, -1.80110907e-01, -1.46395674e-01,\n",
       "        -1.17470450e-01, -9.03984654e-02, -1.67491197e-01,\n",
       "        -1.37734482e-01, -3.18545695e-01, -8.09625303e-02,\n",
       "        -1.48414179e-01, -3.21233774e-02, -1.17932117e-01,\n",
       "        -2.37242459e-01, -5.88819937e-02],\n",
       "       [ 1.40471102e+00, -7.08212532e-02, -1.11825512e-01,\n",
       "         2.11613037e-01,  6.38738694e-01, -1.21778973e-01,\n",
       "        -8.29666688e-02, -1.35777923e-01, -1.45291828e-01,\n",
       "        -1.75597137e-01, -1.13262500e-01, -1.72267627e-01,\n",
       "        -8.52963394e-02, -8.98444931e-02, -1.06873432e-01,\n",
       "        -9.55022488e-02, -1.00495022e-01, -5.50830265e-01,\n",
       "        -1.20262271e-01, -1.17356949e-01, -1.30681073e-01,\n",
       "        -1.01790818e-01, -1.08173857e-01, -1.74486449e-01,\n",
       "        -9.49476520e-02, -3.67308448e-01,  2.19955266e+01,\n",
       "        -2.15002949e-01, -1.80110907e-01, -1.46395674e-01,\n",
       "        -1.17470450e-01, -9.03984654e-02, -1.67491197e-01,\n",
       "        -1.37734482e-01, -3.18545695e-01, -8.09625303e-02,\n",
       "        -1.48414179e-01, -3.21233774e-02, -1.17932117e-01,\n",
       "        -2.37242459e-01, -5.88819937e-02],\n",
       "       [ 1.76482033e-02,  8.20636970e-01,  8.41629595e-01,\n",
       "         3.08176364e+00, -3.64543567e-01, -1.21778973e-01,\n",
       "        -8.29666688e-02, -1.35777923e-01, -1.45291828e-01,\n",
       "        -1.75597137e-01, -1.13262500e-01, -1.72267627e-01,\n",
       "        -8.52963394e-02, -8.98444931e-02, -1.06873432e-01,\n",
       "        -9.55022488e-02, -1.00495022e-01, -5.50830265e-01,\n",
       "        -1.20262271e-01, -1.17356949e-01, -1.30681073e-01,\n",
       "        -1.01790818e-01, -1.08173857e-01, -1.74486449e-01,\n",
       "        -9.49476520e-02,  2.72250749e+00, -4.54637898e-02,\n",
       "        -2.15002949e-01, -1.80110907e-01, -1.46395674e-01,\n",
       "        -1.17470450e-01, -9.03984654e-02, -1.67491197e-01,\n",
       "        -1.37734482e-01, -3.18545695e-01, -8.09625303e-02,\n",
       "        -1.48414179e-01, -3.21233774e-02, -1.17932117e-01,\n",
       "        -2.37242459e-01, -5.88819937e-02],\n",
       "       [-2.09739144e-01,  8.20001565e-02,  4.05922784e-01,\n",
       "        -5.15358170e-03,  1.50401618e-01, -1.21778973e-01,\n",
       "        -8.29666688e-02, -1.35777923e-01, -1.45291828e-01,\n",
       "        -1.75597137e-01, -1.13262500e-01, -1.72267627e-01,\n",
       "        -8.52963394e-02, -8.98444931e-02, -1.06873432e-01,\n",
       "        -9.55022488e-02, -1.00495022e-01,  1.81544128e+00,\n",
       "        -1.20262271e-01, -1.17356949e-01, -1.30681073e-01,\n",
       "        -1.01790818e-01, -1.08173857e-01, -1.74486449e-01,\n",
       "        -9.49476520e-02, -3.67308448e-01, -4.54637898e-02,\n",
       "        -2.15002949e-01, -1.80110907e-01, -1.46395674e-01,\n",
       "        -1.17470450e-01, -9.03984654e-02, -1.67491197e-01,\n",
       "        -1.37734482e-01, -3.18545695e-01, -8.09625303e-02,\n",
       "        -1.48414179e-01, -3.21233774e-02, -1.17932117e-01,\n",
       "        -2.37242459e-01, -5.88819937e-02],\n",
       "       [ 1.31375608e+00, -7.08212532e-02, -1.11825512e-01,\n",
       "        -1.31819750e-02, -2.86284420e-01, -1.21778973e-01,\n",
       "        -8.29666688e-02, -1.35777923e-01, -1.45291828e-01,\n",
       "        -1.75597137e-01, -1.13262500e-01, -1.72267627e-01,\n",
       "        -8.52963394e-02, -8.98444931e-02, -1.06873432e-01,\n",
       "        -9.55022488e-02, -1.00495022e-01, -5.50830265e-01,\n",
       "        -1.20262271e-01, -1.17356949e-01, -1.30681073e-01,\n",
       "        -1.01790818e-01, -1.08173857e-01, -1.74486449e-01,\n",
       "        -9.49476520e-02, -3.67308448e-01, -4.54637898e-02,\n",
       "        -2.15002949e-01, -1.80110907e-01, -1.46395674e-01,\n",
       "        -1.17470450e-01, -9.03984654e-02, -1.67491197e-01,\n",
       "        -1.37734482e-01,  3.13926704e+00, -8.09625303e-02,\n",
       "        -1.48414179e-01, -3.21233774e-02, -1.17932117e-01,\n",
       "        -2.37242459e-01, -5.88819937e-02],\n",
       "       [-1.86966678e+00, -4.53510183e-02,  5.00401221e-02,\n",
       "        -1.73749841e-01,  1.66249096e-01, -1.21778973e-01,\n",
       "        -8.29666688e-02, -1.35777923e-01, -1.45291828e-01,\n",
       "        -1.75597137e-01, -1.13262500e-01, -1.72267627e-01,\n",
       "        -8.52963394e-02, -8.98444931e-02, -1.06873432e-01,\n",
       "        -9.55022488e-02, -1.00495022e-01,  1.81544128e+00,\n",
       "        -1.20262271e-01, -1.17356949e-01, -1.30681073e-01,\n",
       "        -1.01790818e-01, -1.08173857e-01, -1.74486449e-01,\n",
       "        -9.49476520e-02, -3.67308448e-01, -4.54637898e-02,\n",
       "        -2.15002949e-01, -1.80110907e-01, -1.46395674e-01,\n",
       "        -1.17470450e-01, -9.03984654e-02, -1.67491197e-01,\n",
       "        -1.37734482e-01, -3.18545695e-01, -8.09625303e-02,\n",
       "        -1.48414179e-01, -3.21233774e-02, -1.17932117e-01,\n",
       "        -2.37242459e-01, -5.88819937e-02]])"
      ]
     },
     "execution_count": 29,
     "metadata": {},
     "output_type": "execute_result"
    }
   ],
   "source": [
    "X_train_scaled[:10]"
   ]
  },
  {
   "cell_type": "markdown",
   "metadata": {},
   "source": [
    "### Feature Selection"
   ]
  },
  {
   "cell_type": "markdown",
   "metadata": {},
   "source": [
    "#### std == 0"
   ]
  },
  {
   "cell_type": "code",
   "execution_count": 31,
   "metadata": {
    "ExecuteTime": {
     "end_time": "2021-11-27T10:35:48.777102Z",
     "start_time": "2021-11-27T10:35:48.692982Z"
    }
   },
   "outputs": [
    {
     "name": "stdout",
     "output_type": "stream",
     "text": [
      "Number of features with zero variance that are to be dropped:  0 \n",
      "\n",
      "[]\n"
     ]
    }
   ],
   "source": [
    "drop_cols=[]\n",
    "for cols in pd.DataFrame(X_train_wo_outliers_scaled).columns:\n",
    "    if pd.DataFrame(X_train_wo_outliers_scaled)[cols].std()==0:\n",
    "        drop_cols.append(cols)\n",
    "print(\"Number of features with zero variance that are to be dropped: \", len(drop_cols),'\\n')\n",
    "print(drop_cols)\n",
    "pd.DataFrame(X_train_wo_outliers_scaled).drop(drop_cols,axis=1, inplace = True)"
   ]
  },
  {
   "cell_type": "code",
   "execution_count": 32,
   "metadata": {
    "ExecuteTime": {
     "end_time": "2021-11-27T10:35:51.304920Z",
     "start_time": "2021-11-27T10:35:51.221198Z"
    }
   },
   "outputs": [
    {
     "name": "stdout",
     "output_type": "stream",
     "text": [
      "Number of features with zero variance that are to be dropped:  0 \n",
      "\n",
      "[]\n"
     ]
    }
   ],
   "source": [
    "drop_cols=[]\n",
    "for cols in pd.DataFrame(X_pseudo_test_wo_outliers_scaled).columns:\n",
    "    if pd.DataFrame(X_pseudo_test_wo_outliers_scaled)[cols].std()==0:\n",
    "        drop_cols.append(cols)\n",
    "print(\"Number of features with zero variance that are to be dropped: \", len(drop_cols),'\\n')\n",
    "print(drop_cols)\n",
    "pd.DataFrame(X_pseudo_test_wo_outliers_scaled).drop(drop_cols,axis=1, inplace = True)"
   ]
  },
  {
   "cell_type": "code",
   "execution_count": 33,
   "metadata": {
    "ExecuteTime": {
     "end_time": "2021-11-27T10:35:52.468046Z",
     "start_time": "2021-11-27T10:35:52.373219Z"
    }
   },
   "outputs": [
    {
     "name": "stdout",
     "output_type": "stream",
     "text": [
      "Number of features with zero variance that are to be dropped:  0 \n",
      "\n",
      "[]\n"
     ]
    }
   ],
   "source": [
    "drop_cols=[]\n",
    "for cols in pd.DataFrame(X_test_wo_outliers_scaled).columns:\n",
    "    if pd.DataFrame(X_test_wo_outliers_scaled)[cols].std()==0:\n",
    "        drop_cols.append(cols)\n",
    "print(\"Number of features with zero variance that are to be dropped: \", len(drop_cols),'\\n')\n",
    "print(drop_cols)\n",
    "pd.DataFrame(X_test_wo_outliers_scaled).drop(drop_cols,axis=1, inplace = True)"
   ]
  },
  {
   "cell_type": "markdown",
   "metadata": {},
   "source": [
    "#### PCA"
   ]
  },
  {
   "cell_type": "code",
   "execution_count": 34,
   "metadata": {
    "ExecuteTime": {
     "end_time": "2021-11-27T10:35:57.180975Z",
     "start_time": "2021-11-27T10:35:56.924656Z"
    }
   },
   "outputs": [],
   "source": [
    "model_pca = PCA(0.99).fit(X_train_wo_outliers_scaled)"
   ]
  },
  {
   "cell_type": "code",
   "execution_count": 35,
   "metadata": {
    "ExecuteTime": {
     "end_time": "2021-11-27T10:36:01.256794Z",
     "start_time": "2021-11-27T10:36:00.877066Z"
    }
   },
   "outputs": [
    {
     "data": {
      "text/plain": [
       "[<matplotlib.lines.Line2D at 0x7fccc16769a0>]"
      ]
     },
     "execution_count": 35,
     "metadata": {},
     "output_type": "execute_result"
    },
    {
     "data": {
      "image/png": "[encoded data removed]",
      "text/plain": [
       "<Figure size 432x288 with 1 Axes>"
      ]
     },
     "metadata": {
      "needs_background": "light"
     },
     "output_type": "display_data"
    }
   ],
   "source": [
    "var=np.cumsum(np.round(model_pca.explained_variance_ratio_, decimals=3)*100)\n",
    "plt.ylabel('% Variance Explained')\n",
    "plt.xlabel('Number of Features')\n",
    "plt.title('PCA Analysis')\n",
    "plt.ylim(0,100.5)\n",
    "plt.style.context('seaborn-whitegrid')\n",
    "plt.plot(var)"
   ]
  },
  {
   "cell_type": "code",
   "execution_count": 36,
   "metadata": {
    "ExecuteTime": {
     "end_time": "2021-11-27T10:36:03.466231Z",
     "start_time": "2021-11-27T10:36:03.451741Z"
    }
   },
   "outputs": [
    {
     "name": "stdout",
     "output_type": "stream",
     "text": [
      "39 components explain 99% of the variation in data\n"
     ]
    }
   ],
   "source": [
    "print('%d components explain 99%% of the variation in data' % model_pca.n_components_)"
   ]
  },
  {
   "cell_type": "code",
   "execution_count": 37,
   "metadata": {
    "ExecuteTime": {
     "end_time": "2021-11-27T10:36:06.195555Z",
     "start_time": "2021-11-27T10:36:05.864237Z"
    }
   },
   "outputs": [
    {
     "name": "stdout",
     "output_type": "stream",
     "text": [
      "(2004888, 39)\n"
     ]
    }
   ],
   "source": [
    "model_pca_post_knee_plot = PCA(n_components=model_pca.n_components_, random_state = 0)\n",
    "model_pca_post_knee_plot.fit(X_train_wo_outliers_scaled)\n",
    "X_train_wo_outliers_scaled_post_PCA = model_pca_post_knee_plot.transform(X_train_wo_outliers_scaled)\n",
    "print(X_train_wo_outliers_scaled_post_PCA.shape)"
   ]
  },
  {
   "cell_type": "code",
   "execution_count": 38,
   "metadata": {
    "ExecuteTime": {
     "end_time": "2021-11-27T10:36:07.271234Z",
     "start_time": "2021-11-27T10:36:07.251742Z"
    }
   },
   "outputs": [
    {
     "name": "stdout",
     "output_type": "stream",
     "text": [
      "(429626, 39)\n"
     ]
    }
   ],
   "source": [
    "X_pseudo_test_wo_outliers_scaled_post_PCA = model_pca_post_knee_plot.transform(X_pseudo_test_wo_outliers_scaled)\n",
    "print(X_pseudo_test_wo_outliers_scaled_post_PCA.shape)"
   ]
  },
  {
   "cell_type": "code",
   "execution_count": 39,
   "metadata": {
    "ExecuteTime": {
     "end_time": "2021-11-27T10:36:08.236051Z",
     "start_time": "2021-11-27T10:36:08.215814Z"
    }
   },
   "outputs": [
    {
     "name": "stdout",
     "output_type": "stream",
     "text": [
      "(429620, 39)\n"
     ]
    }
   ],
   "source": [
    "X_test_wo_outliers_scaled_post_PCA = model_pca_post_knee_plot.transform(X_test_wo_outliers_scaled)\n",
    "print(X_test_wo_outliers_scaled_post_PCA.shape)"
   ]
  },
  {
   "cell_type": "markdown",
   "metadata": {},
   "source": [
    "## Machine Learning"
   ]
  },
  {
   "cell_type": "markdown",
   "metadata": {},
   "source": [
    "### Building Models"
   ]
  },
  {
   "cell_type": "markdown",
   "metadata": {},
   "source": [
    "#### Common Functions"
   ]
  },
  {
   "cell_type": "code",
   "execution_count": 40,
   "metadata": {
    "ExecuteTime": {
     "end_time": "2021-11-27T10:39:34.518419Z",
     "start_time": "2021-11-27T10:39:34.504032Z"
    }
   },
   "outputs": [],
   "source": [
    "def GetRegressionMetrics(model, X_train, y_train, X_val, y_val, X_test, y_test):\n",
    "    print('-------------------------------------------------------------------------------------------')\n",
    "\n",
    "    print(\"Train MSE: {:.3f}\".format(mean_squared_error(model.predict(X_train), y_train)))\n",
    "    print(\"Train RMSE: {:.3f}\".format(np.sqrt(mean_squared_error(model.predict(X_train), y_train))))\n",
    "    print(\"Train R-squared: {:.3f}\".format(r2_score(model.predict(X_train), y_train)))\n",
    "\n",
    "    print('-------------------------------------------------------------------------------------------')\n",
    "\n",
    "    print(\"Val MSE: {:.3f}\".format(mean_squared_error(model.predict(X_val), y_val)))\n",
    "    print(\"Val RMSE: {:.3f}\".format(np.sqrt(mean_squared_error(model.predict(X_val), y_val))))\n",
    "    print(\"Val R-squared: {:.3f}\".format(r2_score(model.predict(X_val), y_val)))\n",
    "\n",
    "    print('-------------------------------------------------------------------------------------------')\n",
    "\n",
    "    print(\"Test MSE:{:.3f}\".format(mean_squared_error(model.predict(X_test), y_test)))\n",
    "    print(\"Test RMSE:{:.3f}\".format(np.sqrt(mean_squared_error(model.predict(X_test), y_test))))\n",
    "    print(\"Test R-squared: {:.3f}\".format(r2_score(model.predict(X_test), y_test)))"
   ]
  },
  {
   "cell_type": "markdown",
   "metadata": {},
   "source": [
    "#### Linear Regression"
   ]
  },
  {
   "cell_type": "markdown",
   "metadata": {},
   "source": [
    "##### Baseline"
   ]
  },
  {
   "cell_type": "code",
   "execution_count": 41,
   "metadata": {
    "ExecuteTime": {
     "end_time": "2021-11-27T10:39:39.053592Z",
     "start_time": "2021-11-27T10:39:38.961946Z"
    }
   },
   "outputs": [
    {
     "name": "stdout",
     "output_type": "stream",
     "text": [
      "-------------------------------------------------------------------------------------------\n",
      "Train MSE: 209.178\n",
      "Train RMSE: 14.463\n",
      "Train R-squared: 0.841\n",
      "-------------------------------------------------------------------------------------------\n",
      "Val MSE: 312.696\n",
      "Val RMSE: 17.683\n",
      "Val R-squared: 0.853\n",
      "-------------------------------------------------------------------------------------------\n",
      "Test MSE:141.591\n",
      "Test RMSE:11.899\n",
      "Test R-squared: 0.477\n"
     ]
    }
   ],
   "source": [
    "model_linreg = LinearRegression()\n",
    "model_linreg.fit(X_train_wo_outliers_scaled_post_PCA,y_train_wo_outliers)\n",
    "\n",
    "GetRegressionMetrics(model_linreg, X_train_wo_outliers_scaled_post_PCA, y_train_wo_outliers,\n",
    "                     X_pseudo_test_wo_outliers_scaled_post_PCA, y_pseudo_test_wo_outliers,\n",
    "                     X_test_wo_outliers_scaled_post_PCA, y_test_wo_outliers)"
   ]
  },
  {
   "cell_type": "markdown",
   "metadata": {},
   "source": [
    "###### Observations:"
   ]
  },
  {
   "cell_type": "markdown",
   "metadata": {},
   "source": [
    "##### Tuning Regularisation Parameter"
   ]
  },
  {
   "cell_type": "code",
   "execution_count": null,
   "metadata": {},
   "outputs": [],
   "source": []
  },
  {
   "cell_type": "markdown",
   "metadata": {},
   "source": [
    "##### Tuning L1 ratio"
   ]
  },
  {
   "cell_type": "markdown",
   "metadata": {},
   "source": [
    "##### Tuning penalty (with corresponding solvers)"
   ]
  },
  {
   "cell_type": "markdown",
   "metadata": {},
   "source": [
    "###### Observations:"
   ]
  },
  {
   "cell_type": "markdown",
   "metadata": {},
   "source": [
    "##### Applying best params manually basis observations"
   ]
  },
  {
   "cell_type": "markdown",
   "metadata": {},
   "source": [
    "###### Observations:"
   ]
  },
  {
   "cell_type": "markdown",
   "metadata": {},
   "source": [
    "##### Tuning using Random Search CV"
   ]
  },
  {
   "cell_type": "markdown",
   "metadata": {},
   "source": [
    "###### Observations:"
   ]
  },
  {
   "cell_type": "markdown",
   "metadata": {},
   "source": [
    "##### Tuning Manually"
   ]
  },
  {
   "cell_type": "markdown",
   "metadata": {},
   "source": [
    "###### Observations:"
   ]
  },
  {
   "cell_type": "markdown",
   "metadata": {},
   "source": [
    "##### Final Model"
   ]
  },
  {
   "cell_type": "markdown",
   "metadata": {},
   "source": [
    "###### Observations:"
   ]
  },
  {
   "cell_type": "markdown",
   "metadata": {},
   "source": [
    "##### Applying Cross Validation to the Final Model"
   ]
  },
  {
   "cell_type": "markdown",
   "metadata": {},
   "source": [
    "###### Observations:"
   ]
  },
  {
   "cell_type": "markdown",
   "metadata": {},
   "source": [
    "#### Decision Tree Regressor"
   ]
  },
  {
   "cell_type": "markdown",
   "metadata": {},
   "source": [
    "##### Baseline"
   ]
  },
  {
   "cell_type": "code",
   "execution_count": 40,
   "metadata": {
    "ExecuteTime": {
     "end_time": "2021-11-27T10:41:52.775147Z",
     "start_time": "2021-11-27T10:41:52.631559Z"
    }
   },
   "outputs": [
    {
     "name": "stdout",
     "output_type": "stream",
     "text": [
      "-------------------------------------------------------------------------------------------\n",
      "Train MSE: 0.000\n",
      "Train RMSE: 0.000\n",
      "Train R-squared: 1.000\n",
      "-------------------------------------------------------------------------------------------\n",
      "Val MSE: 274383.250\n",
      "Val RMSE: 523.816\n",
      "Val R-squared: 0.491\n",
      "-------------------------------------------------------------------------------------------\n",
      "Test MSE:123089.114\n",
      "Test RMSE:350.841\n",
      "Test R-squared: 0.766\n"
     ]
    }
   ],
   "source": [
    "model_dectree = tree.DecisionTreeRegressor(random_state=3)\n",
    "model_dectree.fit(X_train_wo_outliers_scaled_post_PCA,y_train_wo_outliers)\n",
    "\n",
    "GetRegressionMetrics(model_dectree, X_train_wo_outliers_scaled_post_PCA, y_train_wo_outliers,\n",
    "                     X_pseudo_test_wo_outliers_scaled_post_PCA, y_pseudo_test_wo_outliers,\n",
    "                     X_test_wo_outliers_scaled_post_PCA, y_test_wo_outliers)"
   ]
  },
  {
   "cell_type": "markdown",
   "metadata": {},
   "source": [
    "###### Observations:"
   ]
  },
  {
   "cell_type": "markdown",
   "metadata": {},
   "source": [
    "##### Tuning the criterion hyperparameter"
   ]
  },
  {
   "cell_type": "markdown",
   "metadata": {},
   "source": [
    "##### Tuning the max features hp"
   ]
  },
  {
   "cell_type": "markdown",
   "metadata": {},
   "source": [
    "##### Tuning the min samples leaf hp"
   ]
  },
  {
   "cell_type": "markdown",
   "metadata": {},
   "source": [
    "##### Tuning the max depth hp"
   ]
  },
  {
   "cell_type": "markdown",
   "metadata": {},
   "source": [
    "##### Tuning the min samples split hp"
   ]
  },
  {
   "cell_type": "markdown",
   "metadata": {},
   "source": [
    "###### Observations:"
   ]
  },
  {
   "cell_type": "markdown",
   "metadata": {},
   "source": [
    "#### Random Forest Regressor"
   ]
  },
  {
   "cell_type": "markdown",
   "metadata": {},
   "source": [
    "##### Baseline"
   ]
  },
  {
   "cell_type": "code",
   "execution_count": 42,
   "metadata": {
    "ExecuteTime": {
     "end_time": "2021-11-27T10:42:44.425758Z",
     "start_time": "2021-11-27T10:42:37.090701Z"
    }
   },
   "outputs": [
    {
     "ename": "KeyboardInterrupt",
     "evalue": "",
     "output_type": "error",
     "traceback": [
      "\u001b[0;31m---------------------------------------------------------------------------\u001b[0m",
      "\u001b[0;31mKeyboardInterrupt\u001b[0m                         Traceback (most recent call last)",
      "\u001b[0;32m<ipython-input-42-59b90cd3220c>\u001b[0m in \u001b[0;36m<module>\u001b[0;34m\u001b[0m\n\u001b[1;32m      1\u001b[0m \u001b[0mmodel_rforest\u001b[0m \u001b[0;34m=\u001b[0m \u001b[0mRandomForestRegressor\u001b[0m\u001b[0;34m(\u001b[0m\u001b[0mrandom_state\u001b[0m\u001b[0;34m=\u001b[0m\u001b[0;36m3\u001b[0m\u001b[0;34m)\u001b[0m\u001b[0;34m\u001b[0m\u001b[0;34m\u001b[0m\u001b[0m\n\u001b[0;32m----> 2\u001b[0;31m \u001b[0mmodel_rforest\u001b[0m\u001b[0;34m.\u001b[0m\u001b[0mfit\u001b[0m\u001b[0;34m(\u001b[0m\u001b[0mX_train_wo_outliers_scaled_post_PCA\u001b[0m\u001b[0;34m,\u001b[0m\u001b[0my_train_wo_outliers\u001b[0m\u001b[0;34m)\u001b[0m\u001b[0;34m\u001b[0m\u001b[0;34m\u001b[0m\u001b[0m\n\u001b[0m\u001b[1;32m      3\u001b[0m \u001b[0;34m\u001b[0m\u001b[0m\n\u001b[1;32m      4\u001b[0m GetRegressionMetrics(model_rforest, X_train_wo_outliers_scaled_post_PCA, y_train_wo_outliers,\n\u001b[1;32m      5\u001b[0m                      \u001b[0mX_pseudo_test_wo_outliers_scaled_post_PCA\u001b[0m\u001b[0;34m,\u001b[0m \u001b[0my_pseudo_test_wo_outliers\u001b[0m\u001b[0;34m,\u001b[0m\u001b[0;34m\u001b[0m\u001b[0;34m\u001b[0m\u001b[0m\n",
      "\u001b[0;32m/opt/conda/lib/python3.9/site-packages/sklearn/ensemble/_forest.py\u001b[0m in \u001b[0;36mfit\u001b[0;34m(self, X, y, sample_weight)\u001b[0m\n\u001b[1;32m    385\u001b[0m             \u001b[0;31m# parallel_backend contexts set at a higher level,\u001b[0m\u001b[0;34m\u001b[0m\u001b[0;34m\u001b[0m\u001b[0;34m\u001b[0m\u001b[0m\n\u001b[1;32m    386\u001b[0m             \u001b[0;31m# since correctness does not rely on using threads.\u001b[0m\u001b[0;34m\u001b[0m\u001b[0;34m\u001b[0m\u001b[0;34m\u001b[0m\u001b[0m\n\u001b[0;32m--> 387\u001b[0;31m             trees = Parallel(n_jobs=self.n_jobs, verbose=self.verbose,\n\u001b[0m\u001b[1;32m    388\u001b[0m                              \u001b[0;34m**\u001b[0m\u001b[0m_joblib_parallel_args\u001b[0m\u001b[0;34m(\u001b[0m\u001b[0mprefer\u001b[0m\u001b[0;34m=\u001b[0m\u001b[0;34m'threads'\u001b[0m\u001b[0;34m)\u001b[0m\u001b[0;34m)\u001b[0m\u001b[0;34m(\u001b[0m\u001b[0;34m\u001b[0m\u001b[0;34m\u001b[0m\u001b[0m\n\u001b[1;32m    389\u001b[0m                 delayed(_parallel_build_trees)(\n",
      "\u001b[0;32m/opt/conda/lib/python3.9/site-packages/joblib/parallel.py\u001b[0m in \u001b[0;36m__call__\u001b[0;34m(self, iterable)\u001b[0m\n\u001b[1;32m   1042\u001b[0m                 \u001b[0mself\u001b[0m\u001b[0;34m.\u001b[0m\u001b[0m_iterating\u001b[0m \u001b[0;34m=\u001b[0m \u001b[0mself\u001b[0m\u001b[0;34m.\u001b[0m\u001b[0m_original_iterator\u001b[0m \u001b[0;32mis\u001b[0m \u001b[0;32mnot\u001b[0m \u001b[0;32mNone\u001b[0m\u001b[0;34m\u001b[0m\u001b[0;34m\u001b[0m\u001b[0m\n\u001b[1;32m   1043\u001b[0m \u001b[0;34m\u001b[0m\u001b[0m\n\u001b[0;32m-> 1044\u001b[0;31m             \u001b[0;32mwhile\u001b[0m \u001b[0mself\u001b[0m\u001b[0;34m.\u001b[0m\u001b[0mdispatch_one_batch\u001b[0m\u001b[0;34m(\u001b[0m\u001b[0miterator\u001b[0m\u001b[0;34m)\u001b[0m\u001b[0;34m:\u001b[0m\u001b[0;34m\u001b[0m\u001b[0;34m\u001b[0m\u001b[0m\n\u001b[0m\u001b[1;32m   1045\u001b[0m                 \u001b[0;32mpass\u001b[0m\u001b[0;34m\u001b[0m\u001b[0;34m\u001b[0m\u001b[0m\n\u001b[1;32m   1046\u001b[0m \u001b[0;34m\u001b[0m\u001b[0m\n",
      "\u001b[0;32m/opt/conda/lib/python3.9/site-packages/joblib/parallel.py\u001b[0m in \u001b[0;36mdispatch_one_batch\u001b[0;34m(self, iterator)\u001b[0m\n\u001b[1;32m    857\u001b[0m                 \u001b[0;32mreturn\u001b[0m \u001b[0;32mFalse\u001b[0m\u001b[0;34m\u001b[0m\u001b[0;34m\u001b[0m\u001b[0m\n\u001b[1;32m    858\u001b[0m             \u001b[0;32melse\u001b[0m\u001b[0;34m:\u001b[0m\u001b[0;34m\u001b[0m\u001b[0;34m\u001b[0m\u001b[0m\n\u001b[0;32m--> 859\u001b[0;31m                 \u001b[0mself\u001b[0m\u001b[0;34m.\u001b[0m\u001b[0m_dispatch\u001b[0m\u001b[0;34m(\u001b[0m\u001b[0mtasks\u001b[0m\u001b[0;34m)\u001b[0m\u001b[0;34m\u001b[0m\u001b[0;34m\u001b[0m\u001b[0m\n\u001b[0m\u001b[1;32m    860\u001b[0m                 \u001b[0;32mreturn\u001b[0m \u001b[0;32mTrue\u001b[0m\u001b[0;34m\u001b[0m\u001b[0;34m\u001b[0m\u001b[0m\n\u001b[1;32m    861\u001b[0m \u001b[0;34m\u001b[0m\u001b[0m\n",
      "\u001b[0;32m/opt/conda/lib/python3.9/site-packages/joblib/parallel.py\u001b[0m in \u001b[0;36m_dispatch\u001b[0;34m(self, batch)\u001b[0m\n\u001b[1;32m    775\u001b[0m         \u001b[0;32mwith\u001b[0m \u001b[0mself\u001b[0m\u001b[0;34m.\u001b[0m\u001b[0m_lock\u001b[0m\u001b[0;34m:\u001b[0m\u001b[0;34m\u001b[0m\u001b[0;34m\u001b[0m\u001b[0m\n\u001b[1;32m    776\u001b[0m             \u001b[0mjob_idx\u001b[0m \u001b[0;34m=\u001b[0m \u001b[0mlen\u001b[0m\u001b[0;34m(\u001b[0m\u001b[0mself\u001b[0m\u001b[0;34m.\u001b[0m\u001b[0m_jobs\u001b[0m\u001b[0;34m)\u001b[0m\u001b[0;34m\u001b[0m\u001b[0;34m\u001b[0m\u001b[0m\n\u001b[0;32m--> 777\u001b[0;31m             \u001b[0mjob\u001b[0m \u001b[0;34m=\u001b[0m \u001b[0mself\u001b[0m\u001b[0;34m.\u001b[0m\u001b[0m_backend\u001b[0m\u001b[0;34m.\u001b[0m\u001b[0mapply_async\u001b[0m\u001b[0;34m(\u001b[0m\u001b[0mbatch\u001b[0m\u001b[0;34m,\u001b[0m \u001b[0mcallback\u001b[0m\u001b[0;34m=\u001b[0m\u001b[0mcb\u001b[0m\u001b[0;34m)\u001b[0m\u001b[0;34m\u001b[0m\u001b[0;34m\u001b[0m\u001b[0m\n\u001b[0m\u001b[1;32m    778\u001b[0m             \u001b[0;31m# A job can complete so quickly than its callback is\u001b[0m\u001b[0;34m\u001b[0m\u001b[0;34m\u001b[0m\u001b[0;34m\u001b[0m\u001b[0m\n\u001b[1;32m    779\u001b[0m             \u001b[0;31m# called before we get here, causing self._jobs to\u001b[0m\u001b[0;34m\u001b[0m\u001b[0;34m\u001b[0m\u001b[0;34m\u001b[0m\u001b[0m\n",
      "\u001b[0;32m/opt/conda/lib/python3.9/site-packages/joblib/_parallel_backends.py\u001b[0m in \u001b[0;36mapply_async\u001b[0;34m(self, func, callback)\u001b[0m\n\u001b[1;32m    206\u001b[0m     \u001b[0;32mdef\u001b[0m \u001b[0mapply_async\u001b[0m\u001b[0;34m(\u001b[0m\u001b[0mself\u001b[0m\u001b[0;34m,\u001b[0m \u001b[0mfunc\u001b[0m\u001b[0;34m,\u001b[0m \u001b[0mcallback\u001b[0m\u001b[0;34m=\u001b[0m\u001b[0;32mNone\u001b[0m\u001b[0;34m)\u001b[0m\u001b[0;34m:\u001b[0m\u001b[0;34m\u001b[0m\u001b[0;34m\u001b[0m\u001b[0m\n\u001b[1;32m    207\u001b[0m         \u001b[0;34m\"\"\"Schedule a func to be run\"\"\"\u001b[0m\u001b[0;34m\u001b[0m\u001b[0;34m\u001b[0m\u001b[0m\n\u001b[0;32m--> 208\u001b[0;31m         \u001b[0mresult\u001b[0m \u001b[0;34m=\u001b[0m \u001b[0mImmediateResult\u001b[0m\u001b[0;34m(\u001b[0m\u001b[0mfunc\u001b[0m\u001b[0;34m)\u001b[0m\u001b[0;34m\u001b[0m\u001b[0;34m\u001b[0m\u001b[0m\n\u001b[0m\u001b[1;32m    209\u001b[0m         \u001b[0;32mif\u001b[0m \u001b[0mcallback\u001b[0m\u001b[0;34m:\u001b[0m\u001b[0;34m\u001b[0m\u001b[0;34m\u001b[0m\u001b[0m\n\u001b[1;32m    210\u001b[0m             \u001b[0mcallback\u001b[0m\u001b[0;34m(\u001b[0m\u001b[0mresult\u001b[0m\u001b[0;34m)\u001b[0m\u001b[0;34m\u001b[0m\u001b[0;34m\u001b[0m\u001b[0m\n",
      "\u001b[0;32m/opt/conda/lib/python3.9/site-packages/joblib/_parallel_backends.py\u001b[0m in \u001b[0;36m__init__\u001b[0;34m(self, batch)\u001b[0m\n\u001b[1;32m    570\u001b[0m         \u001b[0;31m# Don't delay the application, to avoid keeping the input\u001b[0m\u001b[0;34m\u001b[0m\u001b[0;34m\u001b[0m\u001b[0;34m\u001b[0m\u001b[0m\n\u001b[1;32m    571\u001b[0m         \u001b[0;31m# arguments in memory\u001b[0m\u001b[0;34m\u001b[0m\u001b[0;34m\u001b[0m\u001b[0;34m\u001b[0m\u001b[0m\n\u001b[0;32m--> 572\u001b[0;31m         \u001b[0mself\u001b[0m\u001b[0;34m.\u001b[0m\u001b[0mresults\u001b[0m \u001b[0;34m=\u001b[0m \u001b[0mbatch\u001b[0m\u001b[0;34m(\u001b[0m\u001b[0;34m)\u001b[0m\u001b[0;34m\u001b[0m\u001b[0;34m\u001b[0m\u001b[0m\n\u001b[0m\u001b[1;32m    573\u001b[0m \u001b[0;34m\u001b[0m\u001b[0m\n\u001b[1;32m    574\u001b[0m     \u001b[0;32mdef\u001b[0m \u001b[0mget\u001b[0m\u001b[0;34m(\u001b[0m\u001b[0mself\u001b[0m\u001b[0;34m)\u001b[0m\u001b[0;34m:\u001b[0m\u001b[0;34m\u001b[0m\u001b[0;34m\u001b[0m\u001b[0m\n",
      "\u001b[0;32m/opt/conda/lib/python3.9/site-packages/joblib/parallel.py\u001b[0m in \u001b[0;36m__call__\u001b[0;34m(self)\u001b[0m\n\u001b[1;32m    260\u001b[0m         \u001b[0;31m# change the default number of processes to -1\u001b[0m\u001b[0;34m\u001b[0m\u001b[0;34m\u001b[0m\u001b[0;34m\u001b[0m\u001b[0m\n\u001b[1;32m    261\u001b[0m         \u001b[0;32mwith\u001b[0m \u001b[0mparallel_backend\u001b[0m\u001b[0;34m(\u001b[0m\u001b[0mself\u001b[0m\u001b[0;34m.\u001b[0m\u001b[0m_backend\u001b[0m\u001b[0;34m,\u001b[0m \u001b[0mn_jobs\u001b[0m\u001b[0;34m=\u001b[0m\u001b[0mself\u001b[0m\u001b[0;34m.\u001b[0m\u001b[0m_n_jobs\u001b[0m\u001b[0;34m)\u001b[0m\u001b[0;34m:\u001b[0m\u001b[0;34m\u001b[0m\u001b[0;34m\u001b[0m\u001b[0m\n\u001b[0;32m--> 262\u001b[0;31m             return [func(*args, **kwargs)\n\u001b[0m\u001b[1;32m    263\u001b[0m                     for func, args, kwargs in self.items]\n\u001b[1;32m    264\u001b[0m \u001b[0;34m\u001b[0m\u001b[0m\n",
      "\u001b[0;32m/opt/conda/lib/python3.9/site-packages/joblib/parallel.py\u001b[0m in \u001b[0;36m<listcomp>\u001b[0;34m(.0)\u001b[0m\n\u001b[1;32m    260\u001b[0m         \u001b[0;31m# change the default number of processes to -1\u001b[0m\u001b[0;34m\u001b[0m\u001b[0;34m\u001b[0m\u001b[0;34m\u001b[0m\u001b[0m\n\u001b[1;32m    261\u001b[0m         \u001b[0;32mwith\u001b[0m \u001b[0mparallel_backend\u001b[0m\u001b[0;34m(\u001b[0m\u001b[0mself\u001b[0m\u001b[0;34m.\u001b[0m\u001b[0m_backend\u001b[0m\u001b[0;34m,\u001b[0m \u001b[0mn_jobs\u001b[0m\u001b[0;34m=\u001b[0m\u001b[0mself\u001b[0m\u001b[0;34m.\u001b[0m\u001b[0m_n_jobs\u001b[0m\u001b[0;34m)\u001b[0m\u001b[0;34m:\u001b[0m\u001b[0;34m\u001b[0m\u001b[0;34m\u001b[0m\u001b[0m\n\u001b[0;32m--> 262\u001b[0;31m             return [func(*args, **kwargs)\n\u001b[0m\u001b[1;32m    263\u001b[0m                     for func, args, kwargs in self.items]\n\u001b[1;32m    264\u001b[0m \u001b[0;34m\u001b[0m\u001b[0m\n",
      "\u001b[0;32m/opt/conda/lib/python3.9/site-packages/sklearn/utils/fixes.py\u001b[0m in \u001b[0;36m__call__\u001b[0;34m(self, *args, **kwargs)\u001b[0m\n\u001b[1;32m    220\u001b[0m     \u001b[0;32mdef\u001b[0m \u001b[0m__call__\u001b[0m\u001b[0;34m(\u001b[0m\u001b[0mself\u001b[0m\u001b[0;34m,\u001b[0m \u001b[0;34m*\u001b[0m\u001b[0margs\u001b[0m\u001b[0;34m,\u001b[0m \u001b[0;34m**\u001b[0m\u001b[0mkwargs\u001b[0m\u001b[0;34m)\u001b[0m\u001b[0;34m:\u001b[0m\u001b[0;34m\u001b[0m\u001b[0;34m\u001b[0m\u001b[0m\n\u001b[1;32m    221\u001b[0m         \u001b[0;32mwith\u001b[0m \u001b[0mconfig_context\u001b[0m\u001b[0;34m(\u001b[0m\u001b[0;34m**\u001b[0m\u001b[0mself\u001b[0m\u001b[0;34m.\u001b[0m\u001b[0mconfig\u001b[0m\u001b[0;34m)\u001b[0m\u001b[0;34m:\u001b[0m\u001b[0;34m\u001b[0m\u001b[0;34m\u001b[0m\u001b[0m\n\u001b[0;32m--> 222\u001b[0;31m             \u001b[0;32mreturn\u001b[0m \u001b[0mself\u001b[0m\u001b[0;34m.\u001b[0m\u001b[0mfunction\u001b[0m\u001b[0;34m(\u001b[0m\u001b[0;34m*\u001b[0m\u001b[0margs\u001b[0m\u001b[0;34m,\u001b[0m \u001b[0;34m**\u001b[0m\u001b[0mkwargs\u001b[0m\u001b[0;34m)\u001b[0m\u001b[0;34m\u001b[0m\u001b[0;34m\u001b[0m\u001b[0m\n\u001b[0m",
      "\u001b[0;32m/opt/conda/lib/python3.9/site-packages/sklearn/ensemble/_forest.py\u001b[0m in \u001b[0;36m_parallel_build_trees\u001b[0;34m(tree, forest, X, y, sample_weight, tree_idx, n_trees, verbose, class_weight, n_samples_bootstrap)\u001b[0m\n\u001b[1;32m    167\u001b[0m                                                         indices=indices)\n\u001b[1;32m    168\u001b[0m \u001b[0;34m\u001b[0m\u001b[0m\n\u001b[0;32m--> 169\u001b[0;31m         \u001b[0mtree\u001b[0m\u001b[0;34m.\u001b[0m\u001b[0mfit\u001b[0m\u001b[0;34m(\u001b[0m\u001b[0mX\u001b[0m\u001b[0;34m,\u001b[0m \u001b[0my\u001b[0m\u001b[0;34m,\u001b[0m \u001b[0msample_weight\u001b[0m\u001b[0;34m=\u001b[0m\u001b[0mcurr_sample_weight\u001b[0m\u001b[0;34m,\u001b[0m \u001b[0mcheck_input\u001b[0m\u001b[0;34m=\u001b[0m\u001b[0;32mFalse\u001b[0m\u001b[0;34m)\u001b[0m\u001b[0;34m\u001b[0m\u001b[0;34m\u001b[0m\u001b[0m\n\u001b[0m\u001b[1;32m    170\u001b[0m     \u001b[0;32melse\u001b[0m\u001b[0;34m:\u001b[0m\u001b[0;34m\u001b[0m\u001b[0;34m\u001b[0m\u001b[0m\n\u001b[1;32m    171\u001b[0m         \u001b[0mtree\u001b[0m\u001b[0;34m.\u001b[0m\u001b[0mfit\u001b[0m\u001b[0;34m(\u001b[0m\u001b[0mX\u001b[0m\u001b[0;34m,\u001b[0m \u001b[0my\u001b[0m\u001b[0;34m,\u001b[0m \u001b[0msample_weight\u001b[0m\u001b[0;34m=\u001b[0m\u001b[0msample_weight\u001b[0m\u001b[0;34m,\u001b[0m \u001b[0mcheck_input\u001b[0m\u001b[0;34m=\u001b[0m\u001b[0;32mFalse\u001b[0m\u001b[0;34m)\u001b[0m\u001b[0;34m\u001b[0m\u001b[0;34m\u001b[0m\u001b[0m\n",
      "\u001b[0;32m/opt/conda/lib/python3.9/site-packages/sklearn/tree/_classes.py\u001b[0m in \u001b[0;36mfit\u001b[0;34m(self, X, y, sample_weight, check_input, X_idx_sorted)\u001b[0m\n\u001b[1;32m   1250\u001b[0m         \"\"\"\n\u001b[1;32m   1251\u001b[0m \u001b[0;34m\u001b[0m\u001b[0m\n\u001b[0;32m-> 1252\u001b[0;31m         super().fit(\n\u001b[0m\u001b[1;32m   1253\u001b[0m             \u001b[0mX\u001b[0m\u001b[0;34m,\u001b[0m \u001b[0my\u001b[0m\u001b[0;34m,\u001b[0m\u001b[0;34m\u001b[0m\u001b[0;34m\u001b[0m\u001b[0m\n\u001b[1;32m   1254\u001b[0m             \u001b[0msample_weight\u001b[0m\u001b[0;34m=\u001b[0m\u001b[0msample_weight\u001b[0m\u001b[0;34m,\u001b[0m\u001b[0;34m\u001b[0m\u001b[0;34m\u001b[0m\u001b[0m\n",
      "\u001b[0;32m/opt/conda/lib/python3.9/site-packages/sklearn/tree/_classes.py\u001b[0m in \u001b[0;36mfit\u001b[0;34m(self, X, y, sample_weight, check_input, X_idx_sorted)\u001b[0m\n\u001b[1;32m    392\u001b[0m                                            min_impurity_split)\n\u001b[1;32m    393\u001b[0m \u001b[0;34m\u001b[0m\u001b[0m\n\u001b[0;32m--> 394\u001b[0;31m         \u001b[0mbuilder\u001b[0m\u001b[0;34m.\u001b[0m\u001b[0mbuild\u001b[0m\u001b[0;34m(\u001b[0m\u001b[0mself\u001b[0m\u001b[0;34m.\u001b[0m\u001b[0mtree_\u001b[0m\u001b[0;34m,\u001b[0m \u001b[0mX\u001b[0m\u001b[0;34m,\u001b[0m \u001b[0my\u001b[0m\u001b[0;34m,\u001b[0m \u001b[0msample_weight\u001b[0m\u001b[0;34m)\u001b[0m\u001b[0;34m\u001b[0m\u001b[0;34m\u001b[0m\u001b[0m\n\u001b[0m\u001b[1;32m    395\u001b[0m \u001b[0;34m\u001b[0m\u001b[0m\n\u001b[1;32m    396\u001b[0m         \u001b[0;32mif\u001b[0m \u001b[0mself\u001b[0m\u001b[0;34m.\u001b[0m\u001b[0mn_outputs_\u001b[0m \u001b[0;34m==\u001b[0m \u001b[0;36m1\u001b[0m \u001b[0;32mand\u001b[0m \u001b[0mis_classifier\u001b[0m\u001b[0;34m(\u001b[0m\u001b[0mself\u001b[0m\u001b[0;34m)\u001b[0m\u001b[0;34m:\u001b[0m\u001b[0;34m\u001b[0m\u001b[0;34m\u001b[0m\u001b[0m\n",
      "\u001b[0;31mKeyboardInterrupt\u001b[0m: "
     ]
    }
   ],
   "source": [
    "model_rforest = RandomForestRegressor(random_state=3)\n",
    "model_rforest.fit(X_train_wo_outliers_scaled_post_PCA,y_train_wo_outliers)\n",
    "\n",
    "GetRegressionMetrics(model_rforest, X_train_wo_outliers_scaled_post_PCA, y_train_wo_outliers,\n",
    "                     X_pseudo_test_wo_outliers_scaled_post_PCA, y_pseudo_test_wo_outliers,\n",
    "                     X_test_wo_outliers_scaled_post_PCA, y_test_wo\n",
    "                     _outliers)"
   ]
  },
  {
   "cell_type": "markdown",
   "metadata": {},
   "source": [
    "###### Observations:"
   ]
  },
  {
   "cell_type": "markdown",
   "metadata": {},
   "source": [
    "##### Tuning n_estimators"
   ]
  },
  {
   "cell_type": "markdown",
   "metadata": {},
   "source": [
    "##### Tuning Criterion"
   ]
  },
  {
   "cell_type": "markdown",
   "metadata": {},
   "source": [
    "##### Tuning max depth"
   ]
  },
  {
   "cell_type": "markdown",
   "metadata": {},
   "source": [
    "##### Tuning min samples split"
   ]
  },
  {
   "cell_type": "markdown",
   "metadata": {},
   "source": [
    "##### Tuning warm start"
   ]
  },
  {
   "cell_type": "markdown",
   "metadata": {},
   "source": [
    "###### Observations:"
   ]
  },
  {
   "cell_type": "markdown",
   "metadata": {},
   "source": [
    "#### KNN Regressor"
   ]
  },
  {
   "cell_type": "markdown",
   "metadata": {},
   "source": [
    "##### Baseline"
   ]
  },
  {
   "cell_type": "code",
   "execution_count": 38,
   "metadata": {
    "ExecuteTime": {
     "end_time": "2021-11-27T10:43:26.677510Z",
     "start_time": "2021-11-27T10:43:26.560868Z"
    }
   },
   "outputs": [
    {
     "name": "stdout",
     "output_type": "stream",
     "text": [
      "-------------------------------------------------------------------------------------------\n",
      "Train MSE: 1.419\n",
      "Train RMSE: 1.191\n",
      "Train R-squared: -2.342\n",
      "-------------------------------------------------------------------------------------------\n",
      "Val MSE: 27.653\n",
      "Val RMSE: 5.259\n",
      "Val R-squared: -28.130\n",
      "-------------------------------------------------------------------------------------------\n",
      "Test MSE:1.149\n",
      "Test RMSE:1.072\n",
      "Test R-squared: -5.377\n"
     ]
    }
   ],
   "source": [
    "model_knn = KNeighborsRegressor()\n",
    "model_knn.fit(X_train_wo_outliers_scaled_post_PCA,y_train_wo_outliers)\n",
    "\n",
    "GetRegressionMetrics(model_knn, X_train_wo_outliers_scaled_post_PCA, y_train_wo_outliers,\n",
    "                     X_pseudo_test_wo_outliers_scaled_post_PCA, y_pseudo_test_wo_outliers,\n",
    "                     X_test_wo_outliers_scaled_post_PCA, y_test_wo_outliers)"
   ]
  },
  {
   "cell_type": "code",
   "execution_count": 104,
   "metadata": {},
   "outputs": [
    {
     "name": "stdout",
     "output_type": "stream",
     "text": [
      "-------------------------------------------------------------------------------------------\n",
      "Train MSE: 0.000\n",
      "Train RMSE: 0.000\n",
      "Train R-squared: 1.000\n",
      "-------------------------------------------------------------------------------------------\n",
      "Val MSE: 0.000\n",
      "Val RMSE: 0.000\n",
      "Val R-squared: 1.000\n",
      "-------------------------------------------------------------------------------------------\n",
      "Test MSE:0.000\n",
      "Test RMSE:0.000\n",
      "Test R-squared: 1.000\n"
     ]
    }
   ],
   "source": [
    "model_knn = KNeighborsRegressor()\n",
    "model_knn.fit(X_train_wo_outliers_scaled_post_PCA,y_train_wo_outliers)\n",
    "\n",
    "GetRegressionMetrics(model_knn, X_train_wo_outliers_scaled_post_PCA, y_train_wo_outliers,\n",
    "                     X_pseudo_test_wo_outliers_scaled_post_PCA, y_pseudo_test_wo_outliers,\n",
    "                     X_test_wo_outliers_scaled_post_PCA, y_test_wo_outliers)"
   ]
  },
  {
   "cell_type": "markdown",
   "metadata": {},
   "source": [
    "###### Observations:"
   ]
  },
  {
   "cell_type": "markdown",
   "metadata": {},
   "source": [
    "##### Tuning n_neighbours"
   ]
  },
  {
   "cell_type": "markdown",
   "metadata": {},
   "source": [
    "##### Tuning weights"
   ]
  },
  {
   "cell_type": "markdown",
   "metadata": {},
   "source": [
    "##### Tuning algo of dist calculation"
   ]
  },
  {
   "cell_type": "markdown",
   "metadata": {},
   "source": [
    "##### Tuning power p"
   ]
  },
  {
   "cell_type": "markdown",
   "metadata": {},
   "source": [
    "##### Tuning dist metric"
   ]
  },
  {
   "cell_type": "markdown",
   "metadata": {},
   "source": [
    "###### Observations:"
   ]
  },
  {
   "cell_type": "markdown",
   "metadata": {},
   "source": [
    "#### Support Vector Regressor"
   ]
  },
  {
   "cell_type": "markdown",
   "metadata": {},
   "source": [
    "##### Baseline"
   ]
  },
  {
   "cell_type": "code",
   "execution_count": 40,
   "metadata": {
    "ExecuteTime": {
     "end_time": "2021-11-27T10:44:22.946640Z",
     "start_time": "2021-11-27T10:44:22.385371Z"
    }
   },
   "outputs": [
    {
     "name": "stdout",
     "output_type": "stream",
     "text": [
      "-------------------------------------------------------------------------------------------\n",
      "Train MSE: 1.302\n",
      "Train RMSE: 1.141\n",
      "Train R-squared: -2.638\n",
      "-------------------------------------------------------------------------------------------\n",
      "Val MSE: 35.555\n",
      "Val RMSE: 5.963\n",
      "Val R-squared: -148.293\n",
      "-------------------------------------------------------------------------------------------\n",
      "Test MSE:0.651\n",
      "Test RMSE:0.807\n",
      "Test R-squared: -2.514\n"
     ]
    }
   ],
   "source": [
    "model_svr = SVR()\n",
    "model_svr.fit(X_train_wo_outliers_scaled_post_PCA,y_train_wo_outliers)\n",
    "GetRegressionMetrics(model_svr, X_train_wo_outliers_scaled_post_PCA, y_train_wo_outliers,\n",
    "                     X_pseudo_test_wo_outliers_scaled_post_PCA, y_pseudo_test_wo_outliers,\n",
    "                     X_test_wo_outliers_scaled_post_PCA, y_test_wo_outliers)"
   ]
  },
  {
   "cell_type": "markdown",
   "metadata": {},
   "source": [
    "###### Observations:"
   ]
  },
  {
   "cell_type": "markdown",
   "metadata": {},
   "source": [
    "##### Tuning reg hp C"
   ]
  },
  {
   "cell_type": "markdown",
   "metadata": {},
   "source": [
    "##### Tuning kernel"
   ]
  },
  {
   "cell_type": "markdown",
   "metadata": {},
   "source": [
    "##### Tuning degree"
   ]
  },
  {
   "cell_type": "markdown",
   "metadata": {},
   "source": [
    "##### Tuning gamma"
   ]
  },
  {
   "cell_type": "markdown",
   "metadata": {},
   "source": [
    "###### Observations:"
   ]
  },
  {
   "cell_type": "markdown",
   "metadata": {},
   "source": [
    "#### Voting Regressor"
   ]
  },
  {
   "cell_type": "markdown",
   "metadata": {},
   "source": [
    "##### Baseline"
   ]
  },
  {
   "cell_type": "code",
   "execution_count": 56,
   "metadata": {
    "ExecuteTime": {
     "end_time": "2021-11-27T10:54:02.349184Z",
     "start_time": "2021-11-27T10:54:01.531199Z"
    }
   },
   "outputs": [
    {
     "name": "stdout",
     "output_type": "stream",
     "text": [
      "-------------------------------------------------------------------------------------------\n",
      "Train MSE: 0.282\n",
      "Train RMSE: 0.531\n",
      "Train R-squared: 0.800\n",
      "-------------------------------------------------------------------------------------------\n",
      "Val MSE: 16.221\n",
      "Val RMSE: 4.028\n",
      "Val R-squared: -2.473\n",
      "-------------------------------------------------------------------------------------------\n",
      "Test MSE:0.405\n",
      "Test RMSE:0.636\n",
      "Test R-squared: 0.147\n"
     ]
    }
   ],
   "source": [
    "estimator = []\n",
    "estimator.append(('LR', LinearRegression()))\n",
    "estimator.append(('SVR', SVR(gamma ='auto')))\n",
    "estimator.append(('DTR', tree.DecisionTreeRegressor()))\n",
    "model_voting_regressor = VotingRegressor(estimators=estimator)\n",
    "model_voting_regressor.fit(X_train_wo_outliers_scaled_post_PCA,y_train_wo_outliers)\n",
    "GetRegressionMetrics(model_voting_regressor, X_train_wo_outliers_scaled_post_PCA, y_train_wo_outliers,\n",
    "                     X_pseudo_test_wo_outliers_scaled_post_PCA, y_pseudo_test_wo_outliers,\n",
    "                     X_test_wo_outliers_scaled_post_PCA, y_test_wo_outliers)"
   ]
  },
  {
   "cell_type": "markdown",
   "metadata": {},
   "source": [
    "###### Observations:"
   ]
  },
  {
   "cell_type": "markdown",
   "metadata": {},
   "source": [
    "#### Bagging Regressor"
   ]
  },
  {
   "cell_type": "markdown",
   "metadata": {},
   "source": [
    "##### Bagging with Linear Regression"
   ]
  },
  {
   "cell_type": "code",
   "execution_count": 43,
   "metadata": {
    "ExecuteTime": {
     "end_time": "2021-11-27T10:49:03.203585Z",
     "start_time": "2021-11-27T10:48:13.112952Z"
    }
   },
   "outputs": [
    {
     "name": "stdout",
     "output_type": "stream",
     "text": [
      "-------------------------------------------------------------------------------------------\n",
      "Train MSE: 36.299\n",
      "Train RMSE: 6.025\n",
      "Train R-squared: 0.123\n",
      "-------------------------------------------------------------------------------------------\n",
      "Val MSE: 93.065\n",
      "Val RMSE: 9.647\n",
      "Val R-squared: 0.268\n",
      "-------------------------------------------------------------------------------------------\n",
      "Test MSE:71.150\n",
      "Test RMSE:8.435\n",
      "Test R-squared: -0.029\n"
     ]
    }
   ],
   "source": [
    "# Let us try to use Linear Regression algo based model as base estimator with Bagging Classifier\n",
    "\n",
    "model_bagging_regressor_linreg = BaggingRegressor(LinearRegression(), n_estimators=500, max_samples=100, bootstrap=True)\n",
    "model_bagging_regressor_linreg.fit(X_train_wo_outliers_scaled_post_PCA, y_train_wo_outliers)\n",
    "GetRegressionMetrics(model_bagging_regressor_linreg, X_train_wo_outliers_scaled_post_PCA, y_train_wo_outliers,\n",
    "                     X_pseudo_test_wo_outliers_scaled_post_PCA, y_pseudo_test_wo_outliers,\n",
    "                     X_test_wo_outliers_scaled_post_PCA, y_test_wo_outliers)"
   ]
  },
  {
   "cell_type": "markdown",
   "metadata": {},
   "source": [
    "##### Bagging with Decision Tree"
   ]
  },
  {
   "cell_type": "code",
   "execution_count": 41,
   "metadata": {
    "ExecuteTime": {
     "end_time": "2021-11-27T10:45:56.841313Z",
     "start_time": "2021-11-27T10:45:50.133120Z"
    }
   },
   "outputs": [
    {
     "name": "stdout",
     "output_type": "stream",
     "text": [
      "-------------------------------------------------------------------------------------------\n",
      "Train MSE: 0.781\n",
      "Train RMSE: 0.884\n",
      "Train R-squared: 0.226\n",
      "-------------------------------------------------------------------------------------------\n",
      "Val MSE: 28.900\n",
      "Val RMSE: 5.376\n",
      "Val R-squared: -27.082\n",
      "-------------------------------------------------------------------------------------------\n",
      "Test MSE:0.717\n",
      "Test RMSE:0.847\n",
      "Test R-squared: -0.141\n"
     ]
    }
   ],
   "source": [
    "# Bagging Regressor in sklearn uses Decision Tree Regressor as the default base estimator. Let us start with this\n",
    "\n",
    "model_bagging_regressor_dtree = BaggingRegressor(tree.DecisionTreeRegressor(), n_estimators=500, max_samples=100, bootstrap=True)\n",
    "model_bagging_regressor_dtree.fit(X_train_wo_outliers_scaled_post_PCA, y_train_wo_outliers)\n",
    "GetRegressionMetrics(model_bagging_regressor_dtree, X_train_wo_outliers_scaled_post_PCA, y_train_wo_outliers,\n",
    "                     X_pseudo_test_wo_outliers_scaled_post_PCA, y_pseudo_test_wo_outliers,\n",
    "                     X_test_wo_outliers_scaled_post_PCA, y_test_wo_outliers)"
   ]
  },
  {
   "cell_type": "markdown",
   "metadata": {},
   "source": [
    "##### Bagging with Random Forest Regressor"
   ]
  },
  {
   "cell_type": "markdown",
   "metadata": {},
   "source": [
    "##### Bagging with KNN Regressor"
   ]
  },
  {
   "cell_type": "code",
   "execution_count": 45,
   "metadata": {
    "ExecuteTime": {
     "end_time": "2021-11-27T10:50:01.507954Z",
     "start_time": "2021-11-27T10:49:48.608541Z"
    }
   },
   "outputs": [
    {
     "name": "stdout",
     "output_type": "stream",
     "text": [
      "-------------------------------------------------------------------------------------------\n",
      "Train MSE: 1.828\n",
      "Train RMSE: 1.352\n",
      "Train R-squared: -14.229\n",
      "-------------------------------------------------------------------------------------------\n",
      "Val MSE: 32.188\n",
      "Val RMSE: 5.673\n",
      "Val R-squared: -142.409\n",
      "-------------------------------------------------------------------------------------------\n",
      "Test MSE:0.935\n",
      "Test RMSE:0.967\n",
      "Test R-squared: -26.549\n"
     ]
    }
   ],
   "source": [
    "# Let us try to use KNeighbours Regressor algo based model as base estimator with Bagging Classifier\n",
    "\n",
    "model_bagging_regressor_knn = BaggingRegressor(KNeighborsRegressor(), n_estimators=500, max_samples=100, bootstrap=True)\n",
    "model_bagging_regressor_knn.fit(X_train_wo_outliers_scaled_post_PCA, y_train_wo_outliers)\n",
    "GetRegressionMetrics(model_bagging_regressor_knn, X_train_wo_outliers_scaled_post_PCA, y_train_wo_outliers,\n",
    "                     X_pseudo_test_wo_outliers_scaled_post_PCA, y_pseudo_test_wo_outliers,\n",
    "                     X_test_wo_outliers_scaled_post_PCA, y_test_wo_outliers)"
   ]
  },
  {
   "cell_type": "markdown",
   "metadata": {},
   "source": [
    "##### Bagging with SVC Regressor"
   ]
  },
  {
   "cell_type": "code",
   "execution_count": 47,
   "metadata": {
    "ExecuteTime": {
     "end_time": "2021-11-27T10:51:08.276879Z",
     "start_time": "2021-11-27T10:50:29.524031Z"
    }
   },
   "outputs": [
    {
     "name": "stdout",
     "output_type": "stream",
     "text": [
      "-------------------------------------------------------------------------------------------\n",
      "Train MSE: 2.259\n",
      "Train RMSE: 1.503\n",
      "Train R-squared: -65.404\n",
      "-------------------------------------------------------------------------------------------\n",
      "Val MSE: 36.466\n",
      "Val RMSE: 6.039\n",
      "Val R-squared: -1520.631\n",
      "-------------------------------------------------------------------------------------------\n",
      "Test MSE:0.964\n",
      "Test RMSE:0.982\n",
      "Test R-squared: -41.898\n"
     ]
    }
   ],
   "source": [
    "# Let us try to use Support Vector Regressor algo based model as base estimator with Bagging Classifier\n",
    "\n",
    "model_bagging_classifier_svr = BaggingRegressor(SVR(), n_estimators=500, max_samples=100, bootstrap=True)\n",
    "model_bagging_classifier_svr.fit(X_train_wo_outliers_scaled_post_PCA, y_train_wo_outliers)\n",
    "GetRegressionMetrics(model_bagging_classifier_svr, X_train_wo_outliers_scaled_post_PCA, y_train_wo_outliers,\n",
    "                     X_pseudo_test_wo_outliers_scaled_post_PCA, y_pseudo_test_wo_outliers,\n",
    "                     X_test_wo_outliers_scaled_post_PCA, y_test_wo_outliers)"
   ]
  },
  {
   "cell_type": "markdown",
   "metadata": {},
   "source": [
    "###### Observations:"
   ]
  },
  {
   "cell_type": "markdown",
   "metadata": {},
   "source": [
    "#### Adaboost Regressor"
   ]
  },
  {
   "cell_type": "markdown",
   "metadata": {},
   "source": [
    "##### Boosting with Linear Regression"
   ]
  },
  {
   "cell_type": "code",
   "execution_count": 58,
   "metadata": {
    "ExecuteTime": {
     "end_time": "2021-11-27T10:55:27.590959Z",
     "start_time": "2021-11-27T10:55:23.252265Z"
    }
   },
   "outputs": [
    {
     "name": "stdout",
     "output_type": "stream",
     "text": [
      "-------------------------------------------------------------------------------------------\n",
      "Train MSE: 0.000\n",
      "Train RMSE: 0.000\n",
      "Train R-squared: 1.000\n",
      "-------------------------------------------------------------------------------------------\n",
      "Val MSE: 0.000\n",
      "Val RMSE: 0.000\n",
      "Val R-squared: 1.000\n",
      "-------------------------------------------------------------------------------------------\n",
      "Test MSE:0.000\n",
      "Test RMSE:0.000\n",
      "Test R-squared: 1.000\n"
     ]
    }
   ],
   "source": [
    "model_adaboost_regressor_linreg = AdaBoostRegressor(LinearRegression(), n_estimators=50)\n",
    "model_adaboost_regressor_linreg.fit(X_train_wo_outliers_scaled_post_PCA, y_train_wo_outliers)\n",
    "GetRegressionMetrics(model_adaboost_regressor_linreg, X_train_wo_outliers_scaled_post_PCA, y_train_wo_outliers,\n",
    "                     X_pseudo_test_wo_outliers_scaled_post_PCA, y_pseudo_test_wo_outliers,\n",
    "                     X_test_wo_outliers_scaled_post_PCA, y_test_wo_outliers)"
   ]
  },
  {
   "cell_type": "markdown",
   "metadata": {},
   "source": [
    "##### Boosting with Decision Tree Regressor"
   ]
  },
  {
   "cell_type": "code",
   "execution_count": 57,
   "metadata": {
    "ExecuteTime": {
     "end_time": "2021-11-27T10:54:46.649235Z",
     "start_time": "2021-11-27T10:54:45.907488Z"
    }
   },
   "outputs": [
    {
     "name": "stdout",
     "output_type": "stream",
     "text": [
      "-------------------------------------------------------------------------------------------\n",
      "Train MSE: 4.165\n",
      "Train RMSE: 2.041\n",
      "Train R-squared: -4.077\n",
      "-------------------------------------------------------------------------------------------\n",
      "Val MSE: 28.959\n",
      "Val RMSE: 5.381\n",
      "Val R-squared: -29.133\n",
      "-------------------------------------------------------------------------------------------\n",
      "Test MSE:4.179\n",
      "Test RMSE:2.044\n",
      "Test R-squared: -32.742\n"
     ]
    }
   ],
   "source": [
    "model_adaboost_regressor_dtree = AdaBoostRegressor(tree.DecisionTreeRegressor(max_depth=1), n_estimators=50)\n",
    "model_adaboost_regressor_dtree.fit(X_train_wo_outliers_scaled_post_PCA, y_train_wo_outliers)\n",
    "GetRegressionMetrics(model_adaboost_regressor_dtree, X_train_wo_outliers_scaled_post_PCA, y_train_wo_outliers,\n",
    "                     X_pseudo_test_wo_outliers_scaled_post_PCA, y_pseudo_test_wo_outliers,\n",
    "                     X_test_wo_outliers_scaled_post_PCA, y_test_wo_outliers)"
   ]
  },
  {
   "cell_type": "markdown",
   "metadata": {},
   "source": [
    "##### Boosting with Random Forest Regressor"
   ]
  },
  {
   "cell_type": "markdown",
   "metadata": {},
   "source": [
    "##### Boosting with KNN Regressor"
   ]
  },
  {
   "cell_type": "markdown",
   "metadata": {},
   "source": [
    "##### Boosting with SVC Regressor"
   ]
  },
  {
   "cell_type": "markdown",
   "metadata": {},
   "source": [
    "#### Gradient Boosting Regressor"
   ]
  },
  {
   "cell_type": "markdown",
   "metadata": {},
   "source": [
    "##### Baseline"
   ]
  },
  {
   "cell_type": "code",
   "execution_count": 59,
   "metadata": {
    "ExecuteTime": {
     "end_time": "2021-11-27T10:56:14.126325Z",
     "start_time": "2021-11-27T10:56:09.628050Z"
    }
   },
   "outputs": [
    {
     "name": "stdout",
     "output_type": "stream",
     "text": [
      "-------------------------------------------------------------------------------------------\n",
      "Train MSE: 0.016\n",
      "Train RMSE: 0.128\n",
      "Train R-squared: 0.993\n",
      "-------------------------------------------------------------------------------------------\n",
      "Val MSE: 23.030\n",
      "Val RMSE: 4.799\n",
      "Val R-squared: -6.802\n",
      "-------------------------------------------------------------------------------------------\n",
      "Test MSE:0.386\n",
      "Test RMSE:0.621\n",
      "Test R-squared: 0.413\n"
     ]
    }
   ],
   "source": [
    "model_gdboost_regressor = GradientBoostingRegressor(random_state=3)\n",
    "model_gdboost_regressor.fit(X_train_wo_outliers_scaled_post_PCA, y_train_wo_outliers)\n",
    "GetRegressionMetrics(model_gdboost_regressor, X_train_wo_outliers_scaled_post_PCA, y_train_wo_outliers,\n",
    "                     X_pseudo_test_wo_outliers_scaled_post_PCA, y_pseudo_test_wo_outliers,\n",
    "                     X_test_wo_outliers_scaled_post_PCA, y_test_wo_outliers)"
   ]
  },
  {
   "cell_type": "markdown",
   "metadata": {},
   "source": [
    "###### Observations:"
   ]
  },
  {
   "cell_type": "markdown",
   "metadata": {},
   "source": [
    "##### Tuning learning rate"
   ]
  },
  {
   "cell_type": "markdown",
   "metadata": {},
   "source": [
    "##### Tuning num of estimators"
   ]
  },
  {
   "cell_type": "markdown",
   "metadata": {},
   "source": [
    "##### Tuning criterion"
   ]
  },
  {
   "cell_type": "markdown",
   "metadata": {},
   "source": [
    "##### Tuning max depth"
   ]
  },
  {
   "cell_type": "markdown",
   "metadata": {},
   "source": [
    "##### Tuning max features"
   ]
  },
  {
   "cell_type": "markdown",
   "metadata": {},
   "source": [
    "###### Observations:"
   ]
  },
  {
   "cell_type": "markdown",
   "metadata": {},
   "source": [
    "#### SGD Regressor"
   ]
  },
  {
   "cell_type": "markdown",
   "metadata": {},
   "source": [
    "##### Baseline"
   ]
  },
  {
   "cell_type": "code",
   "execution_count": 60,
   "metadata": {
    "ExecuteTime": {
     "end_time": "2021-11-27T10:57:10.510442Z",
     "start_time": "2021-11-27T10:57:10.464793Z"
    }
   },
   "outputs": [
    {
     "name": "stdout",
     "output_type": "stream",
     "text": [
      "-------------------------------------------------------------------------------------------\n",
      "Train MSE: 0.419\n",
      "Train RMSE: 0.647\n",
      "Train R-squared: 0.799\n",
      "-------------------------------------------------------------------------------------------\n",
      "Val MSE: 3.114\n",
      "Val RMSE: 1.765\n",
      "Val R-squared: 0.854\n",
      "-------------------------------------------------------------------------------------------\n",
      "Test MSE:0.591\n",
      "Test RMSE:0.769\n",
      "Test R-squared: 0.538\n"
     ]
    }
   ],
   "source": [
    "model_sgd_regressor = SGDRegressor(random_state=3)\n",
    "model_sgd_regressor.fit(X_train_wo_outliers_scaled_post_PCA,y_train_wo_outliers)\n",
    "GetRegressionMetrics(model_sgd_regressor, X_train_wo_outliers_scaled_post_PCA, y_train_wo_outliers,\n",
    "                     X_pseudo_test_wo_outliers_scaled_post_PCA, y_pseudo_test_wo_outliers,\n",
    "                     X_test_wo_outliers_scaled_post_PCA, y_test_wo_outliers)"
   ]
  },
  {
   "cell_type": "markdown",
   "metadata": {},
   "source": [
    "###### Observations:"
   ]
  },
  {
   "cell_type": "markdown",
   "metadata": {},
   "source": [
    "#### XGB Regressor"
   ]
  },
  {
   "cell_type": "markdown",
   "metadata": {},
   "source": [
    "##### Baseline with Tree Model Boosting"
   ]
  },
  {
   "cell_type": "code",
   "execution_count": 61,
   "metadata": {
    "ExecuteTime": {
     "end_time": "2021-11-27T10:58:00.648772Z",
     "start_time": "2021-11-27T10:57:59.561829Z"
    }
   },
   "outputs": [
    {
     "name": "stdout",
     "output_type": "stream",
     "text": [
      "-------------------------------------------------------------------------------------------\n",
      "Train MSE: 0.000\n",
      "Train RMSE: 0.001\n",
      "Train R-squared: 1.000\n",
      "-------------------------------------------------------------------------------------------\n",
      "Val MSE: 22.918\n",
      "Val RMSE: 4.787\n",
      "Val R-squared: -6.474\n",
      "-------------------------------------------------------------------------------------------\n",
      "Test MSE:0.553\n",
      "Test RMSE:0.743\n",
      "Test R-squared: 0.228\n"
     ]
    }
   ],
   "source": [
    "model_xgboost_regressor_tree = XGBRegressor(random_state=3)\n",
    "model_xgboost_regressor_tree.fit(X_train_wo_outliers_scaled_post_PCA, y_train_wo_outliers)\n",
    "GetRegressionMetrics(model_xgboost_regressor_tree, X_train_wo_outliers_scaled_post_PCA, y_train_wo_outliers,\n",
    "                     X_pseudo_test_wo_outliers_scaled_post_PCA, y_pseudo_test_wo_outliers,\n",
    "                     X_test_wo_outliers_scaled_post_PCA, y_test_wo_outliers)"
   ]
  },
  {
   "cell_type": "markdown",
   "metadata": {},
   "source": [
    "##### Baseline with Linear Model Boosting"
   ]
  },
  {
   "cell_type": "code",
   "execution_count": 62,
   "metadata": {
    "ExecuteTime": {
     "end_time": "2021-11-27T10:58:31.308096Z",
     "start_time": "2021-11-27T10:58:31.160216Z"
    }
   },
   "outputs": [
    {
     "name": "stdout",
     "output_type": "stream",
     "text": [
      "-------------------------------------------------------------------------------------------\n",
      "Train MSE: 0.415\n",
      "Train RMSE: 0.644\n",
      "Train R-squared: 0.812\n",
      "-------------------------------------------------------------------------------------------\n",
      "Val MSE: 2.828\n",
      "Val RMSE: 1.682\n",
      "Val R-squared: 0.874\n",
      "-------------------------------------------------------------------------------------------\n",
      "Test MSE:0.602\n",
      "Test RMSE:0.776\n",
      "Test R-squared: 0.547\n"
     ]
    }
   ],
   "source": [
    "model_xgboost_regressor_lin = XGBRegressor(random_state=3, booster='gblinear')\n",
    "model_xgboost_regressor_lin.fit(X_train_wo_outliers_scaled_post_PCA, y_train_wo_outliers)\n",
    "GetRegressionMetrics(model_xgboost_regressor_lin, X_train_wo_outliers_scaled_post_PCA, y_train_wo_outliers,\n",
    "                     X_pseudo_test_wo_outliers_scaled_post_PCA, y_pseudo_test_wo_outliers,\n",
    "                     X_test_wo_outliers_scaled_post_PCA, y_test_wo_outliers)"
   ]
  },
  {
   "cell_type": "markdown",
   "metadata": {},
   "source": [
    "###### Observations:"
   ]
  },
  {
   "cell_type": "markdown",
   "metadata": {},
   "source": [
    "##### Tuning subsample"
   ]
  },
  {
   "cell_type": "markdown",
   "metadata": {},
   "source": [
    "##### Tuning colsample by tree"
   ]
  },
  {
   "cell_type": "markdown",
   "metadata": {},
   "source": [
    "##### Tuning colsample by level"
   ]
  },
  {
   "cell_type": "markdown",
   "metadata": {},
   "source": [
    "###### Observations:"
   ]
  },
  {
   "cell_type": "markdown",
   "metadata": {},
   "source": [
    "### Final Observations on Machine Learning Exercise"
   ]
  },
  {
   "cell_type": "markdown",
   "metadata": {},
   "source": [
    "## Applying Deep Learning"
   ]
  },
  {
   "cell_type": "markdown",
   "metadata": {},
   "source": [
    "### Importing Deep Learning Libraries"
   ]
  },
  {
   "cell_type": "code",
   "execution_count": 63,
   "metadata": {
    "ExecuteTime": {
     "end_time": "2021-11-27T10:59:30.864176Z",
     "start_time": "2021-11-27T10:59:21.456711Z"
    }
   },
   "outputs": [],
   "source": [
    "# Building Deep Learning Models\n",
    "import tensorflow as tf\n",
    "from keras.models import Sequential\n",
    "from keras.layers import Dense, Dropout, BatchNormalization\n",
    "from keras.callbacks import EarlyStopping\n",
    "from keras.callbacks import ModelCheckpoint\n",
    "from keras.models import load_model\n",
    "from keras import backend as K\n",
    "import kerastuner as kt\n",
    "from kerastuner import HyperModel, RandomSearch, Hyperband, BayesianOptimization"
   ]
  },
  {
   "cell_type": "markdown",
   "metadata": {},
   "source": [
    "### Setting Seed"
   ]
  },
  {
   "cell_type": "code",
   "execution_count": 64,
   "metadata": {
    "ExecuteTime": {
     "end_time": "2021-11-27T10:59:34.229484Z",
     "start_time": "2021-11-27T10:59:33.072197Z"
    }
   },
   "outputs": [],
   "source": [
    "# Seed value\n",
    "# Apparently you may use different seed values at each stage\n",
    "seed_value= 0\n",
    "\n",
    "# 1. Set `PYTHONHASHSEED` environment variable at a fixed value\n",
    "import os\n",
    "os.environ['PYTHONHASHSEED']=str(seed_value)\n",
    "\n",
    "# 2. Set `python` built-in pseudo-random generator at a fixed value\n",
    "import random\n",
    "random.seed(seed_value)\n",
    "\n",
    "# 3. Set `numpy` pseudo-random generator at a fixed value\n",
    "import numpy as np\n",
    "np.random.seed(seed_value)\n",
    "\n",
    "# 4. Set the `tensorflow` pseudo-random generator at a fixed value\n",
    "import tensorflow as tf\n",
    "tf.compat.v1.set_random_seed(seed_value)\n",
    "\n",
    "# 5. Configure a new global `tensorflow` session\n",
    "from keras import backend as K\n",
    "session_conf = tf.compat.v1.ConfigProto(intra_op_parallelism_threads=1, inter_op_parallelism_threads=1)\n",
    "sess = tf.compat.v1.Session(graph=tf.compat.v1.get_default_graph(), config=session_conf)\n",
    "tf.compat.v1.keras.backend.set_session(sess)"
   ]
  },
  {
   "cell_type": "markdown",
   "metadata": {},
   "source": [
    "### Baseline Architecture - Simple Model"
   ]
  },
  {
   "cell_type": "markdown",
   "metadata": {},
   "source": [
    "### Adding One Dropout Layer"
   ]
  },
  {
   "cell_type": "markdown",
   "metadata": {},
   "source": [
    "### Adding Multiple Dropout Layers"
   ]
  },
  {
   "cell_type": "markdown",
   "metadata": {},
   "source": [
    "### Adding Regularization Layer - L1"
   ]
  },
  {
   "cell_type": "markdown",
   "metadata": {},
   "source": [
    "####   Single Layer Model"
   ]
  },
  {
   "cell_type": "markdown",
   "metadata": {},
   "source": [
    "#### Multi Layer Model"
   ]
  },
  {
   "cell_type": "markdown",
   "metadata": {},
   "source": [
    "### Adding Regularization Layer - L2"
   ]
  },
  {
   "cell_type": "markdown",
   "metadata": {},
   "source": [
    "#### Single Layer Model"
   ]
  },
  {
   "cell_type": "markdown",
   "metadata": {},
   "source": [
    "#### Multi Layer Model"
   ]
  },
  {
   "cell_type": "markdown",
   "metadata": {},
   "source": [
    "### Adding Callbacks"
   ]
  },
  {
   "cell_type": "markdown",
   "metadata": {},
   "source": [
    "#### Single Layer ANN"
   ]
  },
  {
   "cell_type": "markdown",
   "metadata": {},
   "source": [
    "#### Callback with Multiple Dropout Layers"
   ]
  },
  {
   "cell_type": "markdown",
   "metadata": {},
   "source": [
    "#### Callback with Multiple Dropout Layers and Regularization Layer L1"
   ]
  },
  {
   "cell_type": "markdown",
   "metadata": {},
   "source": [
    "#### Callback with Multiple Dropout Layers and Regularization Layer L2"
   ]
  },
  {
   "cell_type": "markdown",
   "metadata": {},
   "source": [
    "### Adding Optimiser to Multi Layer ANN with Multiple Dropouts, Callbacks and Regularization Layer L1"
   ]
  },
  {
   "cell_type": "markdown",
   "metadata": {},
   "source": [
    "####     Adding Optimiser to Multi Layer ANN with Multiple Dropouts, Callbacks and Regularization Layer L2"
   ]
  },
  {
   "cell_type": "markdown",
   "metadata": {},
   "source": [
    "### Adding Batch Normalization with Multi Layered ANN"
   ]
  },
  {
   "cell_type": "markdown",
   "metadata": {},
   "source": [
    "#### Callback with BN on Multi Layer ANN without Regularization, Without Dropout and Without Optimiser"
   ]
  },
  {
   "cell_type": "markdown",
   "metadata": {},
   "source": [
    "###### Observations"
   ]
  },
  {
   "cell_type": "markdown",
   "metadata": {},
   "source": [
    "### Hyperparameter Tuning"
   ]
  },
  {
   "cell_type": "markdown",
   "metadata": {},
   "source": [
    "#### Building RandomSearch Tuner"
   ]
  },
  {
   "cell_type": "markdown",
   "metadata": {},
   "source": [
    "#### Building Bayesian Optimisation Tuner"
   ]
  },
  {
   "cell_type": "markdown",
   "metadata": {},
   "source": [
    "#### Building Hyperband Tuner"
   ]
  },
  {
   "cell_type": "markdown",
   "metadata": {},
   "source": [
    "### Model Evaluation"
   ]
  },
  {
   "cell_type": "markdown",
   "metadata": {},
   "source": [
    "#### Final Observations"
   ]
  },
  {
   "cell_type": "markdown",
   "metadata": {},
   "source": [
    "#### Top 3 Models in RMSE and R-squared"
   ]
  },
  {
   "cell_type": "markdown",
   "metadata": {},
   "source": [
    "#### Model Selection"
   ]
  },
  {
   "cell_type": "markdown",
   "metadata": {},
   "source": [
    "#### Model Pickling for Submission"
   ]
  },
  {
   "cell_type": "markdown",
   "metadata": {},
   "source": [
    "## Sources & References"
   ]
  }
 ],
 "metadata": {
  "kernelspec": {
   "display_name": "Python 3",
   "language": "python",
   "name": "python3"
  },
  "language_info": {
   "codemirror_mode": {
    "name": "ipython",
    "version": 3
   },
   "file_extension": ".py",
   "mimetype": "text/x-python",
   "name": "python",
   "nbconvert_exporter": "python",
   "pygments_lexer": "ipython3",
   "version": "3.9.2"
  },
  "toc": {
   "base_numbering": 1,
   "nav_menu": {},
   "number_sections": true,
   "sideBar": true,
   "skip_h1_title": false,
   "title_cell": "Table of Contents",
   "title_sidebar": "Contents",
   "toc_cell": true,
   "toc_position": {
    "height": "calc(100% - 180px)",
    "left": "10px",
    "top": "150px",
    "width": "359.2px"
   },
   "toc_section_display": true,
   "toc_window_display": true
  },
  "varInspector": {
   "cols": {
    "lenName": 16,
    "lenType": 16,
    "lenVar": 40
   },
   "kernels_config": {
    "python": {
     "delete_cmd_postfix": "",
     "delete_cmd_prefix": "del ",
     "library": "var_list.py",
     "varRefreshCmd": "print(var_dic_list())"
    },
    "r": {
     "delete_cmd_postfix": ") ",
     "delete_cmd_prefix": "rm(",
     "library": "var_list.r",
     "varRefreshCmd": "cat(var_dic_list()) "
    }
   },
   "types_to_exclude": [
    "module",
    "function",
    "builtin_function_or_method",
    "instance",
    "_Feature"
   ],
   "window_display": false
  }
 },
 "nbformat": 4,
 "nbformat_minor": 2
}
